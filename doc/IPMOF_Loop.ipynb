{
 "cells": [
  {
   "cell_type": "markdown",
   "metadata": {},
   "source": [
    "### IPMOF - InterPenetrating Metal Organic Frameworks\n",
    "\n",
    "#### Initialize necessary information\n",
    "\n",
    "1. Read FF_Parameters excel file to get force field parameters for atoms\n",
    "2. Initialize force field selection, cut_off radius and grid size for energy map\n",
    "\n",
    "#### Read structural information for MOF files in a given directory\n",
    "1. Read MOF files in \".mol2\" format from given directory and create a list\n",
    "2. Create MOF objects for structure files\n",
    "3. Initialize structural information for the MOFs\n",
    "\n",
    "#### Read simulation input parameters\n",
    "1. Read simulation parameters from input file\n",
    "\n",
    "#### Calculate energy map\n",
    "1. Determine packing amount of the MOF\n",
    "2. Calculate packed coordinates for the base MOF\n",
    "3. Calculate energy map\n",
    "\n",
    "#### Start interpenetration\n",
    "1. Energy map + mobile_mof"
   ]
  },
  {
   "cell_type": "code",
   "execution_count": null,
   "metadata": {
    "collapsed": false
   },
   "outputs": [],
   "source": [
    "import os\n",
    "import math\n",
    "import time\n",
    "\n",
    "# Load 3rd party libraries\n",
    "import yaml\n",
    "\n",
    "# Load interpenetration python libraries\n",
    "from ipmof.crystal import MOF\n",
    "from ipmof.forcefield import read_ff_parameters\n",
    "from ipmof.energymap import energy_map, get_mof_list, get_uniq_atom_list\n",
    "from ipmof.interpenetration import run_interpenetration, check_extension, save_extension\n",
    "from ipmof.core import core_mof_properties, core_mof_sort, core_mof_dir\n",
    "# --------------------------------------------------------------------------------------------------\n",
    "from ipmof.parameters import sim_dir_data as sim_dir\n",
    "from ipmof.parameters import sim_par_data as sim_par\n",
    "\n",
    "start_time = time.clock()\n",
    "\n",
    "# Read excel file containing force field information\n",
    "force_field = read_ff_parameters(sim_dir['force_field_path'], sim_par['force_field'])"
   ]
  },
  {
   "cell_type": "code",
   "execution_count": null,
   "metadata": {
    "collapsed": false
   },
   "outputs": [],
   "source": [
    "# Create MOf list from CoRE database\n",
    "mof_properties = core_mof_properties(sim_dir['core_path'])\n",
    "\n",
    "sorted_mofs = core_mof_sort(mof_properties, sort='void_fraction', limit=0.86)\n",
    "mol2_list = core_mof_dir(sorted_mofs, sim_dir['mol2_dir'])"
   ]
  },
  {
   "cell_type": "code",
   "execution_count": null,
   "metadata": {
    "collapsed": false
   },
   "outputs": [],
   "source": [
    "mof_list = get_mof_list(mol2_list, force_field)\n",
    "atom_list = get_uniq_atom_list(mof_list)\n",
    "print(mof_list)"
   ]
  },
  {
   "cell_type": "code",
   "execution_count": null,
   "metadata": {
    "collapsed": false,
    "scrolled": false
   },
   "outputs": [],
   "source": [
    "for base_mof_index, base_mof in enumerate(mof_list):\n",
    "\n",
    "    print('Base MOF selected as: ', base_mof.name)\n",
    "    extended_structure = base_mof.extend_unit_cell(sim_par['cut_off'])\n",
    "    \n",
    "    print('Calculating emap for', base_mof.name, 'with atoms:', atom_list['atom'])\n",
    "\n",
    "    # Calculate atom list for remaining MOFs\n",
    "    atom_list = get_uniq_atom_list(mof_list[base_mof_index:])\n",
    "    \n",
    "    # Calculate energy map\n",
    "    emap = energy_map(sim_par, base_mof, atom_list)\n",
    "    \n",
    "    for mobile_mof_index, mobile_mof in enumerate(mof_list):\n",
    "\n",
    "        if mobile_mof_index >= base_mof_index:\n",
    "\n",
    "            print('Mobile MOF selected as: ', mobile_mof.name)\n",
    "\n",
    "            extended_structure = base_mof.extend_unit_cell(sim_par['cut_off'])\n",
    "\n",
    "            # Run interpenetration\n",
    "            summary, new_structures = run_interpenetration(sim_par, base_mof, mobile_mof, emap, atom_list)\n",
    "\n",
    "            if len(new_structures) > 0:\n",
    "                print('Interpenetration found. Structure count:', len(new_structures))\n",
    "                print('MOF1:', base_mof.name, 'MOF2:', mobile_mof.name)\n",
    "                # Get minimum energy structure by sorting total structure energies\n",
    "                min_energy_structure = sorted(new_structures, key=lambda k: k['energy'])[0]\n",
    "                \n",
    "                # Add for loop here for min_energy_structures\n",
    "\n",
    "                # Check for collision in the extended unitcell of new structure and energy map\n",
    "                collision = check_extension(sim_par, base_mof, mobile_mof, emap, atom_list, min_energy_structure)\n",
    "                print('Collision:', collision)\n",
    "\n",
    "                # Get structure information for the interpenetrating structure\n",
    "                ext_structure = save_extension(sim_par, base_mof, mobile_mof, emap, atom_list, min_energy_structure)\n",
    "\n",
    "                # Extend MOF coordinates and get atom names and coordinates of extended unit cells of MOF object\n",
    "                extended_structure = base_mof.extend_unit_cell(sim_par['cut_off'])\n",
    "\n",
    "                # Create new MOF objects for base and mobile MOFs\n",
    "                ext_base_mof = MOF(extended_structure, file_format='dict')\n",
    "                ext_mobile_mof = MOF(ext_structure, file_format='dict')\n",
    "\n",
    "                # Join base and mobile structure layers\n",
    "                joined_mof = ext_base_mof.join(ext_mobile_mof, colorify=sim_par['export_colorify'])\n",
    "\n",
    "                # Export to xyz format\n",
    "                joined_mof.export(sim_dir['export_dir'], file_format=sim_par['export_format'])\n",
    "            else:\n",
    "                print('No interpenetration.')"
   ]
  },
  {
   "cell_type": "code",
   "execution_count": null,
   "metadata": {
    "collapsed": false
   },
   "outputs": [],
   "source": []
  },
  {
   "cell_type": "code",
   "execution_count": null,
   "metadata": {
    "collapsed": false
   },
   "outputs": [],
   "source": []
  },
  {
   "cell_type": "code",
   "execution_count": null,
   "metadata": {
    "collapsed": true
   },
   "outputs": [],
   "source": []
  }
 ],
 "metadata": {
  "kernelspec": {
   "display_name": "Python 3",
   "language": "python",
   "name": "python3"
  },
  "language_info": {
   "codemirror_mode": {
    "name": "ipython",
    "version": 3
   },
   "file_extension": ".py",
   "mimetype": "text/x-python",
   "name": "python",
   "nbconvert_exporter": "python",
   "pygments_lexer": "ipython3",
   "version": "3.5.1"
  }
 },
 "nbformat": 4,
 "nbformat_minor": 0
}
