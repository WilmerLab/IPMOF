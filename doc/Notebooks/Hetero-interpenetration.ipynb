{
 "cells": [
  {
   "cell_type": "code",
   "execution_count": null,
   "metadata": {
    "collapsed": true
   },
   "outputs": [],
   "source": [
    "import os\n",
    "\n",
    "notebook_dir = os.getcwd()\n",
    "# Navigate to ipmof library directory\n",
    "os.chdir(os.path.join(os.getcwd(), '..', '..'))\n",
    "from ipmof.crystal import MOF\n",
    "from ipmof.forcefield import read_ff_parameters\n",
    "from ipmof.energymap import energy_map, energy_map_atom_list\n",
    "from ipmof.parameters import read_parameters\n",
    "from ipmof.interpenetration import run_interpenetration, get_interpenetration_list"
   ]
  },
  {
   "cell_type": "markdown",
   "metadata": {},
   "source": [
    "## Reading .cif files into MOF object using [ASE](https://wiki.fysik.dtu.dk/ase/) library"
   ]
  },
  {
   "cell_type": "code",
   "execution_count": null,
   "metadata": {
    "collapsed": false
   },
   "outputs": [],
   "source": [
    "# Select MOF directory\n",
    "supercell_dir = os.path.join(notebook_dir, 'Supercell')\n",
    "mof1_path = os.path.join(supercell_dir, 'LEHXUT.cif')\n",
    "mof2_path = os.path.join(supercell_dir, 'XAMDUM02.cif')\n",
    "\n",
    "mof1 = MOF(mof1_path)\n",
    "mof2 = MOF(mof2_path)\n",
    "print('Reading MOFs: %s + %s' % (mof1.name, mof2.name))"
   ]
  },
  {
   "cell_type": "markdown",
   "metadata": {},
   "source": [
    "## Initializing simulation parameters and directories"
   ]
  },
  {
   "cell_type": "code",
   "execution_count": null,
   "metadata": {
    "collapsed": true
   },
   "outputs": [],
   "source": [
    "# Read simulation parameters and directories\n",
    "sim_par, sim_dir = read_parameters()\n",
    "\n",
    "# Don't try homo-interpenetration\n",
    "sim_par['self_interpenetration'] = False\n",
    "\n",
    "# Read files and export to supercell directory in Notebooks\n",
    "sim_dir['export_dir'] = supercell_dir\n",
    "sim_dir['energy_map_dir'] = supercell_dir\n",
    "sim_dir['mof_dir'] = supercell_dir\n",
    "\n",
    "# Read excel file containing force field information\n",
    "force_field = read_ff_parameters(sim_dir['force_field_path'], sim_par['force_field'])\n",
    "\n",
    "# Calculate atom list according to 'energy_map_atom_list' simulation parameter\n",
    "atom_list = energy_map_atom_list(sim_par, force_field, mof_path_list)"
   ]
  },
  {
   "cell_type": "markdown",
   "metadata": {},
   "source": [
    "## Generating energymap"
   ]
  },
  {
   "cell_type": "code",
   "execution_count": null,
   "metadata": {
    "collapsed": false
   },
   "outputs": [],
   "source": [
    "# Export initialization file containing MOF names and simulation parameters\n",
    "print('Starting energy map calculation for', mof1.name, 'with grid size:',\n",
    "      sim_par['grid_size'], '| cut-off radius:', str(sim_par['cut_off']))\n",
    "print('Atom list ->', atom_list['atom'])\n",
    "print('Atom list type: %s' % sim_par['energy_map_atom_list'])\n",
    "print('Energy map(s) will be exported in', sim_par['energy_map_type'], 'format')\n",
    "print('-' * 80)\n",
    "print('Calculating energy map for ->', os.path.basename(mof1_path))\n",
    "print('This will take a while...')\n",
    "emap = energy_map(sim_par, mof1_path, atom_list, force_field)\n",
    "print('Done!')"
   ]
  },
  {
   "cell_type": "markdown",
   "metadata": {},
   "source": [
    "## Running interpenetration test"
   ]
  },
  {
   "cell_type": "code",
   "execution_count": null,
   "metadata": {
    "collapsed": false
   },
   "outputs": [],
   "source": [
    "emap_path = os.path.join(supercell_dir, '%s_emap.npy' % mof1.name)\n",
    "emap_mof_path = mof1_path\n",
    "ip_mof_path = mof2_path\n",
    "interpenetration_path = (emap_path, emap_mof_path, ip_mof_path)\n",
    "print('Initializing interpenetration for 1 MOF combination...')\n",
    "print('-' * 80, '\\nEnergy map ->', os.path.basename(emap_path))\n",
    "print('Interpenetration ->', os.path.basename(ip_mof_path) + '\\n' + '-' * 80)\n",
    "\n",
    "run_interpenetration(interpenetration_path, sim_par, sim_dir)\n",
    "print('Exporting results to: %s' % sim_dir['export_dir'])\n",
    "print('Done!')"
   ]
  },
  {
   "cell_type": "code",
   "execution_count": null,
   "metadata": {
    "collapsed": false
   },
   "outputs": [],
   "source": []
  }
 ],
 "metadata": {
  "kernelspec": {
   "display_name": "Python 3",
   "language": "python",
   "name": "python3"
  },
  "language_info": {
   "codemirror_mode": {
    "name": "ipython",
    "version": 3
   },
   "file_extension": ".py",
   "mimetype": "text/x-python",
   "name": "python",
   "nbconvert_exporter": "python",
   "pygments_lexer": "ipython3",
   "version": "3.5.1"
  }
 },
 "nbformat": 4,
 "nbformat_minor": 0
}
