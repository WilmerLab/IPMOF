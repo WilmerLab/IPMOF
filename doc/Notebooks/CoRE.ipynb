{
 "cells": [
  {
   "cell_type": "markdown",
   "metadata": {},
   "source": [
    "### IPMOF core library\n",
    "\n",
    "IPMOF provides direct integration with [CoRE MOF database](http://pubs.acs.org/doi/abs/10.1021/cm502594j)\n",
    "\n",
    "Using *~/ipmof/core* library, structural properties for MOFs in the database can be gathered and MOFs can be sorted according to any property. This would allow selection of a subset of MOFs which can be then used with the algorithm to test interpenetration. Additionally, a subset of MOFs can also be selected by considering total void fraction of a MOF pair.\n",
    "\n",
    "The structural properties are read from *~/doc/CoRE.xlsx* and void fraction values are read from *~/doc/core_mof_vf_list.yaml*. The void fraction values are calculated using [RASPA2](https://github.com/WilmerLab/raspa2)."
   ]
  },
  {
   "cell_type": "code",
   "execution_count": 1,
   "metadata": {
    "collapsed": false
   },
   "outputs": [],
   "source": [
    "import os\n",
    "import sys\n",
    "\n",
    "# Navigate to ipmof library directory\n",
    "os.chdir(os.path.join(os.getcwd(), '..', '..'))"
   ]
  },
  {
   "cell_type": "code",
   "execution_count": 2,
   "metadata": {
    "collapsed": false
   },
   "outputs": [],
   "source": [
    "from ipmof.parameters import sim_dir_data as sim_dir\n",
    "from ipmof.core import core_mof_properties, core_mof_sort, core_mof_vf_list"
   ]
  },
  {
   "cell_type": "markdown",
   "metadata": {},
   "source": [
    "### Reading MOF properties"
   ]
  },
  {
   "cell_type": "code",
   "execution_count": 3,
   "metadata": {
    "collapsed": false
   },
   "outputs": [
    {
     "name": "stdout",
     "output_type": "stream",
     "text": [
      "Properties read for 5109 MOFs\n"
     ]
    }
   ],
   "source": [
    "mof_properties = core_mof_properties(sim_dir['core_path'])\n",
    "print('Properties read for %i MOFs' % len(mof_properties['mof_name']))"
   ]
  },
  {
   "cell_type": "code",
   "execution_count": 4,
   "metadata": {
    "collapsed": false
   },
   "outputs": [
    {
     "name": "stdout",
     "output_type": "stream",
     "text": [
      "Properties for ABUWOJ:\n",
      "Metal type: Zn\n",
      "Density in g/cm3: 1.15833\n",
      "Pore limiting dimater in Angstrom: 4.03039\n",
      "Largest cavity diameter in Angstrom: 5.07969\n",
      "Volumetric surface area in m2/cm3: 1007.55\n",
      "Gravimetric surface area in m2/g: 869.832\n",
      "Void fraction: 0.545974\n",
      "Pore volume in cm3/g: 0.532253\n"
     ]
    }
   ],
   "source": [
    "# Print properties for a given MOF using its index\n",
    "mof_index = 12\n",
    "\n",
    "print('Properties for %s:' % mof_properties['mof_name'][mof_index])\n",
    "print('Metal type: %s' % mof_properties['metal_type'][mof_index])\n",
    "print('Density in g/cm3: %s' % mof_properties['density'][mof_index])\n",
    "print('Pore limiting dimater in Angstrom: %s' % mof_properties['pld'][mof_index])\n",
    "print('Largest cavity diameter in Angstrom: %s' % mof_properties['lcd'][mof_index])\n",
    "print('Volumetric surface area in m2/cm3: %s' % mof_properties['vsa'][mof_index])\n",
    "print('Gravimetric surface area in m2/g: %s' % mof_properties['gsa'][mof_index])\n",
    "print('Void fraction: %s' % mof_properties['void_fraction'][mof_index])\n",
    "print('Pore volume in cm3/g: %s' % mof_properties['pore_volume'][mof_index])"
   ]
  },
  {
   "cell_type": "markdown",
   "metadata": {
    "collapsed": false
   },
   "source": [
    "### Sorting MOFs according to given property"
   ]
  },
  {
   "cell_type": "code",
   "execution_count": 5,
   "metadata": {
    "collapsed": false
   },
   "outputs": [
    {
     "name": "stdout",
     "output_type": "stream",
     "text": [
      "Gathered a total of 254 MOFs\n",
      "With void_fraction > 0.8\n"
     ]
    }
   ],
   "source": [
    "sorted_mofs = core_mof_sort(mof_properties, sort='void_fraction', limit=0.8)"
   ]
  },
  {
   "cell_type": "code",
   "execution_count": 6,
   "metadata": {
    "collapsed": false
   },
   "outputs": [
    {
     "name": "stdout",
     "output_type": "stream",
     "text": [
      "Gathered a total of 1720 MOFs\n",
      "With gsa > 1000\n"
     ]
    }
   ],
   "source": [
    "sorted_mofs = core_mof_sort(mof_properties, sort='gsa', limit=1000)"
   ]
  },
  {
   "cell_type": "markdown",
   "metadata": {},
   "source": [
    "### Identify MOF pairs with given total void fraction"
   ]
  },
  {
   "cell_type": "code",
   "execution_count": 8,
   "metadata": {
    "collapsed": false
   },
   "outputs": [
    {
     "name": "stdout",
     "output_type": "stream",
     "text": [
      "Reading CoRE void fraction list...\n",
      "MOF combinations with Vf > 1 : 4287461 / 18081091 selected. Limit: inf"
     ]
    }
   ],
   "source": [
    "mof_pair_list = core_mof_vf_list(1.0, sim_dir['vf_list_path'])"
   ]
  },
  {
   "cell_type": "code",
   "execution_count": null,
   "metadata": {
    "collapsed": true
   },
   "outputs": [],
   "source": []
  }
 ],
 "metadata": {
  "kernelspec": {
   "display_name": "Python 3",
   "language": "python",
   "name": "python3"
  },
  "language_info": {
   "codemirror_mode": {
    "name": "ipython",
    "version": 3
   },
   "file_extension": ".py",
   "mimetype": "text/x-python",
   "name": "python",
   "nbconvert_exporter": "python",
   "pygments_lexer": "ipython3",
   "version": "3.5.1"
  }
 },
 "nbformat": 4,
 "nbformat_minor": 0
}
