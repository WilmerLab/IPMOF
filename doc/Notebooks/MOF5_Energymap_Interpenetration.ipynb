{
 "cells": [
  {
   "cell_type": "code",
   "execution_count": null,
   "metadata": {
    "collapsed": true
   },
   "outputs": [],
   "source": [
    "import os\n",
    "\n",
    "# Navigate to ipmof library directory\n",
    "os.chdir(os.path.join(os.getcwd(), '..', '..'))\n",
    "from ipmof.crystal import MOF"
   ]
  },
  {
   "cell_type": "markdown",
   "metadata": {},
   "source": [
    "## Reading .cif file into MOF object using [ASE](https://wiki.fysik.dtu.dk/ase/) library"
   ]
  },
  {
   "cell_type": "code",
   "execution_count": null,
   "metadata": {
    "collapsed": false
   },
   "outputs": [],
   "source": [
    "# Select MOF directory\n",
    "mof_path = os.path.join(os.getcwd(), 'mof', 'SAHYIK.cif')\n",
    "print('Reading %s' mof_path)\n",
    "mof5 = MOF(mof_path)\n",
    "print('MOF name: %s' % mof5.name)\n",
    "print('Unit cell lengths: ', mof5.uc_size)\n",
    "print('Unit cell angles: ', mof5.uc_angle)"
   ]
  },
  {
   "cell_type": "markdown",
   "metadata": {},
   "source": [
    "## Generating energy map"
   ]
  },
  {
   "cell_type": "code",
   "execution_count": null,
   "metadata": {
    "collapsed": false
   },
   "outputs": [],
   "source": [
    "# Load IPMOF python libraries\n",
    "from ipmof.forcefield import read_ff_parameters\n",
    "from ipmof.energymap import energy_map, energy_map_atom_list\n",
    "from ipmof.parameters import read_parameters"
   ]
  },
  {
   "cell_type": "code",
   "execution_count": null,
   "metadata": {
    "collapsed": true
   },
   "outputs": [],
   "source": [
    "# Read simulation parameters and directories\n",
    "sim_par, sim_dir = read_parameters()\n",
    "\n",
    "# Read excel file containing force field information\n",
    "force_field = read_ff_parameters(sim_dir['force_field_path'], sim_par['force_field'])\n",
    "\n",
    "# List of MOFs to generate energymap for\n",
    "mof_path_list = [mof_path]\n",
    "\n",
    "# Calculate atom list according to 'energy_map_atom_list' simulation parameter\n",
    "atom_list = energy_map_atom_list(sim_par, force_field, mof_path_list)"
   ]
  },
  {
   "cell_type": "code",
   "execution_count": null,
   "metadata": {
    "collapsed": false
   },
   "outputs": [],
   "source": [
    "# Export initialization file containing MOF names and simulation parameters\n",
    "print('Starting energy map calculation for', len(mof_path_list), 'MOF(s) with grid size:',\n",
    "      sim_par['grid_size'], '| cut-off radius:', str(sim_par['cut_off']))\n",
    "print('Atom list ->', atom_list['atom'])\n",
    "print('Atom list type: %s' % sim_par['energy_map_atom_list'])\n",
    "print('Energy map(s) will be exported in', sim_par['energy_map_type'], 'format')\n",
    "print('-' * 80)\n",
    "print('Calculating energy map for ->', os.path.basename(mof_path))\n",
    "emap = energy_map(sim_par, mof_path, atom_list, force_field)\n",
    "print('Done!')"
   ]
  },
  {
   "cell_type": "markdown",
   "metadata": {},
   "source": [
    "## Running interpenetration test"
   ]
  },
  {
   "cell_type": "code",
   "execution_count": null,
   "metadata": {
    "collapsed": true
   },
   "outputs": [],
   "source": [
    "# Load IPMOF python libraries\n",
    "from ipmof.interpenetration import run_interpenetration, get_interpenetration_list"
   ]
  },
  {
   "cell_type": "code",
   "execution_count": null,
   "metadata": {
    "collapsed": false
   },
   "outputs": [],
   "source": [
    "# Get list of interpenetrating MOFs\n",
    "interpenetration_list = get_interpenetration_list(sim_par, sim_dir)\n",
    "print('Initializing interpenetration for', len(interpenetration_list), 'MOF combinations...')\n",
    "\n",
    "interpenetration_path = interpenetration_list[0]\n",
    "emap_path, emap_mof_path, ip_mof_path = interpenetration_path\n",
    "print('-' * 80, '\\nEnergy map ->', os.path.basename(emap_path))\n",
    "print('Interpenetration ->', os.path.basename(ip_mof_path) + '\\n' + '-' * 80)\n",
    "\n",
    "run_interpenetration(interpenetration_path, sim_par, sim_dir)\n",
    "print('Exporting results to: %s' % sim_dir['export_dir'])\n",
    "print('Done!')"
   ]
  },
  {
   "cell_type": "code",
   "execution_count": null,
   "metadata": {
    "collapsed": false
   },
   "outputs": [],
   "source": []
  }
 ],
 "metadata": {
  "kernelspec": {
   "display_name": "Python 3",
   "language": "python",
   "name": "python3"
  },
  "language_info": {
   "codemirror_mode": {
    "name": "ipython",
    "version": 3
   },
   "file_extension": ".py",
   "mimetype": "text/x-python",
   "name": "python",
   "nbconvert_exporter": "python",
   "pygments_lexer": "ipython3",
   "version": "3.5.1"
  }
 },
 "nbformat": 4,
 "nbformat_minor": 0
}
