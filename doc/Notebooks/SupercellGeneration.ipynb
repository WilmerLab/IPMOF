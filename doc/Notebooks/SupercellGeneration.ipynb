{
 "cells": [
  {
   "cell_type": "code",
   "execution_count": null,
   "metadata": {
    "collapsed": true
   },
   "outputs": [],
   "source": [
    "import os\n",
    "import math\n",
    "import yaml\n",
    "\n",
    "from ipmof.analysis import read_interpenetration_results\n",
    "from ipmof.reconstruct import get_common_cell, common_cell_parameters\n",
    "from ipmof.crystal import MOF"
   ]
  },
  {
   "cell_type": "markdown",
   "metadata": {},
   "source": [
    "### Selecting MOFs "
   ]
  },
  {
   "cell_type": "code",
   "execution_count": null,
   "metadata": {},
   "outputs": [],
   "source": [
    "notebook_dir = os.getcwd()\n",
    "supercell_dir = os.path.join(notebook_dir, 'Supercell')\n",
    "mof1_name = 'LEHXUT'\n",
    "mof2_name = 'XAMDUM02'\n",
    "mof1_path = os.path.join(supercell_dir, '%s.cif' % mof1_name)\n",
    "mof2_path = os.path.join(supercell_dir, '%s.cif' % mof2_name)\n",
    "mof1 = MOF(mof1_path)\n",
    "mof2 = MOF(mof2_path)\n",
    "print('Supercell will be generated for %s + %s' % (mof1_name, mof2_name))"
   ]
  },
  {
   "cell_type": "markdown",
   "metadata": {},
   "source": [
    "### Generating supercell parameters"
   ]
  },
  {
   "cell_type": "code",
   "execution_count": null,
   "metadata": {},
   "outputs": [],
   "source": [
    "tol = 1\n",
    "print('Generating supercell with %i %% tolerance' % tol)\n",
    "supercell_par = common_cell_parameters(mof1, mof2, tolerance=tol)\n",
    "print('\\nSupercell will include:')\n",
    "print(supercell_par['lcm1'], mof1_name)\n",
    "print(supercell_par['lcm2'], mof2_name)\n",
    "print('\\nTotal cell distortion: %.3f %%' % supercell_par['dist'])"
   ]
  },
  {
   "cell_type": "markdown",
   "metadata": {},
   "source": [
    "### Reading interpenetartion results"
   ]
  },
  {
   "cell_type": "code",
   "execution_count": null,
   "metadata": {},
   "outputs": [],
   "source": [
    "results_path = os.path.join(supercell_dir, 'results.yaml')\n",
    "res = read_interpenetration_results(results_path)\n",
    "rotation = res[1][1]['rotation']\n",
    "init_coor = res[1][1]['initial_coordinate']\n",
    "print('Reading interpenetration results from: %s' % results_path)\n",
    "print('Rotation:', rotation, 'Translation:', init_coor)"
   ]
  },
  {
   "cell_type": "markdown",
   "metadata": {},
   "source": [
    "### Exporting supercell"
   ]
  },
  {
   "cell_type": "code",
   "execution_count": null,
   "metadata": {},
   "outputs": [],
   "source": [
    "print('Exporting supercell to: %s' % supercell_dir)\n",
    "get_common_cell(mof1, mof2, rotation, init_coor, export_dir=supercell_dir, colorify=True)\n",
    "print('Done!')"
   ]
  },
  {
   "cell_type": "code",
   "execution_count": null,
   "metadata": {
    "collapsed": true
   },
   "outputs": [],
   "source": []
  }
 ],
 "metadata": {
  "kernelspec": {
   "display_name": "Python 3",
   "language": "python",
   "name": "python3"
  },
  "language_info": {
   "codemirror_mode": {
    "name": "ipython",
    "version": 3
   },
   "file_extension": ".py",
   "mimetype": "text/x-python",
   "name": "python",
   "nbconvert_exporter": "python",
   "pygments_lexer": "ipython3",
   "version": "3.5.2"
  }
 },
 "nbformat": 4,
 "nbformat_minor": 1
}
