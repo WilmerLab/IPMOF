{
 "cells": [
  {
   "cell_type": "code",
   "execution_count": 73,
   "metadata": {
    "collapsed": false
   },
   "outputs": [
    {
     "data": {
      "text/plain": [
       "array([[ 1.,  0.,  0.],\n",
       "       [ 0.,  1.,  0.],\n",
       "       [ 0.,  0.,  1.]])"
      ]
     },
     "execution_count": 73,
     "metadata": {},
     "output_type": "execute_result"
    }
   ],
   "source": [
    "import os\n",
    "from ase.io import read, write, pdb\n",
    "from ase.visualize import view\n",
    "from ase.geometry import cell_to_cellpar\n",
    "import ase.gui\n",
    "\n",
    "main_dir = r'/home/kutay/Documents/Research/MOFs/NETL/trial'\n",
    "mof_dir = os.path.join(main_dir, 'NETL_1_NETL_30.xyz')\n",
    "mof_atoms = read(mof_dir, format='xyz')\n",
    "mof_atoms.get_positions()                # Coordinates\n",
    "mof_atoms.get_chemical_symbols()         # Atom names\n",
    "mof_atoms.get_cell()                     # Cell vectors? (check)"
   ]
  },
  {
   "cell_type": "code",
   "execution_count": 115,
   "metadata": {
    "collapsed": true
   },
   "outputs": [],
   "source": [
    "def write_pdb(fileobj, images): \n",
    "\n",
    "    if isinstance(fileobj, str): \n",
    "        fileobj = open(fileobj, 'w') \n",
    "\n",
    "    if not isinstance(images, (list, tuple)): \n",
    "        images = [images] \n",
    "   \n",
    "    from ase.geometry import cell_to_cellpar \n",
    "    cellpar = cell_to_cellpar( images[0].get_cell()) \n",
    "    \n",
    "    format = 'CRYST1%9.3f%9.3f%9.3f%7.2f%7.2f%7.2f\\n' \n",
    "    fileobj.write(format % (cellpar[0], cellpar[1], cellpar[2], cellpar[3], cellpar[4], cellpar[5])) \n",
    " \n",
    "    #         1234567 123 6789012345678901   89   67   456789012345678901234567 890 \n",
    "    #format = 'HETATM  %5d %4s MOL     1    %8.3f%8.3f%8.3f  1.00  0.00          %2s  \\n'\n",
    "           #   HETATM    1  O   UNK     1      20.496 -11.493 -10.783  1.00  0.00           O \n",
    "    format = 'HETATM%5d%3s  MOL     1     %8.3f%8.3f%8.3f  1.00  0.00          %2s\\n'\n",
    " \n",
    "    # RasMol complains if the atom index exceeds 100000. There might \n",
    "    # be a limit of 5 digit numbers in this field. \n",
    "    MAXNUM = 100000 \n",
    " \n",
    "    symbols = images[0].get_chemical_symbols() \n",
    "    natoms = len(symbols) \n",
    "     \n",
    "    for n,atoms in enumerate(images): \n",
    "        fileobj.write('MODEL     '+str(n+1)+'\\n') \n",
    "        p = atoms.get_positions() \n",
    "        for a in range(natoms): \n",
    "            x, y, z = p[a] \n",
    "            fileobj.write(format % (a+1 % MAXNUM, symbols[a], x, y, z, symbols[a].rjust(2))) \n",
    "        fileobj.write('ENDMDL\\n') "
   ]
  },
  {
   "cell_type": "code",
   "execution_count": 74,
   "metadata": {
    "collapsed": false
   },
   "outputs": [],
   "source": [
    "mof_atoms.cell[0] = [22.8920, 0, 0]\n",
    "mof_atoms.cell[1] = [0, 22.9860, 0]\n",
    "mof_atoms.cell[2] = [0, 0, 21.5650]"
   ]
  },
  {
   "cell_type": "code",
   "execution_count": 35,
   "metadata": {
    "collapsed": false
   },
   "outputs": [
    {
     "data": {
      "text/plain": [
       "11347.406216280004"
      ]
     },
     "execution_count": 35,
     "metadata": {},
     "output_type": "execute_result"
    }
   ],
   "source": [
    "mof_atoms.get_number_of_atoms()            # Num of atoms\n",
    "mof_atoms.get_volume()                     # Unit cell volume"
   ]
  },
  {
   "cell_type": "code",
   "execution_count": 75,
   "metadata": {
    "collapsed": false
   },
   "outputs": [
    {
     "data": {
      "text/plain": [
       "array([ 22.892,  22.986,  21.565,  90.   ,  90.   ,  90.   ])"
      ]
     },
     "execution_count": 75,
     "metadata": {},
     "output_type": "execute_result"
    }
   ],
   "source": [
    "cell_to_cellpar(mof_atoms.get_cell())"
   ]
  },
  {
   "cell_type": "code",
   "execution_count": 116,
   "metadata": {
    "collapsed": false
   },
   "outputs": [],
   "source": [
    "export_dir = os.path.join(main_dir, 'ase.pdb')\n",
    "write_pdb(export_dir, mof_atoms)"
   ]
  },
  {
   "cell_type": "code",
   "execution_count": 56,
   "metadata": {
    "collapsed": false
   },
   "outputs": [],
   "source": [
    "view(mof_atoms, viewer='ase-gui')"
   ]
  },
  {
   "cell_type": "code",
   "execution_count": 117,
   "metadata": {
    "collapsed": false
   },
   "outputs": [],
   "source": [
    "export_dir = os.path.join(main_dir, 'ase.cif')\n",
    "write(export_dir, mof_atoms, format='cif')"
   ]
  },
  {
   "cell_type": "code",
   "execution_count": 119,
   "metadata": {
    "collapsed": false
   },
   "outputs": [
    {
     "ename": "AttributeError",
     "evalue": "'Atoms' object has no attribute 'space_group'",
     "output_type": "error",
     "traceback": [
      "\u001b[1;31m---------------------------------------------------------------------------\u001b[0m",
      "\u001b[1;31mAttributeError\u001b[0m                            Traceback (most recent call last)",
      "\u001b[1;32m<ipython-input-119-a77ce3e53a37>\u001b[0m in \u001b[0;36m<module>\u001b[1;34m()\u001b[0m\n\u001b[1;32m----> 1\u001b[1;33m \u001b[0mmof_atoms\u001b[0m\u001b[1;33m.\u001b[0m\u001b[0mspace_group\u001b[0m\u001b[1;33m\u001b[0m\u001b[0m\n\u001b[0m",
      "\u001b[1;31mAttributeError\u001b[0m: 'Atoms' object has no attribute 'space_group'"
     ]
    }
   ],
   "source": [
    "mof_atoms.space_group"
   ]
  },
  {
   "cell_type": "code",
   "execution_count": 71,
   "metadata": {
    "collapsed": false
   },
   "outputs": [],
   "source": [
    "export_dir = os.path.join(main_dir, 'ase.pdb')\n",
    "pdb_file = open(export_dir, 'w')\n",
    "pdb.write_pdb(pdb_file, mof_atoms)\n",
    "pdb_file.close()"
   ]
  },
  {
   "cell_type": "code",
   "execution_count": 69,
   "metadata": {
    "collapsed": false
   },
   "outputs": [
    {
     "data": {
      "text/plain": [
       "array([ True,  True,  True], dtype=bool)"
      ]
     },
     "execution_count": 69,
     "metadata": {},
     "output_type": "execute_result"
    }
   ],
   "source": [
    "mof_atoms.get_pbc()"
   ]
  },
  {
   "cell_type": "code",
   "execution_count": 68,
   "metadata": {
    "collapsed": false
   },
   "outputs": [],
   "source": [
    "mof_atoms.pbc = [True, True, True]"
   ]
  },
  {
   "cell_type": "code",
   "execution_count": null,
   "metadata": {
    "collapsed": true
   },
   "outputs": [],
   "source": []
  }
 ],
 "metadata": {
  "kernelspec": {
   "display_name": "Python 3",
   "language": "python",
   "name": "python3"
  },
  "language_info": {
   "codemirror_mode": {
    "name": "ipython",
    "version": 3
   },
   "file_extension": ".py",
   "mimetype": "text/x-python",
   "name": "python",
   "nbconvert_exporter": "python",
   "pygments_lexer": "ipython3",
   "version": "3.5.1"
  }
 },
 "nbformat": 4,
 "nbformat_minor": 0
}
