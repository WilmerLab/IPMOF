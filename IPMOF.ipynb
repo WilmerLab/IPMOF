{
 "cells": [
  {
   "cell_type": "markdown",
   "metadata": {},
   "source": [
    "### IPMOF - InterPenetrating Metal Organic Frameworks\n",
    "\n",
    "#### Initialize necessary information\n",
    "\n",
    "1. Read FF_Parameters excel file to get force field parameters for atoms\n",
    "2. Initialize force field selection, cut_off radius and grid size for energy map\n",
    "\n",
    "#### Read structural information for MOF files in a given directory\n",
    "1. Read MOF files in \".mol2\" format from given directory and create a list\n",
    "2. Create MOF objects for structure files\n",
    "3. Initialize structural information for the MOFs\n",
    "\n",
    "#### Read simulation input parameters\n",
    "1. Read simulation parameters from input file\n",
    "\n",
    "#### Calculate energy map\n",
    "1. Determine packing amount of the MOF\n",
    "2. Calculate packed coordinates for the base MOF\n",
    "3. Calculate energy map\n",
    "\n",
    "#### Start interpenetration\n",
    "1. Energy map + mobile_mof"
   ]
  },
  {
   "cell_type": "code",
   "execution_count": 16,
   "metadata": {
    "collapsed": false
   },
   "outputs": [],
   "source": [
    "import os\n",
    "import math\n",
    "import time\n",
    "\n",
    "# Load 3rd party libraries\n",
    "import yaml\n",
    "\n",
    "# Load interpenetration python libraries\n",
    "from ipmof.crystal import MOF\n",
    "from ipmof.forcefield import read_ff_parameters\n",
    "from ipmof.energymap import energy_map, get_mof_list, get_uniq_atom_list\n",
    "from ipmof.interpenetration import run_interpenetration, check_extension, save_extension\n",
    "from ipmof.core import core_mof_properties, core_mof_sort, core_mof_dir\n",
    "# --------------------------------------------------------------------------------------------------\n",
    "from ipmof.parameters import sim_dir_data as sim_dir\n",
    "from ipmof.parameters import sim_par_data as sim_par\n",
    "\n",
    "start_time = time.clock()\n",
    "\n",
    "# Read excel file containing force field information\n",
    "force_field = read_ff_parameters(sim_dir['force_field_path'], sim_par['force_field'])"
   ]
  },
  {
   "cell_type": "markdown",
   "metadata": {},
   "source": [
    "### File Input Options\n",
    "- <b> Built-in read_mol2 </b>\n",
    "<pre>\n",
    "uc_size, uc_angle, atom_names, atom_coors = read_mol2(mol2_path)\n",
    "mof = MOF()\n",
    "mof.initialize(mof.mol2_path)\n",
    "</pre> \n",
    "- <b> Ase pdb read (cif read gives error) </b>\n",
    "<pre>\n",
    "from ase.io import read\n",
    "mof_atoms = read(mof_dir, format='pdb')\n",
    "mof_atoms.get_positions()                # Coordinates\n",
    "mof_atoms.get_chemical_symbols()         # Atom names\n",
    "mof_atoms.get_cell()                     # Cell vectors? (check)\n",
    "mof_obj.get_number_of_atoms()            # Num of atoms\n",
    "mof_obj.get_volume()                     # Unit cell volume\n",
    "\n",
    "</pre>\n",
    "- <b> Open babel </b>\n",
    "<pre>\n",
    "babel -icif *.cif -opdb *.pdb\n",
    "</pre>"
   ]
  },
  {
   "cell_type": "code",
   "execution_count": 17,
   "metadata": {
    "collapsed": false
   },
   "outputs": [
    {
     "name": "stdout",
     "output_type": "stream",
     "text": [
      "Gathered a total of 96 MOFs\n",
      "With void_fraction > 0.85\n",
      "91 mofs are missing\n",
      "5 total mofs found\n"
     ]
    }
   ],
   "source": [
    "# Create list of MOFs\n",
    "# mol2_list = get_mof_list(sim_dir['mol2_dir'], '.mol2')\n",
    "\n",
    "# Create MOf list from CoRE database\n",
    "mof_properties = core_mof_properties(sim_dir['core_path'])\n",
    "\n",
    "sorted_mofs = core_mof_sort(mof_properties, sort='void_fraction', limit=0.85)\n",
    "mol2_list = core_mof_dir(sorted_mofs, sim_dir['mol2_dir'])\n",
    "\n",
    "# Select MOF couple\n",
    "base_mof_index = 4\n",
    "mobile_mof_index = 4"
   ]
  },
  {
   "cell_type": "code",
   "execution_count": 18,
   "metadata": {
    "collapsed": false
   },
   "outputs": [
    {
     "name": "stdout",
     "output_type": "stream",
     "text": [
      "Base MOF selected as:  XEBHOC_clean\n",
      "Mobile MOF selected as:  XEBHOC_clean\n"
     ]
    }
   ],
   "source": [
    "# Read mol2 files and initialize MOF objects\n",
    "mol2_path = os.path.join(sim_dir['mol2_dir'], mol2_list[base_mof_index])\n",
    "base_mof = MOF(mol2_path)\n",
    "base_mof.force_field(force_field)\n",
    "print('Base MOF selected as: ', base_mof.name)\n",
    "\n",
    "mol2_path = os.path.join(sim_dir['mol2_dir'], mol2_list[mobile_mof_index])\n",
    "mobile_mof = MOF(mol2_path)\n",
    "mobile_mof.force_field(force_field)\n",
    "print('Mobile MOF selected as: ', mobile_mof.name)"
   ]
  },
  {
   "cell_type": "code",
   "execution_count": 19,
   "metadata": {
    "collapsed": false
   },
   "outputs": [
    {
     "name": "stdout",
     "output_type": "stream",
     "text": [
      "Base MOF unit cell:  [15.376, 19.8482, 19.8482]\n",
      "Packing factor: [3, 3, 3]\n",
      "Num of coor : 3564\n"
     ]
    }
   ],
   "source": [
    "extended_structure = base_mof.extend_unit_cell(sim_par['cut_off'])\n",
    "\n",
    "print('Base MOF unit cell: ', base_mof.uc_size)\n",
    "print('Packing factor:', base_mof.packing_factor)\n",
    "print('Num of coor :', len(base_mof.packed_coors)*len(base_mof.packed_coors[0]))"
   ]
  },
  {
   "cell_type": "code",
   "execution_count": 20,
   "metadata": {
    "collapsed": false
   },
   "outputs": [
    {
     "name": "stdout",
     "output_type": "stream",
     "text": [
      "Calculating emap for XEBHOC_clean with atoms: ['H', 'Cu', 'N', 'O', 'C']\n"
     ]
    }
   ],
   "source": [
    "init_time = time.clock() - start_time\n",
    "\n",
    "atom_list = get_uniq_atom_list([mobile_mof])\n",
    "print('Calculating emap for', base_mof.name, 'with atoms:', atom_list['atom'])\n",
    "emap = energy_map(sim_par, base_mof, atom_list)\n",
    "\n",
    "emap_time = time.clock() - start_time"
   ]
  },
  {
   "cell_type": "code",
   "execution_count": 21,
   "metadata": {
    "collapsed": true
   },
   "outputs": [],
   "source": [
    "# Run interpenetration\n",
    "summary, new_structures = run_interpenetration(sim_par, base_mof, mobile_mof, emap, atom_list)\n",
    "\n",
    "interpenetration_time = time.clock() - start_time"
   ]
  },
  {
   "cell_type": "code",
   "execution_count": 22,
   "metadata": {
    "collapsed": false
   },
   "outputs": [],
   "source": [
    "# Get minimum energy structure by sorting total structure energies\n",
    "min_energy_structure = sorted(new_structures, key=lambda k: k['energy'])[0]"
   ]
  },
  {
   "cell_type": "code",
   "execution_count": 23,
   "metadata": {
    "collapsed": false
   },
   "outputs": [
    {
     "name": "stdout",
     "output_type": "stream",
     "text": [
      "Collision: True\n"
     ]
    }
   ],
   "source": [
    "# Check for collision in the extended unitcell of new structure and energy map\n",
    "collision = check_extension(sim_par, base_mof, mobile_mof, emap, atom_list, min_energy_structure)\n",
    "\n",
    "extension_time = time.clock() - start_time\n",
    "print('Collision:', collision)"
   ]
  },
  {
   "cell_type": "code",
   "execution_count": 24,
   "metadata": {
    "collapsed": false
   },
   "outputs": [],
   "source": [
    "# Get structure information for the interpenetrating structure\n",
    "ext_structure = save_extension(sim_par, base_mof, mobile_mof, emap, atom_list, min_energy_structure)"
   ]
  },
  {
   "cell_type": "code",
   "execution_count": 25,
   "metadata": {
    "collapsed": false,
    "scrolled": true
   },
   "outputs": [],
   "source": [
    "# Extend MOF coordinates and get atom names and coordinates of extended unit cells of MOF object\n",
    "extended_structure = base_mof.extend_unit_cell(sim_par['cut_off'])\n",
    "\n",
    "# Create new MOF objects for base and mobile MOFs\n",
    "ext_base_mof = MOF(extended_structure, file_format='dict')\n",
    "ext_mobile_mof = MOF(ext_structure, file_format='dict')\n",
    "\n",
    "# Join base and mobile structure layers\n",
    "joined_mof = ext_base_mof.join(ext_mobile_mof, colorify=sim_par['export_colorify'])\n",
    "\n",
    "# Export to xyz format\n",
    "joined_mof.export(sim_dir['export_dir'], file_format=sim_par['export_format'])\n",
    "\n",
    "export_time = time.clock() - start_time"
   ]
  },
  {
   "cell_type": "code",
   "execution_count": null,
   "metadata": {
    "collapsed": false
   },
   "outputs": [],
   "source": []
  },
  {
   "cell_type": "code",
   "execution_count": null,
   "metadata": {
    "collapsed": false
   },
   "outputs": [],
   "source": []
  },
  {
   "cell_type": "code",
   "execution_count": null,
   "metadata": {
    "collapsed": false
   },
   "outputs": [],
   "source": []
  },
  {
   "cell_type": "code",
   "execution_count": null,
   "metadata": {
    "collapsed": true
   },
   "outputs": [],
   "source": []
  }
 ],
 "metadata": {
  "kernelspec": {
   "display_name": "Python 3",
   "language": "python",
   "name": "python3"
  },
  "language_info": {
   "codemirror_mode": {
    "name": "ipython",
    "version": 3
   },
   "file_extension": ".py",
   "mimetype": "text/x-python",
   "name": "python",
   "nbconvert_exporter": "python",
   "pygments_lexer": "ipython3",
   "version": "3.5.1"
  }
 },
 "nbformat": 4,
 "nbformat_minor": 0
}
