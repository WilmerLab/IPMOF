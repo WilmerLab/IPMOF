{
 "cells": [
  {
   "cell_type": "markdown",
   "metadata": {},
   "source": [
    "## IPMOF - InterPenetrating Metal Organic Frameworks\n",
    "\n",
    "### Initialize necessary information\n",
    "\n",
    "1. Read FF_Parameters excel file to get force field parameters for atoms\n",
    "2. Initialize force field selection, cutOff radius and grid size for energy map\n",
    "\n",
    "### Read structural information for MOF files in a given directory\n",
    "1. Reaf MOF files in \".mol2\" format from given directory and create a list\n",
    "2. Choose the first MOF1 as the stationary (map) MOF, initialize its variables, and calculate packed coordinates\n",
    "3. For all the MOFs in the list:\n",
    "4. Initialize MOF2 variables for the mobile MOF\n",
    "5. Calculate energy map"
   ]
  },
  {
   "cell_type": "code",
   "execution_count": 1,
   "metadata": {
    "collapsed": false
   },
   "outputs": [],
   "source": [
    "import math\n",
    "import os\n",
    "os.chdir(r'/home/kutay/Documents/git/IPMOF/IPMOF_Python')\n",
    "from forcefield import *\n",
    "from crystal import *\n",
    "from energymap import *\n",
    "\n",
    "# Read excel file containing force field information\n",
    "excel_file_path = '/home/kutay/Documents/Research/FF_Parameters.xlsx'\n",
    "uff = read_ff_parameters(excel_file_path, 'uff')"
   ]
  },
  {
   "cell_type": "markdown",
   "metadata": {},
   "source": [
    "### File Input Options\n",
    "- <b> Built-in read_mol2 </b>\n",
    "<pre>\n",
    "uc_size, uc_angle, atom_names, atom_coors = read_mol2(mol2_path)\n",
    "mof = MOF()\n",
    "mof.initialize(mof.mol2_path)\n",
    "</pre> \n",
    "- <b> Ase pdb read (cif read gives error) </b>\n",
    "<pre>\n",
    "from ase.io import read\n",
    "mof_atoms = read(mof_dir, format='pdb')\n",
    "mof_atoms.get_positions()                # Coordinates\n",
    "mof_atoms.get_chemical_symbols()         # Atom names\n",
    "mof_atoms.get_cell()                     # Cell vectors? (check)\n",
    "mof_obj.get_number_of_atoms()            # Num of atoms\n",
    "mof_obj.get_volume()                     # Unit cell volume\n",
    "\n",
    "</pre>\n",
    "- <b> Open babel </b>\n",
    "<pre>\n",
    "babel -icif *.cif -opdb *.pdb\n",
    "</pre>"
   ]
  },
  {
   "cell_type": "code",
   "execution_count": 2,
   "metadata": {
    "collapsed": false
   },
   "outputs": [
    {
     "name": "stdout",
     "output_type": "stream",
     "text": [
      "['ZIF90', 'NUVWIL', 'QIGBIR', 'KINFAQ']\n"
     ]
    }
   ],
   "source": [
    "mol2_dir = r'/home/kutay/Documents/Research/MOFs/IPMOF_Python/mol2'\n",
    "mol2_list = os.listdir(mol2_dir)\n",
    "print(mol2_list)"
   ]
  },
  {
   "cell_type": "code",
   "execution_count": 3,
   "metadata": {
    "collapsed": false
   },
   "outputs": [],
   "source": [
    "base_mof = MOF()\n",
    "base_mof.mol2_path = os.path.join(mol2_dir, mol2_list[0])\n",
    "base_mof.initialize()\n",
    "\n",
    "mobile_mof = MOF()\n",
    "mobile_mof.mol2_path = os.path.join(mol2_dir, mol2_list[1])\n",
    "mobile_mof.initialize()"
   ]
  },
  {
   "cell_type": "code",
   "execution_count": 5,
   "metadata": {
    "collapsed": false
   },
   "outputs": [
    {
     "data": {
      "text/plain": [
       "[0.0, 4.3179, 8.6357]"
      ]
     },
     "execution_count": 5,
     "metadata": {},
     "output_type": "execute_result"
    }
   ],
   "source": [
    "base_mof.ucv = ucv(base_mof)\n",
    "\n",
    "# Calculate cut-off radius as Rc = L/2\n",
    "width_a = newMOF.UCV / (newMOF.UCsize[1]*newMOF.UCsize[2] / math.sin(math.radians(newMOF.UCangle[0])))\n",
    "width_b = newMOF.UCV / (newMOF.UCsize[0]*newMOF.UCsize[2] / math.sin(math.radians(newMOF.UCangle[1])))\n",
    "width_c = newMOF.UCV / (newMOF.UCsize[0]*newMOF.UCsize[1] / math.sin(math.radians(newMOF.UCangle[2])))\n",
    "newMOF.cut_off = min(width_a / 2, width_b / 2, width_c / 2)\n",
    "    \n",
    "# Calculate packing for base MOF\n",
    "newMOF.packingFactor = Packing.factor(newMOF.UCsize, newMOF.cutOff)\n",
    "translationVectors, UCvectors = Packing.vectors(newMOF.packingFactor, newMOF.UCsize, newMOF.UCangle)\n",
    "newMOF.packedCoor = Packing.UC(translationVectors, newMOF.packingFactor, UCvectors, newMOF.atomCoor)\n",
    "newMOF.edgePoints = Packing.edgePoints(UCvectors)\n",
    "    \n",
    "newMOF.name = mof.split('.')[0].split('_')[0]"
   ]
  },
  {
   "cell_type": "code",
   "execution_count": 1,
   "metadata": {
    "collapsed": false
   },
   "outputs": [],
   "source": [
    "a = ['sd', 'fg', 'sd', 'h', 'k', 'l', 'k', 'h']"
   ]
  },
  {
   "cell_type": "code",
   "execution_count": 2,
   "metadata": {
    "collapsed": false
   },
   "outputs": [
    {
     "data": {
      "text/plain": [
       "['h', 'l', 'fg', 'sd', 'k']"
      ]
     },
     "execution_count": 2,
     "metadata": {},
     "output_type": "execute_result"
    }
   ],
   "source": [
    "list(set(a))"
   ]
  },
  {
   "cell_type": "code",
   "execution_count": null,
   "metadata": {
    "collapsed": true
   },
   "outputs": [],
   "source": []
  }
 ],
 "metadata": {
  "kernelspec": {
   "display_name": "Python 3",
   "language": "python",
   "name": "python3"
  },
  "language_info": {
   "codemirror_mode": {
    "name": "ipython",
    "version": 3
   },
   "file_extension": ".py",
   "mimetype": "text/x-python",
   "name": "python",
   "nbconvert_exporter": "python",
   "pygments_lexer": "ipython3",
   "version": "3.5.1"
  }
 },
 "nbformat": 4,
 "nbformat_minor": 0
}
