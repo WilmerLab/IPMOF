{
 "cells": [
  {
   "cell_type": "markdown",
   "metadata": {},
   "source": [
    "### IPMOF - InterPenetrating Metal Organic Frameworks\n",
    "\n",
    "#### Initialize necessary information\n",
    "\n",
    "1. Read FF_Parameters excel file to get force field parameters for atoms\n",
    "2. Initialize force field selection, cut_off radius and grid size for energy map\n",
    "\n",
    "#### Read structural information for MOF files in a given directory\n",
    "1. Read MOF files in \".mol2\" format from given directory and create a list\n",
    "2. Create MOF objects for structure files\n",
    "3. Initialize structural information for the MOFs\n",
    "\n",
    "#### Read simulation input parameters\n",
    "1. Read simulation parameters from input file\n",
    "\n",
    "#### Calculate energy map\n",
    "1. Determine packing amount of the MOF\n",
    "2. Calculate packed coordinates for the base MOF\n",
    "3. Calculate energy map\n",
    "\n",
    "#### Start interpenetration\n",
    "1. Energy map + mobile_mof"
   ]
  },
  {
   "cell_type": "code",
   "execution_count": 3,
   "metadata": {
    "collapsed": false
   },
   "outputs": [],
   "source": [
    "import os\n",
    "import math\n",
    "\n",
    "# Load 3rd party libraries\n",
    "import yaml\n",
    "\n",
    "# Load interpenetration python libraries\n",
    "from ipmof.crystal import MOF\n",
    "from ipmof.forcefield import read_ff_parameters\n",
    "from ipmof.energymap import energy_map, get_mof_list, get_uniq_atom_list\n",
    "from ipmof.interpenetration import run_interpenetration, check_extension, save_extension\n",
    "# --------------------------------------------------------------------------------------------------\n",
    "# Get directories for simulation parameters and directories files\n",
    "input_dir = os.getcwd()\n",
    "sim_par_path = os.path.join(input_dir, 'sim_par.yaml')\n",
    "sim_dir_path = os.path.join(input_dir, 'sim_dir_linux.yaml')\n",
    "\n",
    "# Read sim par yaml file\n",
    "sim_par = yaml.load(open(sim_par_path, 'r'))\n",
    "sim_dir = yaml.load(open(sim_dir_path, 'r'))\n",
    "\n",
    "# Read excel file containing force field information\n",
    "force_field = read_ff_parameters(sim_dir['excel_file_path'], sim_par['force_field'])"
   ]
  },
  {
   "cell_type": "markdown",
   "metadata": {},
   "source": [
    "### File Input Options\n",
    "- <b> Built-in read_mol2 </b>\n",
    "<pre>\n",
    "uc_size, uc_angle, atom_names, atom_coors = read_mol2(mol2_path)\n",
    "mof = MOF()\n",
    "mof.initialize(mof.mol2_path)\n",
    "</pre> \n",
    "- <b> Ase pdb read (cif read gives error) </b>\n",
    "<pre>\n",
    "from ase.io import read\n",
    "mof_atoms = read(mof_dir, format='pdb')\n",
    "mof_atoms.get_positions()                # Coordinates\n",
    "mof_atoms.get_chemical_symbols()         # Atom names\n",
    "mof_atoms.get_cell()                     # Cell vectors? (check)\n",
    "mof_obj.get_number_of_atoms()            # Num of atoms\n",
    "mof_obj.get_volume()                     # Unit cell volume\n",
    "\n",
    "</pre>\n",
    "- <b> Open babel </b>\n",
    "<pre>\n",
    "babel -icif *.cif -opdb *.pdb\n",
    "</pre>"
   ]
  },
  {
   "cell_type": "code",
   "execution_count": 4,
   "metadata": {
    "collapsed": false
   },
   "outputs": [
    {
     "name": "stdout",
     "output_type": "stream",
     "text": [
      "['QIGBIR.mol2', 'OFODAP.mol2', 'UNIGEE.mol2', 'ZIF90.mol2', 'SAHYIK.mol2', 'KINFAQ.mol2', 'NUVWIL.mol2']\n"
     ]
    }
   ],
   "source": [
    "# Create list of MOFs\n",
    "mol2_list = get_mof_list(sim_dir['mol2_dir'], '.mol2')\n",
    "print(mol2_list)\n",
    "\n",
    "base_mof_index = 4\n",
    "mobile_mof_index = 4"
   ]
  },
  {
   "cell_type": "code",
   "execution_count": 5,
   "metadata": {
    "collapsed": false
   },
   "outputs": [
    {
     "name": "stdout",
     "output_type": "stream",
     "text": [
      "Base MOF selected as:  SAHYIK\n",
      "Mobile MOF selected as:  SAHYIK\n"
     ]
    }
   ],
   "source": [
    "# Read mol2 files and initialize MOF objects\n",
    "mol2_path = os.path.join(sim_dir['mol2_dir'], mol2_list[base_mof_index])\n",
    "base_mof = MOF(mol2_path)\n",
    "base_mof.force_field(force_field)\n",
    "print('Base MOF selected as: ', base_mof.name)\n",
    "\n",
    "mol2_path = os.path.join(sim_dir['mol2_dir'], mol2_list[mobile_mof_index])\n",
    "mobile_mof = MOF(mol2_path)\n",
    "mobile_mof.force_field(force_field)\n",
    "print('Mobile MOF selected as: ', mobile_mof.name)"
   ]
  },
  {
   "cell_type": "code",
   "execution_count": 6,
   "metadata": {
    "collapsed": false
   },
   "outputs": [
    {
     "name": "stdout",
     "output_type": "stream",
     "text": [
      "Base MOF unit cell:  [25.669, 25.669, 25.669]\n",
      "Packing factor: [3, 3, 3]\n",
      "Num of coor : 11448\n"
     ]
    }
   ],
   "source": [
    "extended_structure = base_mof.extend_unit_cell(sim_par['cut_off'])\n",
    "\n",
    "print('Base MOF unit cell: ', base_mof.uc_size)\n",
    "print('Packing factor:', base_mof.packing_factor)\n",
    "print('Num of coor :', len(base_mof.packed_coors)*len(base_mof.packed_coors[0]))"
   ]
  },
  {
   "cell_type": "code",
   "execution_count": 7,
   "metadata": {
    "collapsed": false
   },
   "outputs": [
    {
     "name": "stdout",
     "output_type": "stream",
     "text": [
      "Calculating emap for SAHYIK with atoms: ['C', 'H', 'Zn', 'O']\n"
     ]
    }
   ],
   "source": [
    "atom_list = get_uniq_atom_list([mobile_mof])\n",
    "print('Calculating emap for', base_mof.name, 'with atoms:', atom_list['atom'])\n",
    "emap = energy_map(sim_par, base_mof, atom_list)"
   ]
  },
  {
   "cell_type": "code",
   "execution_count": 8,
   "metadata": {
    "collapsed": true
   },
   "outputs": [],
   "source": [
    "# Run interpenetration\n",
    "summary, new_structures = run_interpenetration(sim_par, base_mof, mobile_mof, emap, atom_list)"
   ]
  },
  {
   "cell_type": "code",
   "execution_count": 9,
   "metadata": {
    "collapsed": false
   },
   "outputs": [],
   "source": [
    "# Get minimum energy structure by sorting total structure energies\n",
    "min_energy_structure = sorted(new_structures, key=lambda k: k['energy'])[0]"
   ]
  },
  {
   "cell_type": "code",
   "execution_count": 10,
   "metadata": {
    "collapsed": false
   },
   "outputs": [
    {
     "name": "stdout",
     "output_type": "stream",
     "text": [
      "Collision: False\n"
     ]
    }
   ],
   "source": [
    "# Check for collision in the extended unitcell of new structure and energy map\n",
    "#sim_par['ext_cut_off'] = 30\n",
    "collision = check_extension(sim_par, base_mof, mobile_mof, emap, atom_list, min_energy_structure)\n",
    "\n",
    "print('Collision:', collision)"
   ]
  },
  {
   "cell_type": "code",
   "execution_count": 11,
   "metadata": {
    "collapsed": false
   },
   "outputs": [],
   "source": [
    "# Get structure information for the interpenetrating structure\n",
    "ext_structure = save_extension(sim_par, base_mof, mobile_mof, emap, atom_list, min_energy_structure)"
   ]
  },
  {
   "cell_type": "code",
   "execution_count": 15,
   "metadata": {
    "collapsed": false,
    "scrolled": true
   },
   "outputs": [],
   "source": [
    "# Extend MOF coordinates and get atom names and coordinates of extended unit cells of MOF object\n",
    "extended_structure = base_mof.extend_unit_cell(sim_par['ext_cut_off'])\n",
    "\n",
    "# Create new MOF objects for base and mobile MOFs\n",
    "ext_base_mof = MOF(extended_structure, file_format='dict')\n",
    "ext_mobile_mof = MOF(ext_structure, file_format='dict')\n",
    "\n",
    "# Join base and mobile structure layers\n",
    "joined_mof = ext_base_mof.join(ext_mobile_mof)\n",
    "\n",
    "# Export to xyz format\n",
    "joined_mof.export(sim_dir['export_dir'])"
   ]
  },
  {
   "cell_type": "code",
   "execution_count": 14,
   "metadata": {
    "collapsed": false
   },
   "outputs": [
    {
     "ename": "KeyError",
     "evalue": "'name'",
     "output_type": "error",
     "traceback": [
      "\u001b[1;31m---------------------------------------------------------------------------\u001b[0m",
      "\u001b[1;31mKeyError\u001b[0m                                  Traceback (most recent call last)",
      "\u001b[1;32m<ipython-input-14-3550b9c84bd8>\u001b[0m in \u001b[0;36m<module>\u001b[1;34m()\u001b[0m\n\u001b[1;32m----> 1\u001b[1;33m \u001b[0mextended_structure\u001b[0m\u001b[1;33m[\u001b[0m\u001b[1;34m'name'\u001b[0m\u001b[1;33m]\u001b[0m\u001b[1;33m\u001b[0m\u001b[0m\n\u001b[0m",
      "\u001b[1;31mKeyError\u001b[0m: 'name'"
     ]
    }
   ],
   "source": [
    "extended_structure['name']"
   ]
  },
  {
   "cell_type": "code",
   "execution_count": null,
   "metadata": {
    "collapsed": true
   },
   "outputs": [],
   "source": []
  }
 ],
 "metadata": {
  "kernelspec": {
   "display_name": "Python 3",
   "language": "python",
   "name": "python3"
  },
  "language_info": {
   "codemirror_mode": {
    "name": "ipython",
    "version": 3
   },
   "file_extension": ".py",
   "mimetype": "text/x-python",
   "name": "python",
   "nbconvert_exporter": "python",
   "pygments_lexer": "ipython3",
   "version": "3.5.1"
  }
 },
 "nbformat": 4,
 "nbformat_minor": 0
}
