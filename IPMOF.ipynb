{
 "cells": [
  {
   "cell_type": "markdown",
   "metadata": {},
   "source": [
    "### IPMOF - InterPenetrating Metal Organic Frameworks\n",
    "\n",
    "#### Initialize necessary information\n",
    "\n",
    "1. Read FF_Parameters excel file to get force field parameters for atoms\n",
    "2. Initialize force field selection, cut_off radius and grid size for energy map\n",
    "\n",
    "#### Read structural information for MOF files in a given directory\n",
    "1. Read MOF files in \".mol2\" format from given directory and create a list\n",
    "2. Create MOF objects for structure files\n",
    "3. Initialize structural information for the MOFs\n",
    "\n",
    "#### Read simulation input parameters\n",
    "1. Read simulation parameters from input file\n",
    "\n",
    "#### Calculate energy map\n",
    "1. Determine packing amount of the MOF\n",
    "2. Calculate packed coordinates for the base MOF\n",
    "3. Calculate energy map\n",
    "\n",
    "#### Start interpenetration\n",
    "1. Energy map + mobile_mof"
   ]
  },
  {
   "cell_type": "code",
   "execution_count": 1,
   "metadata": {
    "collapsed": false
   },
   "outputs": [
    {
     "name": "stdout",
     "output_type": "stream",
     "text": [
      "Populating the interactive namespace from numpy and matplotlib\n"
     ]
    },
    {
     "name": "stderr",
     "output_type": "stream",
     "text": [
      "WARNING: pylab import has clobbered these variables: ['ceil', 'inf', 'sqrt', 'floor']\n",
      "`%matplotlib` prevents importing * from pylab and numpy\n"
     ]
    }
   ],
   "source": [
    "import math\n",
    "import os\n",
    "os.chdir(r'/home/kutay/Documents/git/IPMOF/IPMOF_Python')\n",
    "#os.chdir(r'C:\\Kutay\\IPMOF\\IPMOF_Python')\n",
    "from forcefield import read_ff_parameters\n",
    "from crystal import *\n",
    "from energymap import *\n",
    "from visualize import *\n",
    "from interpenetration import *\n",
    "from quaternion import *\n",
    "%pylab inline\n",
    "\n",
    "# Read excel file containing force field information\n",
    "excel_file_path = '/home/kutay/Documents/Research/FF_Parameters.xlsx'\n",
    "#excel_file_path = r'C:\\Users\\kutay\\iPython\\IPMOF\\FF_Parameters.xlsx'\n",
    "uff = read_ff_parameters(excel_file_path, 'uff')"
   ]
  },
  {
   "cell_type": "markdown",
   "metadata": {},
   "source": [
    "### File Input Options\n",
    "- <b> Built-in read_mol2 </b>\n",
    "<pre>\n",
    "uc_size, uc_angle, atom_names, atom_coors = read_mol2(mol2_path)\n",
    "mof = MOF()\n",
    "mof.initialize(mof.mol2_path)\n",
    "</pre> \n",
    "- <b> Ase pdb read (cif read gives error) </b>\n",
    "<pre>\n",
    "from ase.io import read\n",
    "mof_atoms = read(mof_dir, format='pdb')\n",
    "mof_atoms.get_positions()                # Coordinates\n",
    "mof_atoms.get_chemical_symbols()         # Atom names\n",
    "mof_atoms.get_cell()                     # Cell vectors? (check)\n",
    "mof_obj.get_number_of_atoms()            # Num of atoms\n",
    "mof_obj.get_volume()                     # Unit cell volume\n",
    "\n",
    "</pre>\n",
    "- <b> Open babel </b>\n",
    "<pre>\n",
    "babel -icif *.cif -opdb *.pdb\n",
    "</pre>"
   ]
  },
  {
   "cell_type": "code",
   "execution_count": 2,
   "metadata": {
    "collapsed": false
   },
   "outputs": [
    {
     "name": "stdout",
     "output_type": "stream",
     "text": [
      "['QIGBIR.mol2', 'OFODAP.mol2', 'UNIGEE.mol2', 'ZIF90.mol2', 'SAHYIK.mol2', 'KINFAQ.mol2', 'NUVWIL.mol2']\n"
     ]
    }
   ],
   "source": [
    "# Create list of MOFs\n",
    "mol2_dir = r'/home/kutay/Documents/Research/MOFs/IPMOF_Python/mol2'\n",
    "#mol2_dir = r'C:\\Kutay\\MOFs\\IPMOF_Python'\n",
    "mol2_list = get_mof_list(mol2_dir, '.mol2')\n",
    "print(mol2_list)"
   ]
  },
  {
   "cell_type": "code",
   "execution_count": 3,
   "metadata": {
    "collapsed": false
   },
   "outputs": [
    {
     "name": "stdout",
     "output_type": "stream",
     "text": [
      "Base MOF selected as:  SAHYIK\n",
      "Mobile MOF selected as:  SAHYIK\n"
     ]
    }
   ],
   "source": [
    "# Read mol2 files and initialize MOF objects\n",
    "base_mof = MOF()\n",
    "base_mof.mol2_path = os.path.join(mol2_dir, mol2_list[4])\n",
    "base_mof.initialize()\n",
    "base_mof.initialize_ff(uff)\n",
    "print('Base MOF selected as: ', base_mof.name)\n",
    "\n",
    "mobile_mof = MOF()\n",
    "mobile_mof.mol2_path = os.path.join(mol2_dir, mol2_list[4])\n",
    "mobile_mof.initialize()\n",
    "mobile_mof.initialize_ff(uff)\n",
    "print('Mobile MOF selected as: ', mobile_mof.name)"
   ]
  },
  {
   "cell_type": "code",
   "execution_count": 4,
   "metadata": {
    "collapsed": false
   },
   "outputs": [
    {
     "name": "stdout",
     "output_type": "stream",
     "text": [
      "Base MOF unit cell:  [25.669, 25.669, 25.669]\n",
      "Packing factor: [3, 3, 3]\n",
      "Num of coor : 11448\n"
     ]
    }
   ],
   "source": [
    "cut_off = 12\n",
    "\n",
    "base_mof.packing_factor = Packing.factor(base_mof.uc_size, cut_off)\n",
    "uc_vectors = Packing.uc_vectors(base_mof.uc_size, base_mof.uc_angle)\n",
    "trans_vec = Packing.translation_vectors(base_mof.packing_factor, uc_vectors)\n",
    "base_mof.packed_coors = Packing.uc_coors(trans_vec, base_mof.packing_factor, uc_vectors, base_mof.atom_coors)\n",
    "base_mof.edge_points = Packing.edge_points(uc_vectors)\n",
    "\n",
    "print('Base MOF unit cell: ', base_mof.uc_size)\n",
    "print('Packing factor:', base_mof.packing_factor)\n",
    "print('Num of coor :', len(base_mof.packed_coors)*len(base_mof.packed_coors[0]))"
   ]
  },
  {
   "cell_type": "code",
   "execution_count": 5,
   "metadata": {
    "collapsed": false
   },
   "outputs": [
    {
     "name": "stdout",
     "output_type": "stream",
     "text": [
      "Calculating emap for SAHYIK with atoms: ['Zn', 'H', 'O', 'C']\n"
     ]
    }
   ],
   "source": [
    "atom_list = get_uniq_atom_list([mobile_mof])\n",
    "print('Calculating emap for', base_mof.name, 'with atoms:', atom_list['atom'])\n",
    "emap = energy_map(base_mof, atom_list, cut_off, 1)"
   ]
  },
  {
   "cell_type": "code",
   "execution_count": 6,
   "metadata": {
    "collapsed": false
   },
   "outputs": [
    {
     "name": "stdout",
     "output_type": "stream",
     "text": [
      "Energy map energy at  [  2.  11.   5.]  :  -562.512156392\n",
      "Interpolation energy at  [1.89, 11, 4.78]  :  -534.356103682\n"
     ]
    }
   ],
   "source": [
    "emap_max = [emap[-1][0], emap[-1][1], emap[-1][2]]\n",
    "emap_min = [emap[0][0], emap[0][1], emap[0][2]]\n",
    "\n",
    "coor = [1.89, 11, 4.78]\n",
    "emap_index = energy_map_index(coor, emap_max, emap_min)\n",
    "atom_index = energy_map_atom_index('C', atom_list)\n",
    "\n",
    "print('Energy map energy at ', emap[emap_index][:3], ' : ', emap[emap_index][atom_index] )\n",
    "interpolation_energy = trilinear_interpolate(coor, atom_index, emap, emap_max, emap_min)\n",
    "print('Interpolation energy at ', coor, ' : ', interpolation_energy)"
   ]
  },
  {
   "cell_type": "code",
   "execution_count": null,
   "metadata": {
    "collapsed": false
   },
   "outputs": [],
   "source": []
  },
  {
   "cell_type": "code",
   "execution_count": 7,
   "metadata": {
    "collapsed": false
   },
   "outputs": [],
   "source": [
    "# Initialize simulation parameters\n",
    "structure_energy_limit = 3E3\n",
    "atom_energy_limit = 3E1\n",
    "rotation_limit = 20\n",
    "rotation_freedom = 30\n",
    "summary_percent = 5\n",
    "\n",
    "# Initialize simulation variables\n",
    "Quat = Quaternion([0, 1, 1, 1])\n",
    "\n",
    "initial_coors = initial_coordinates(base_mof, emap, atom_list, 3E10)\n",
    "trial_limit = len(initial_coors) * rotation_limit\n",
    "#omitted_coordinates = len(emap) - len(initial_coors)\n",
    "\n",
    "abort_ip = False\n",
    "structure_count = 0\n",
    "structure_total_energy = 0\n",
    "initial_coor_index = 0\n",
    "# percent_complete = 0\n",
    "div = round(trial_limit / (100 / summary_percent))\n",
    "summary = {'percent':[], 'structure_count': [], 'trial_count':[]}\n",
    "new_structures = []\n",
    "\n",
    "sim_par = {'structure_energy_limit': structure_energy_limit,\n",
    "           'atom_energy_limit': atom_energy_limit,\n",
    "           'rotation_limit': rotation_limit,\n",
    "           'rotation_freedom': rotation_freedom,\n",
    "           'summary_percent': summary_percent\n",
    "          }\n",
    "\n",
    "structure_energy_limit = sim_par['structure_energy_limit']\n",
    "atom_energy_limit = sim_par['atom_energy_limit']\n",
    "rotation_limit = sim_par['rotation_limit']\n",
    "rotation_freedom = sim_par['rotation_freedom']\n",
    "summary_percent = sim_par['summary_percent']"
   ]
  },
  {
   "cell_type": "code",
   "execution_count": 8,
   "metadata": {
    "collapsed": false,
    "scrolled": true
   },
   "outputs": [
    {
     "name": "stdout",
     "output_type": "stream",
     "text": [
      "Percent\tStructure\tTrial\n",
      "0 \t 0 \t 0\n",
      "5 \t 12 \t 15765\n",
      "10 \t 12 \t 31530\n",
      "15 \t 12 \t 47295\n",
      "20 \t 12 \t 63060\n",
      "25 \t 12 \t 78825\n",
      "30 \t 12 \t 94590\n",
      "35 \t 12 \t 110355\n",
      "40 \t 12 \t 126120\n",
      "45 \t 20 \t 141885\n",
      "50 \t 30 \t 157650\n",
      "55 \t 41 \t 173415\n",
      "60 \t 44 \t 189180\n",
      "65 \t 44 \t 204945\n",
      "70 \t 44 \t 220710\n",
      "75 \t 44 \t 236475\n",
      "80 \t 44 \t 252240\n",
      "85 \t 44 \t 268005\n",
      "90 \t 44 \t 283770\n",
      "95 \t 50 \t 299535\n"
     ]
    }
   ],
   "source": [
    "# Main interpenetration algorithm\n",
    "print('Percent\\tStructure\\tTrial')\n",
    "\n",
    "for t in range(trial_limit):  # Can iterate over something else???\n",
    "    abort_ip = False\n",
    "    # Interpenetration trial loop\n",
    "    # Try interpenetration for a specific orientation by going through each atom in mobile mof\n",
    "    for idx in range(len(mobile_mof)):    # Can iterate over something else???\n",
    "    \n",
    "        if not abort_ip:\n",
    "            # If the interpenetration is just starting select rotation angles\n",
    "            if idx == 0:\n",
    "                if t % rotation_limit == 0:\n",
    "                    first_point = initial_coors[initial_coor_index]\n",
    "                    initial_coor_index += 1\n",
    "                    #initial_coor_trial_count += 1\n",
    "\n",
    "                # Determine random angles for rotation in 3D space\n",
    "                x_angle = 2 * pi * math.floor(rand() * (360/rotation_freedom)) / (360/rotation_freedom)\n",
    "                y_angle = 2 * pi * math.floor(rand() * (360/rotation_freedom)) / (360/rotation_freedom)\n",
    "                z_angle = 2 * pi * math.floor(rand() * (360/rotation_freedom)) / (360/rotation_freedom)\n",
    "\n",
    "                # Rotate first atom of the mobile MOF\n",
    "                atom_name = mobile_mof.atom_names[idx]\n",
    "                new_coor = Coor(mobile_mof.atom_coors[idx])\n",
    "                Q = Quaternion([1, new_coor.x, new_coor.y, new_coor.z])  # Might be a better way to do this\n",
    "                Q = Quat.rotation(Q.xyz(), [0, 0, 0], [1, 0, 0], x_angle)\n",
    "                Q = Quat.rotation(Q.xyz(), [0, 0, 0], [0, 1, 0], y_angle)\n",
    "                Q = Quat.rotation(Q.xyz(), [0, 0, 0], [0, 0, 1], z_angle)\n",
    "                # new_coor = Q.coor()\n",
    "                new_coor = Coor(Q.xyz())\n",
    "\n",
    "                translation_vector = first_point - new_coor # Check if operation is correct\n",
    "\n",
    "                # Initialize new structure dictionay\n",
    "                structure = {'atom_names': [], 'atom_coors':[], 'pbc_coors':[], 'energy':[], 'rotation': []}\n",
    "                structure['atom_coors'].append(first_point.xyz())  # Why first point not new_coor?\n",
    "                structure['pbc_coors'].append(new_coor.xyz())\n",
    "                structure['atom_names'].append(atom_name)\n",
    "                structure['rotation'] = [x_angle, y_angle, z_angle]\n",
    "                #print('First point: ', first_point.xyz())\n",
    "                #print('New coor: ', new_coor.xyz())\n",
    "\n",
    "            # If interpenetration is still going on\n",
    "            if idx < len(base_mof) and idx > 0:\n",
    "                atom_name = atom_name = mobile_mof.atom_names[idx]\n",
    "                new_coor = Coor(mobile_mof.atom_coors[idx])\n",
    "                Q = Quaternion([1, new_coor.x, new_coor.y, new_coor.z])  # Might be a better way to do this\n",
    "                Q = Quat.rotation(Q.xyz(), [0, 0, 0], [1, 0, 0], x_angle)\n",
    "                Q = Quat.rotation(Q.xyz(), [0, 0, 0], [0, 1, 0], y_angle)\n",
    "                Q = Quat.rotation(Q.xyz(), [0, 0, 0], [0, 0, 1], z_angle)\n",
    "                # new_coor = Q.coor()\n",
    "                new_coor = Coor(Q.xyz())\n",
    "\n",
    "                new_coor += translation_vector\n",
    "                pbc_coor = new_coor.pbc(base_mof.uc_size, base_mof.uc_angle, base_mof.frac_ucv)\n",
    "\n",
    "                emap_index = energy_map_index(pbc_coor.xyz(), emap_max, emap_min)\n",
    "                emap_atom_index = energy_map_atom_index(atom_name, atom_list)\n",
    "\n",
    "                point_energy = trilinear_interpolate(pbc_coor.xyz(), emap_atom_index, emap, emap_max, emap_min)\n",
    "                structure_total_energy += point_energy\n",
    "\n",
    "                if structure_total_energy > structure_energy_limit:\n",
    "                    structure_total_energy = 0\n",
    "                    abort_ip = True\n",
    "                    break  # Fix this part (break interpenetration trial loop)\n",
    "                elif point_energy > atom_energy_limit:\n",
    "                    structure_total_energy = 0\n",
    "                    abort_ip = True\n",
    "                    break  # Fix this part (break interpenetration trial loop)\n",
    "                else:\n",
    "                    structure['atom_coors'].append(new_coor.xyz())  # Why first point not new_coor?\n",
    "                    structure['pbc_coors'].append(pbc_coor.xyz())\n",
    "                    structure['atom_names'].append(atom_name)\n",
    "                    # new_structure.append(pbc_coor.x, pbc_coor.y, pbc_coor.z, atom_name)\n",
    "\n",
    "            # If interpenetration trial ended with no collision\n",
    "            if idx == len(mobile_mof) - 1:\n",
    "                #print('Interpenetration found!')\n",
    "                \n",
    "                # Record structure information!!!!\n",
    "                structure['energy'] = structure_total_energy\n",
    "                new_structures.append(structure)\n",
    "                structure_count += 1\n",
    "                structure_total_energy = 0\n",
    "\n",
    "    # Record simulation progress according to division (div)\n",
    "    if t % div == 0:\n",
    "        percent_complete = round(t / trial_limit * 100)\n",
    "\n",
    "        # Record summary information\n",
    "        summary['percent'].append(percent_complete)\n",
    "        summary['structure_count'].append(structure_count)\n",
    "        summary['trial_count'].append(t)\n",
    "        print(percent_complete,'\\t', structure_count, '\\t', t)\n"
   ]
  },
  {
   "cell_type": "code",
   "execution_count": 9,
   "metadata": {
    "collapsed": false
   },
   "outputs": [],
   "source": [
    "# add rotate unit cell to rotate unit cell edges and pack new structure coordinates with new unit cell parameters\n",
    "# might not work due to cif convention used in Packing functions\n",
    "# or just rotate each atom in packed coordinates with rotation information from new structures\n",
    "min_energy_structure = sorted(new_structures, key=lambda k: k['energy'])[0]"
   ]
  },
  {
   "cell_type": "code",
   "execution_count": 10,
   "metadata": {
    "collapsed": false
   },
   "outputs": [],
   "source": [
    "# Export xyz\n",
    "export_dir = r'/home/kutay/Documents/Research/MOFs/IPMOF_Python/export'\n",
    "atom_coors = min_energy_structure['atom_coors']\n",
    "atom_names = min_energy_structure['atom_names']\n",
    "file_name = 'IPMOF'\n",
    "export_xyz(atom_coors, atom_names, file_name, export_dir)"
   ]
  },
  {
   "cell_type": "code",
   "execution_count": 14,
   "metadata": {
    "collapsed": false
   },
   "outputs": [],
   "source": [
    "def join_structures(base_mof, new_structure):\n",
    "    joined_atom_names = []\n",
    "    joined_atom_coors = []\n",
    "    for atom, coor in zip(new_structure['atom_names'], new_structure['atom_coors']):\n",
    "        joined_atom_names.append(atom)\n",
    "        joined_atom_coors.append(coor)\n",
    "        \n",
    "    for atom, coor in zip(base_mof.atom_names, base_mof.atom_coors):\n",
    "        joined_atom_names.append(atom)\n",
    "        joined_atom_coors.append(coor)\n",
    "        \n",
    "    return joined_atom_names, joined_atom_coors"
   ]
  },
  {
   "cell_type": "code",
   "execution_count": 16,
   "metadata": {
    "collapsed": false
   },
   "outputs": [],
   "source": [
    "joined_names, joined_coors = join_structures(base_mof, min_energy_structure)\n",
    "export_xyz(joined_coors, joined_names, 'IPMOF-joined', export_dir)"
   ]
  },
  {
   "cell_type": "code",
   "execution_count": null,
   "metadata": {
    "collapsed": false
   },
   "outputs": [],
   "source": []
  },
  {
   "cell_type": "code",
   "execution_count": null,
   "metadata": {
    "collapsed": true
   },
   "outputs": [],
   "source": []
  }
 ],
 "metadata": {
  "kernelspec": {
   "display_name": "Python 3",
   "language": "python",
   "name": "python3"
  },
  "language_info": {
   "codemirror_mode": {
    "name": "ipython",
    "version": 3
   },
   "file_extension": ".py",
   "mimetype": "text/x-python",
   "name": "python",
   "nbconvert_exporter": "python",
   "pygments_lexer": "ipython3",
   "version": "3.5.1"
  }
 },
 "nbformat": 4,
 "nbformat_minor": 0
}
