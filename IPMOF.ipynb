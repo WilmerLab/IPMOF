{
 "cells": [
  {
   "cell_type": "markdown",
   "metadata": {},
   "source": [
    "### IPMOF - InterPenetrating Metal Organic Frameworks\n",
    "\n",
    "#### Initialize necessary information\n",
    "\n",
    "1. Read FF_Parameters excel file to get force field parameters for atoms\n",
    "2. Initialize force field selection, cut_off radius and grid size for energy map\n",
    "\n",
    "#### Read structural information for MOF files in a given directory\n",
    "1. Read MOF files in \".mol2\" format from given directory and create a list\n",
    "2. Create MOF objects for structure files\n",
    "3. Initialize structural information for the MOFs\n",
    "\n",
    "#### Read simulation input parameters\n",
    "1. Read simulation parameters from input file\n",
    "\n",
    "#### Calculate energy map\n",
    "1. Determine packing amount of the MOF\n",
    "2. Calculate packed coordinates for the base MOF\n",
    "3. Calculate energy map\n",
    "\n",
    "#### Start interpenetration\n",
    "1. Energy map + mobile_mof"
   ]
  },
  {
   "cell_type": "code",
   "execution_count": 1,
   "metadata": {
    "collapsed": false
   },
   "outputs": [],
   "source": [
    "import os\n",
    "import math\n",
    "import yaml\n",
    "\n",
    "input_dir = r'/home/kutay/Documents/git/IPMOF'\n",
    "sim_par_path = os.path.join(input_dir, 'sim_par.yaml')\n",
    "sim_dir_path = os.path.join(input_dir, 'sim_dir_linux.yaml')\n",
    "\n",
    "# Read sim par yaml file\n",
    "sim_par = yaml.load(open(sim_par_path, 'r'))\n",
    "sim_dir = yaml.load(open(sim_dir_path, 'r'))"
   ]
  },
  {
   "cell_type": "code",
   "execution_count": 2,
   "metadata": {
    "collapsed": false
   },
   "outputs": [
    {
     "name": "stdout",
     "output_type": "stream",
     "text": [
      "Populating the interactive namespace from numpy and matplotlib\n"
     ]
    },
    {
     "name": "stderr",
     "output_type": "stream",
     "text": [
      "WARNING: pylab import has clobbered these variables: ['sqrt', 'floor', 'inf', 'ceil']\n",
      "`%matplotlib` prevents importing * from pylab and numpy\n"
     ]
    }
   ],
   "source": [
    "# Load interpenetration python libraries\n",
    "os.chdir(sim_dir['python_lib_dir'])\n",
    "from forcefield import read_ff_parameters\n",
    "from crystal import *\n",
    "from energymap import *\n",
    "from visualize import *\n",
    "from interpenetration import *\n",
    "from geometry import Coor, Quaternion\n",
    "from input import export_sim_par, export_sim_dir\n",
    "%pylab inline\n",
    "\n",
    "# Read excel file containing force field information\n",
    "uff = read_ff_parameters(sim_dir['excel_file_path'], 'uff')"
   ]
  },
  {
   "cell_type": "markdown",
   "metadata": {},
   "source": [
    "### File Input Options\n",
    "- <b> Built-in read_mol2 </b>\n",
    "<pre>\n",
    "uc_size, uc_angle, atom_names, atom_coors = read_mol2(mol2_path)\n",
    "mof = MOF()\n",
    "mof.initialize(mof.mol2_path)\n",
    "</pre> \n",
    "- <b> Ase pdb read (cif read gives error) </b>\n",
    "<pre>\n",
    "from ase.io import read\n",
    "mof_atoms = read(mof_dir, format='pdb')\n",
    "mof_atoms.get_positions()                # Coordinates\n",
    "mof_atoms.get_chemical_symbols()         # Atom names\n",
    "mof_atoms.get_cell()                     # Cell vectors? (check)\n",
    "mof_obj.get_number_of_atoms()            # Num of atoms\n",
    "mof_obj.get_volume()                     # Unit cell volume\n",
    "\n",
    "</pre>\n",
    "- <b> Open babel </b>\n",
    "<pre>\n",
    "babel -icif *.cif -opdb *.pdb\n",
    "</pre>"
   ]
  },
  {
   "cell_type": "code",
   "execution_count": 3,
   "metadata": {
    "collapsed": false
   },
   "outputs": [
    {
     "name": "stdout",
     "output_type": "stream",
     "text": [
      "['QIGBIR.mol2', 'OFODAP.mol2', 'UNIGEE.mol2', 'ZIF90.mol2', 'SAHYIK.mol2', 'KINFAQ.mol2', 'NUVWIL.mol2']\n"
     ]
    }
   ],
   "source": [
    "# Create list of MOFs\n",
    "mol2_list = get_mof_list(sim_dir['mol2_dir'], '.mol2')\n",
    "print(mol2_list)\n",
    "\n",
    "base_mof_index = 4\n",
    "mobile_mof_index = 4"
   ]
  },
  {
   "cell_type": "code",
   "execution_count": 4,
   "metadata": {
    "collapsed": false
   },
   "outputs": [
    {
     "name": "stdout",
     "output_type": "stream",
     "text": [
      "Base MOF selected as:  SAHYIK\n",
      "Mobile MOF selected as:  SAHYIK\n"
     ]
    }
   ],
   "source": [
    "# Read mol2 files and initialize MOF objects\n",
    "base_mof = MOF()\n",
    "base_mof.mol2_path = os.path.join(sim_dir['mol2_dir'], mol2_list[base_mof_index])\n",
    "base_mof.initialize()\n",
    "base_mof.initialize_ff(uff)\n",
    "print('Base MOF selected as: ', base_mof.name)\n",
    "\n",
    "mobile_mof = MOF()\n",
    "mobile_mof.mol2_path = os.path.join(sim_dir['mol2_dir'], mol2_list[mobile_mof_index])\n",
    "mobile_mof.initialize()\n",
    "mobile_mof.initialize_ff(uff)\n",
    "print('Mobile MOF selected as: ', mobile_mof.name)"
   ]
  },
  {
   "cell_type": "code",
   "execution_count": 5,
   "metadata": {
    "collapsed": false
   },
   "outputs": [
    {
     "name": "stdout",
     "output_type": "stream",
     "text": [
      "Base MOF unit cell:  [25.669, 25.669, 25.669]\n",
      "Packing factor: [3, 3, 3]\n",
      "Num of coor : 11448\n"
     ]
    }
   ],
   "source": [
    "cut_off = sim_par['cut_off']\n",
    "\n",
    "base_mof.packing_factor = Packing.factor(base_mof.uc_size, cut_off)\n",
    "uc_vectors = Packing.uc_vectors(base_mof.uc_size, base_mof.uc_angle)\n",
    "trans_vec = Packing.translation_vectors(base_mof.packing_factor, uc_vectors)\n",
    "base_mof.packed_coors = Packing.uc_coors(trans_vec, base_mof.packing_factor, uc_vectors, base_mof.atom_coors)\n",
    "base_mof.edge_points = Packing.edge_points(uc_vectors)\n",
    "\n",
    "print('Base MOF unit cell: ', base_mof.uc_size)\n",
    "print('Packing factor:', base_mof.packing_factor)\n",
    "print('Num of coor :', len(base_mof.packed_coors)*len(base_mof.packed_coors[0]))"
   ]
  },
  {
   "cell_type": "code",
   "execution_count": 6,
   "metadata": {
    "collapsed": false
   },
   "outputs": [
    {
     "name": "stdout",
     "output_type": "stream",
     "text": [
      "Calculating emap for SAHYIK with atoms: ['C', 'H', 'Zn', 'O']\n"
     ]
    }
   ],
   "source": [
    "atom_list = get_uniq_atom_list([mobile_mof])\n",
    "print('Calculating emap for', base_mof.name, 'with atoms:', atom_list['atom'])\n",
    "emap = energy_map(base_mof, atom_list, cut_off, 1)"
   ]
  },
  {
   "cell_type": "code",
   "execution_count": 21,
   "metadata": {
    "collapsed": true
   },
   "outputs": [],
   "source": [
    "# Run interpenetration\n",
    "summary, new_structures = run_interpenetration(sim_par, base_mof, mobile_mof, emap, atom_list)"
   ]
  },
  {
   "cell_type": "code",
   "execution_count": 22,
   "metadata": {
    "collapsed": false
   },
   "outputs": [],
   "source": [
    "# Get minimum energy structure by sorting total structure energies\n",
    "min_energy_structure = sorted(new_structures, key=lambda k: k['energy'])[0]"
   ]
  },
  {
   "cell_type": "code",
   "execution_count": 23,
   "metadata": {
    "collapsed": false
   },
   "outputs": [],
   "source": [
    "# Get structure information for the interpenetrating structure\n",
    "ext_structure = save_extension(sim_par, base_mof, mobile_mof, emap, atom_list, min_energy_structure)"
   ]
  },
  {
   "cell_type": "code",
   "execution_count": null,
   "metadata": {
    "collapsed": false,
    "scrolled": true
   },
   "outputs": [],
   "source": [
    "# Join base and mobile layers\n",
    "\n",
    "# Export to xyz format\n",
    "export_xyz(joined_structure['atom_coors'], joined_structure['atom_names'], 'Joined', sim_dir['export_dir'])"
   ]
  },
  {
   "cell_type": "code",
   "execution_count": 34,
   "metadata": {
    "collapsed": false
   },
   "outputs": [
    {
     "name": "stdout",
     "output_type": "stream",
     "text": [
      "[3, 3, 3]\n"
     ]
    }
   ],
   "source": [
    "export_xyz(ext_structure['atom_coors'], ext_structure['atom_names'], 'mobile_ext', sim_dir['export_dir'])"
   ]
  },
  {
   "cell_type": "code",
   "execution_count": 29,
   "metadata": {
    "collapsed": false
   },
   "outputs": [],
   "source": [
    "collision = check_extension(sim_par, base_mof, mobile_mof, emap, atom_list, min_energy_structure)"
   ]
  },
  {
   "cell_type": "code",
   "execution_count": null,
   "metadata": {
    "collapsed": false
   },
   "outputs": [],
   "source": [
    "def join_structures(base_mof, new_structure):\n",
    "    joined_atom_names = []\n",
    "    joined_atom_coors = []\n",
    "    for atom, coor in zip(new_structure['atom_names'], new_structure['atom_coors']):\n",
    "        joined_atom_names.append(atom)\n",
    "        joined_atom_coors.append(coor)\n",
    "        \n",
    "    for atom, coor in zip(base_mof.atom_names, base_mof.atom_coors):\n",
    "        joined_atom_names.append(atom)\n",
    "        joined_atom_coors.append(coor)\n",
    "        \n",
    "    return joined_atom_names, joined_atom_coors\n",
    "\n",
    "# Define file name and export directory\n",
    "file_name = base_mof.name + '_' + mobile_mof.name\n",
    "# export_dir = r'C:\\Kutay\\MOFs\\IPMOF_Python\\export'\n",
    "export_dir = r'/home/kutay/Documents/Research/MOFs/IPMOF_Python/export'\n",
    "\n",
    "# Join interpenetrating structures\n",
    "joined_names, joined_coors = join_structures(base_mof, ext_structure)\n",
    "\n",
    "# Export coordinates in .xyz format\n",
    "export_xyz(joined_coors, joined_names, file_name, export_dir)"
   ]
  },
  {
   "cell_type": "code",
   "execution_count": null,
   "metadata": {
    "collapsed": false
   },
   "outputs": [],
   "source": [
    "packing_factor = Packing.factor(mobile_mof.uc_size, 50)\n",
    "uc_vectors = Packing.uc_vectors(mobile_mof.uc_size, mobile_mof.uc_angle)\n",
    "trans_vec = Packing.translation_vectors(packing_factor, uc_vectors)\n",
    "packed_coors = Packing.uc_coors(trans_vec, packing_factor, uc_vectors, mobile_mof.atom_coors)"
   ]
  },
  {
   "cell_type": "code",
   "execution_count": null,
   "metadata": {
    "collapsed": false
   },
   "outputs": [],
   "source": [
    "packed_mof_path = os.path.join(export_dir, 'packed.xyz')\n",
    "packed_mof_file = open(packed_mof_path, 'w')\n",
    "packed_mof_file.write(str(len(packed_coors)*len(packed_coors[0])) + '\\n')\n",
    "packed_mof_file.write('Packed \\n')\n",
    "\n",
    "for unit_cell in packed_coors:\n",
    "    for coor_index, coor in enumerate(unit_cell):\n",
    "        atom_name = mobile_mof.atom_names[coor_index]\n",
    "        packed_mof_file.write(atom_name + ' ' + str(coor[0]) + ' ' + str(coor[1]) + ' ' + str(coor[2]) + '\\n')\n",
    "        \n",
    "packed_mof_file.close()"
   ]
  },
  {
   "cell_type": "code",
   "execution_count": null,
   "metadata": {
    "collapsed": false
   },
   "outputs": [],
   "source": [
    "def join_structures(base_structure, new_structure):\n",
    "    joined_atom_names = []\n",
    "    joined_atom_coors = []\n",
    "    for atom, coor in zip(new_structure['atom_names'], new_structure['atom_coors']):\n",
    "        joined_atom_names.append(atom)\n",
    "        joined_atom_coors.append(coor)\n",
    "        \n",
    "    for atom, coor in zip(base_structure['atom_names'], base_structure['atom_coors']):\n",
    "        joined_atom_names.append(atom)\n",
    "        joined_atom_coors.append(coor)\n",
    "        \n",
    "    return joined_atom_names, joined_atom_coors"
   ]
  },
  {
   "cell_type": "code",
   "execution_count": null,
   "metadata": {
    "collapsed": false
   },
   "outputs": [],
   "source": [
    "packing_factor = Packing.factor(base_mof.uc_size, 20)\n",
    "uc_vectors = Packing.uc_vectors(base_mof.uc_size, base_mof.uc_angle)\n",
    "trans_vec = Packing.translation_vectors(packing_factor, uc_vectors)\n",
    "packed_coors = Packing.uc_coors(trans_vec, packing_factor, uc_vectors, base_mof.atom_coors)\n",
    "\n",
    "packed_names = []\n",
    "for unit_cell in packed_coors:\n",
    "    for coor_index, coor in enumerate(unit_cell):\n",
    "        atom_name = mobile_mof.atom_names[coor_index]\n",
    "        packed_names.append(atom_name)\n",
    "        \n",
    "packed_str = {'atom_names': packed_names, 'atom_coors': packed_coors}"
   ]
  },
  {
   "cell_type": "code",
   "execution_count": null,
   "metadata": {
    "collapsed": false
   },
   "outputs": [],
   "source": [
    "# Define file name and export directory\n",
    "file_name = base_mof.name + '_' + mobile_mof.name\n",
    "# export_dir = r'C:\\Kutay\\MOFs\\IPMOF_Python\\export'\n",
    "export_dir = r'/home/kutay/Documents/Research/MOFs/IPMOF_Python/export'\n",
    "\n",
    "# Join interpenetrating structures\n",
    "joined_names, joined_coors = join_structures(packed_str, ext_structure)\n",
    "\n",
    "# Export coordinates in .xyz format\n",
    "export_xyz(joined_coors, joined_names, file_name, export_dir)"
   ]
  },
  {
   "cell_type": "code",
   "execution_count": null,
   "metadata": {
    "collapsed": false
   },
   "outputs": [],
   "source": []
  },
  {
   "cell_type": "code",
   "execution_count": null,
   "metadata": {
    "collapsed": false
   },
   "outputs": [],
   "source": []
  },
  {
   "cell_type": "code",
   "execution_count": null,
   "metadata": {
    "collapsed": true
   },
   "outputs": [],
   "source": []
  },
  {
   "cell_type": "code",
   "execution_count": null,
   "metadata": {
    "collapsed": true
   },
   "outputs": [],
   "source": []
  }
 ],
 "metadata": {
  "kernelspec": {
   "display_name": "Python 3",
   "language": "python",
   "name": "python3"
  },
  "language_info": {
   "codemirror_mode": {
    "name": "ipython",
    "version": 3
   },
   "file_extension": ".py",
   "mimetype": "text/x-python",
   "name": "python",
   "nbconvert_exporter": "python",
   "pygments_lexer": "ipython3",
   "version": "3.5.1"
  }
 },
 "nbformat": 4,
 "nbformat_minor": 0
}
