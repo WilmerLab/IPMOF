{
 "cells": [
  {
   "cell_type": "markdown",
   "metadata": {},
   "source": [
    "### IPMOF - InterPenetrating Metal Organic Frameworks\n",
    "\n",
    "#### Initialize necessary information\n",
    "\n",
    "1. Read FF_Parameters excel file to get force field parameters for atoms\n",
    "2. Initialize force field selection, cut_off radius and grid size for energy map\n",
    "\n",
    "#### Read structural information for MOF files in a given directory\n",
    "1. Read MOF files in \".mol2\" format from given directory and create a list\n",
    "2. Create MOF objects for structure files\n",
    "3. Initialize structural information for the MOFs\n",
    "\n",
    "#### Read simulation input parameters\n",
    "1. Read simulation parameters from input file\n",
    "\n",
    "#### Calculate energy map\n",
    "1. Determine packing amount of the MOF\n",
    "2. Calculate packed coordinates for the base MOF\n",
    "3. Calculate energy map\n",
    "\n",
    "#### Start interpenetration\n",
    "1. Energy map + mobile_mof"
   ]
  },
  {
   "cell_type": "code",
   "execution_count": 1,
   "metadata": {
    "collapsed": false
   },
   "outputs": [
    {
     "name": "stdout",
     "output_type": "stream",
     "text": [
      "Populating the interactive namespace from numpy and matplotlib\n"
     ]
    },
    {
     "name": "stderr",
     "output_type": "stream",
     "text": [
      "WARNING: pylab import has clobbered these variables: ['sqrt', 'floor', 'inf', 'ceil']\n",
      "`%matplotlib` prevents importing * from pylab and numpy\n"
     ]
    }
   ],
   "source": [
    "import math\n",
    "import os\n",
    "#os.chdir(r'/home/kutay/Documents/git/IPMOF/IPMOF_Python')\n",
    "os.chdir(r'C:\\Kutay\\IPMOF\\IPMOF_Python')\n",
    "from forcefield import *\n",
    "from crystal import *\n",
    "from energymap import *\n",
    "from visualize import *\n",
    "from interpenetration import *\n",
    "from quaternion import *\n",
    "%pylab inline\n",
    "\n",
    "# Read excel file containing force field information\n",
    "#excel_file_path = '/home/kutay/Documents/Research/FF_Parameters.xlsx'\n",
    "excel_file_path = r'C:\\Users\\kutay\\iPython\\IPMOF\\FF_Parameters.xlsx'\n",
    "uff = read_ff_parameters(excel_file_path, 'uff')"
   ]
  },
  {
   "cell_type": "markdown",
   "metadata": {},
   "source": [
    "### File Input Options\n",
    "- <b> Built-in read_mol2 </b>\n",
    "<pre>\n",
    "uc_size, uc_angle, atom_names, atom_coors = read_mol2(mol2_path)\n",
    "mof = MOF()\n",
    "mof.initialize(mof.mol2_path)\n",
    "</pre> \n",
    "- <b> Ase pdb read (cif read gives error) </b>\n",
    "<pre>\n",
    "from ase.io import read\n",
    "mof_atoms = read(mof_dir, format='pdb')\n",
    "mof_atoms.get_positions()                # Coordinates\n",
    "mof_atoms.get_chemical_symbols()         # Atom names\n",
    "mof_atoms.get_cell()                     # Cell vectors? (check)\n",
    "mof_obj.get_number_of_atoms()            # Num of atoms\n",
    "mof_obj.get_volume()                     # Unit cell volume\n",
    "\n",
    "</pre>\n",
    "- <b> Open babel </b>\n",
    "<pre>\n",
    "babel -icif *.cif -opdb *.pdb\n",
    "</pre>"
   ]
  },
  {
   "cell_type": "code",
   "execution_count": 2,
   "metadata": {
    "collapsed": false
   },
   "outputs": [
    {
     "name": "stdout",
     "output_type": "stream",
     "text": [
      "['KINFAQ.mol2', 'NUVWIL.mol2', 'OFODAP_clean.mol2', 'QIGBIR_clean.mol2', 'UNIGEE_clean.mol2', 'ZIF-90.mol2']\n"
     ]
    }
   ],
   "source": [
    "# Create list of MOFs\n",
    "#mol2_dir = r'/home/kutay/Documents/Research/MOFs/IPMOF_Python/mol2'\n",
    "mol2_dir = r'C:\\Kutay\\MOFs\\IPMOF_Python'\n",
    "mol2_list = get_mof_list(mol2_dir, '.mol2')\n",
    "print(mol2_list)"
   ]
  },
  {
   "cell_type": "code",
   "execution_count": 3,
   "metadata": {
    "collapsed": false
   },
   "outputs": [
    {
     "name": "stdout",
     "output_type": "stream",
     "text": [
      "Base MOF selected as:  OFODAP_clean\n",
      "Mobile MOF selected as:  UNIGEE_clean\n"
     ]
    }
   ],
   "source": [
    "# Read mol2 files and initialize MOF objects\n",
    "base_mof = MOF()\n",
    "base_mof.mol2_path = os.path.join(mol2_dir, mol2_list[2])\n",
    "base_mof.initialize()\n",
    "base_mof.initialize_ff(uff)\n",
    "print('Base MOF selected as: ', base_mof.name)\n",
    "\n",
    "mobile_mof = MOF()\n",
    "mobile_mof.mol2_path = os.path.join(mol2_dir, mol2_list[4])\n",
    "mobile_mof.initialize()\n",
    "mobile_mof.initialize_ff(uff)\n",
    "print('Mobile MOF selected as: ', mobile_mof.name)"
   ]
  },
  {
   "cell_type": "code",
   "execution_count": 4,
   "metadata": {
    "collapsed": false
   },
   "outputs": [
    {
     "name": "stdout",
     "output_type": "stream",
     "text": [
      "Base MOF unit cell:  [12.8597, 15.1207, 23.516]\n",
      "Packing factor: [3, 3, 3]\n",
      "Num of coor : 3672\n"
     ]
    }
   ],
   "source": [
    "cut_off = 12\n",
    "\n",
    "base_mof.packing_factor = Packing.factor(base_mof.uc_size, cut_off)\n",
    "uc_vectors = Packing.uc_vectors(base_mof.uc_size, base_mof.uc_angle)\n",
    "trans_vec = Packing.translation_vectors(base_mof.packing_factor, uc_vectors)\n",
    "base_mof.packed_coors = Packing.uc_coors(trans_vec, base_mof.packing_factor, uc_vectors, base_mof.atom_coors)\n",
    "base_mof.edge_points = Packing.edge_points(uc_vectors)\n",
    "\n",
    "print('Base MOF unit cell: ', base_mof.uc_size)\n",
    "print('Packing factor:', base_mof.packing_factor)\n",
    "print('Num of coor :', len(base_mof.packed_coors)*len(base_mof.packed_coors[0]))"
   ]
  },
  {
   "cell_type": "code",
   "execution_count": 5,
   "metadata": {
    "collapsed": false
   },
   "outputs": [],
   "source": [
    "atom_list = get_uniq_atom_list([mobile_mof])\n",
    "emap = energy_map(base_mof, atom_list, cut_off, 1)"
   ]
  },
  {
   "cell_type": "code",
   "execution_count": 6,
   "metadata": {
    "collapsed": false
   },
   "outputs": [
    {
     "name": "stdout",
     "output_type": "stream",
     "text": [
      "Energy map energy at  [  2.  11.   5.]  :  -591.23455496\n",
      "Interpolation energy at  [1.89, 11, 4.78]  :  -230.999666661\n"
     ]
    }
   ],
   "source": [
    "emap_max = [emap[-1][0], emap[-1][1], emap[-1][2]]\n",
    "emap_min = [emap[0][0], emap[0][1], emap[0][2]]\n",
    "\n",
    "coor = [1.89, 11, 4.78]\n",
    "emap_index = energy_map_index(coor, emap_max, emap_min)\n",
    "atom_index = energy_map_atom_index('C', atom_list)\n",
    "\n",
    "print('Energy map energy at ', emap[emap_index][:3], ' : ', emap[emap_index][atom_index] )\n",
    "interpolation_energy = trilinear_interpolate(coor, atom_index, emap, emap_max, emap_min)\n",
    "print('Interpolation energy at ', coor, ' : ', interpolation_energy)"
   ]
  },
  {
   "cell_type": "code",
   "execution_count": null,
   "metadata": {
    "collapsed": false
   },
   "outputs": [],
   "source": []
  },
  {
   "cell_type": "code",
   "execution_count": 7,
   "metadata": {
    "collapsed": false
   },
   "outputs": [],
   "source": [
    "# Initialize simulation parameters\n",
    "structure_energy_limit = 3E12\n",
    "atom_energy_limit = 3E10\n",
    "rotation_limit = 20\n",
    "rotation_freedom = 30\n",
    "\n",
    "Quat = Quaternion([0, 1, 1, 1])\n",
    "\n",
    "initial_coors = initial_coordinates(base_mof, emap, atom_list, 3E10)\n",
    "trial_limit = len(initial_coors) * rotation_limit\n",
    "#trial_limit = 1000\n",
    "#omitted_coordinates = len(emap) - len(initial_coors)\n",
    "\n",
    "abort_ip = False\n",
    "structure_count = 0\n",
    "structure_total_energy = 0\n",
    "initial_coor_index = 0\n",
    "trial_count = 0\n",
    "percent_complete = 0\n",
    "div = round(trial_limit / 19)\n",
    "new_structures = []\n",
    "summary = []"
   ]
  },
  {
   "cell_type": "code",
   "execution_count": 8,
   "metadata": {
    "collapsed": false
   },
   "outputs": [
    {
     "name": "stdout",
     "output_type": "stream",
     "text": [
      "Interpenetration found!\n",
      "Interpenetration found!\n",
      "Interpenetration found!\n",
      "Interpenetration found!\n",
      "Interpenetration found!\n",
      "Interpenetration found!\n",
      "Interpenetration found!\n",
      "Interpenetration found!\n",
      "Interpenetration found!\n",
      "Interpenetration found!\n",
      "Interpenetration found!\n",
      "Interpenetration found!\n",
      "Interpenetration found!\n",
      "Interpenetration found!\n",
      "Interpenetration found!\n",
      "Interpenetration found!\n",
      "Interpenetration found!\n",
      "Interpenetration found!\n",
      "Interpenetration found!\n"
     ]
    }
   ],
   "source": [
    "# Main interpenetration algorithm\n",
    "\n",
    "for t in range(trial_limit):  # Can iterate over something else???\n",
    "    abort_ip = False\n",
    "    # Interpenetration trial loop\n",
    "    # Try interpenetration for a specific orientation by going through each atom in mobile mof\n",
    "    for idx in range(len(mobile_mof)):    # Can iterate over something else???\n",
    "    \n",
    "        if not abort_ip:\n",
    "            # If the interpenetration is just starting select rotation angles\n",
    "            if idx == 0:\n",
    "                if trial_count % rotation_limit == 0:\n",
    "                    first_point = initial_coors[initial_coor_index]\n",
    "                    initial_coor_index += 1\n",
    "                    #initial_coor_trial_count += 1\n",
    "\n",
    "                # Determine random angles for rotation in 3D space\n",
    "                x_angle = 2 * pi * math.floor(rand() * (360/rotation_freedom)) / (360/rotation_freedom)\n",
    "                y_angle = 2 * pi * math.floor(rand() * (360/rotation_freedom)) / (360/rotation_freedom)\n",
    "                z_angle = 2 * pi * math.floor(rand() * (360/rotation_freedom)) / (360/rotation_freedom)\n",
    "\n",
    "                # Rotate first atom of the mobile MOF\n",
    "                atom_name = mobile_mof.atom_names[idx]\n",
    "                new_coor = Coor(mobile_mof.atom_coors[idx])\n",
    "                Q = Quaternion([1, new_coor.x, new_coor.y, new_coor.z])  # Might be a better way to do this\n",
    "                Q = Quat.rotation(Q.xyz(), [0, 0, 0], [1, 0, 0], x_angle)\n",
    "                Q = Quat.rotation(Q.xyz(), [0, 0, 0], [0, 1, 0], y_angle)\n",
    "                Q = Quat.rotation(Q.xyz(), [0, 0, 0], [0, 0, 1], z_angle)\n",
    "                new_coor = Q.coor()\n",
    "                trial_count += 1\n",
    "\n",
    "                translation_vector = first_point - new_coor # Check if operation is correct\n",
    "\n",
    "                new_structure = []\n",
    "                new_structure.append([first_point.x, first_point.y, first_point.z, atom_name]) # why first point but not new coor???\n",
    "\n",
    "\n",
    "            # If interpenetration is still going on\n",
    "            if idx < len(base_mof) and idx > 0:\n",
    "                atom_name = atom_name = mobile_mof.atom_names[idx]\n",
    "                new_coor = Coor(mobile_mof.atom_coors[idx])\n",
    "                Q = Quaternion([1, new_coor.x, new_coor.y, new_coor.z])  # Might be a better way to do this\n",
    "                Q = Quat.rotation(Q.xyz(), [0, 0, 0], [1, 0, 0], x_angle)\n",
    "                Q = Quat.rotation(Q.xyz(), [0, 0, 0], [0, 1, 0], y_angle)\n",
    "                Q = Quat.rotation(Q.xyz(), [0, 0, 0], [0, 0, 1], z_angle)\n",
    "                new_coor = Q.coor()\n",
    "\n",
    "                new_coor += translation_vector\n",
    "                pbc_coor = new_coor.pbc(base_mof.uc_size, base_mof.uc_angle, base_mof.frac_ucv)\n",
    "\n",
    "                emap_index = energy_map_index(pbc_coor.xyz(), emap_max, emap_min)\n",
    "                emap_atom_index = energy_map_atom_index(atom_name, atom_list)\n",
    "\n",
    "                point_energy = trilinear_interpolate(pbc_coor.xyz(), emap_atom_index, emap, emap_max, emap_min)\n",
    "                structure_total_energy += point_energy\n",
    "\n",
    "                if structure_total_energy > structure_energy_limit:\n",
    "                    structure_total_energy = 0\n",
    "                    abort_ip = True\n",
    "                    break  # Fix this part (break interpenetration trial loop)\n",
    "                elif point_energy > atom_energy_limit:\n",
    "                    structure_total_energy = 0\n",
    "                    abort_ip = True\n",
    "                    break  # Fix this part (break interpenetration trial loop)\n",
    "                else:\n",
    "                    new_structure.append([new_coor.x, new_coor.y, new_coor.z, atom_name])\n",
    "                    # new_structure.append(pbc_coor.x, pbc_coor.y, pbc_coor.z, atom_name)\n",
    "\n",
    "            # If interpenetration trial ended with no collision\n",
    "            if idx == len(mobile_mof) - 1:\n",
    "                print('Interpenetration found!')\n",
    "                new_structures.append(new_structure)\n",
    "                # Record structure information!!!!\n",
    "                structure_count += 1\n",
    "                structure_total_energy = 0\n",
    "\n",
    "            # Record simulation progress according to division (div)\n",
    "            if t % div == 0:\n",
    "                percent_complete = round(t / trial_limit * 100);\n",
    "                summary.append([percent_complete, structure_count, trial_count])\n",
    "                # Record summary information\n"
   ]
  },
  {
   "cell_type": "code",
   "execution_count": 12,
   "metadata": {
    "collapsed": false
   },
   "outputs": [
    {
     "data": {
      "text/plain": [
       "106"
      ]
     },
     "execution_count": 12,
     "metadata": {},
     "output_type": "execute_result"
    }
   ],
   "source": [
    "len(new_structures[0])\n",
    "# add rotate unit cell to rotate unit cell edges and pack new structure coordinates with new unit cell parameters\n",
    "# might not work due to cif convention used in Packing functions\n",
    "# or just rotate each atom in packed coordinates with rotation information from new structures"
   ]
  },
  {
   "cell_type": "code",
   "execution_count": 14,
   "metadata": {
    "collapsed": false
   },
   "outputs": [
    {
     "data": {
      "text/plain": [
       "106"
      ]
     },
     "execution_count": 14,
     "metadata": {},
     "output_type": "execute_result"
    }
   ],
   "source": [
    "len(mobile_mof)"
   ]
  },
  {
   "cell_type": "code",
   "execution_count": null,
   "metadata": {
    "collapsed": true
   },
   "outputs": [],
   "source": []
  }
 ],
 "metadata": {
  "kernelspec": {
   "display_name": "Python 3",
   "language": "python",
   "name": "python3"
  },
  "language_info": {
   "codemirror_mode": {
    "name": "ipython",
    "version": 3
   },
   "file_extension": ".py",
   "mimetype": "text/x-python",
   "name": "python",
   "nbconvert_exporter": "python",
   "pygments_lexer": "ipython3",
   "version": "3.5.1"
  }
 },
 "nbformat": 4,
 "nbformat_minor": 0
}
