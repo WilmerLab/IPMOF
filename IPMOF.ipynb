{
 "cells": [
  {
   "cell_type": "markdown",
   "metadata": {},
   "source": [
    "### IPMOF - InterPenetrating Metal Organic Frameworks\n",
    "\n",
    "#### Initialize necessary information\n",
    "\n",
    "1. Read FF_Parameters excel file to get force field parameters for atoms\n",
    "2. Initialize force field selection, cut_off radius and grid size for energy map\n",
    "\n",
    "#### Read structural information for MOF files in a given directory\n",
    "1. Read MOF files in \".mol2\" format from given directory and create a list\n",
    "2. Create MOF objects for structure files\n",
    "3. Initialize structural information for the MOFs\n",
    "\n",
    "#### Read simulation input parameters\n",
    "1. Read simulation parameters from input file\n",
    "\n",
    "#### Calculate energy map\n",
    "1. Determine packing amount of the MOF\n",
    "2. Calculate packed coordinates for the base MOF\n",
    "3. Calculate energy map\n",
    "\n",
    "#### Start interpenetration\n",
    "1. Energy map + mobile_mof"
   ]
  },
  {
   "cell_type": "code",
   "execution_count": 1,
   "metadata": {
    "collapsed": false
   },
   "outputs": [
    {
     "name": "stdout",
     "output_type": "stream",
     "text": [
      "Populating the interactive namespace from numpy and matplotlib\n"
     ]
    },
    {
     "name": "stderr",
     "output_type": "stream",
     "text": [
      "WARNING: pylab import has clobbered these variables: ['inf', 'floor', 'ceil', 'sqrt']\n",
      "`%matplotlib` prevents importing * from pylab and numpy\n"
     ]
    }
   ],
   "source": [
    "import math\n",
    "import os\n",
    "#os.chdir(r'/home/kutay/Documents/git/IPMOF/IPMOF_Python')\n",
    "os.chdir(r'C:\\Kutay\\IPMOF\\IPMOF_Python')\n",
    "from forcefield import read_ff_parameters\n",
    "from crystal import *\n",
    "from energymap import *\n",
    "from visualize import *\n",
    "from interpenetration import *\n",
    "from quaternion import *\n",
    "%pylab inline\n",
    "\n",
    "# Read excel file containing force field information\n",
    "#excel_file_path = '/home/kutay/Documents/Research/FF_Parameters.xlsx'\n",
    "excel_file_path = r'C:\\Users\\kutay\\iPython\\IPMOF\\FF_Parameters.xlsx'\n",
    "uff = read_ff_parameters(excel_file_path, 'uff')"
   ]
  },
  {
   "cell_type": "markdown",
   "metadata": {},
   "source": [
    "### File Input Options\n",
    "- <b> Built-in read_mol2 </b>\n",
    "<pre>\n",
    "uc_size, uc_angle, atom_names, atom_coors = read_mol2(mol2_path)\n",
    "mof = MOF()\n",
    "mof.initialize(mof.mol2_path)\n",
    "</pre> \n",
    "- <b> Ase pdb read (cif read gives error) </b>\n",
    "<pre>\n",
    "from ase.io import read\n",
    "mof_atoms = read(mof_dir, format='pdb')\n",
    "mof_atoms.get_positions()                # Coordinates\n",
    "mof_atoms.get_chemical_symbols()         # Atom names\n",
    "mof_atoms.get_cell()                     # Cell vectors? (check)\n",
    "mof_obj.get_number_of_atoms()            # Num of atoms\n",
    "mof_obj.get_volume()                     # Unit cell volume\n",
    "\n",
    "</pre>\n",
    "- <b> Open babel </b>\n",
    "<pre>\n",
    "babel -icif *.cif -opdb *.pdb\n",
    "</pre>"
   ]
  },
  {
   "cell_type": "code",
   "execution_count": 4,
   "metadata": {
    "collapsed": false
   },
   "outputs": [
    {
     "name": "stdout",
     "output_type": "stream",
     "text": [
      "['KINFAQ.mol2', 'NUVWIL.mol2', 'OFODAP_clean.mol2', 'QIGBIR_clean.mol2', 'SAHYIK.mol2', 'UNIGEE_clean.mol2', 'ZIF-90.mol2']\n"
     ]
    }
   ],
   "source": [
    "# Create list of MOFs\n",
    "#mol2_dir = r'/home/kutay/Documents/Research/MOFs/IPMOF_Python/mol2'\n",
    "mol2_dir = r'C:\\Kutay\\MOFs\\IPMOF_Python'\n",
    "mol2_list = get_mof_list(mol2_dir, '.mol2')\n",
    "print(mol2_list)"
   ]
  },
  {
   "cell_type": "code",
   "execution_count": 8,
   "metadata": {
    "collapsed": false
   },
   "outputs": [
    {
     "name": "stdout",
     "output_type": "stream",
     "text": [
      "Base MOF selected as:  SAHYIK\n",
      "Mobile MOF selected as:  SAHYIK\n"
     ]
    }
   ],
   "source": [
    "# Read mol2 files and initialize MOF objects\n",
    "base_mof = MOF()\n",
    "base_mof.mol2_path = os.path.join(mol2_dir, mol2_list[4])\n",
    "base_mof.initialize()\n",
    "base_mof.initialize_ff(uff)\n",
    "print('Base MOF selected as: ', base_mof.name)\n",
    "\n",
    "mobile_mof = MOF()\n",
    "mobile_mof.mol2_path = os.path.join(mol2_dir, mol2_list[4])\n",
    "mobile_mof.initialize()\n",
    "mobile_mof.initialize_ff(uff)\n",
    "print('Mobile MOF selected as: ', mobile_mof.name)"
   ]
  },
  {
   "cell_type": "code",
   "execution_count": 9,
   "metadata": {
    "collapsed": false
   },
   "outputs": [
    {
     "name": "stdout",
     "output_type": "stream",
     "text": [
      "Base MOF unit cell:  [25.669, 25.669, 25.669]\n",
      "Packing factor: [3, 3, 3]\n",
      "Num of coor : 11448\n"
     ]
    }
   ],
   "source": [
    "cut_off = 12\n",
    "\n",
    "base_mof.packing_factor = Packing.factor(base_mof.uc_size, cut_off)\n",
    "uc_vectors = Packing.uc_vectors(base_mof.uc_size, base_mof.uc_angle)\n",
    "trans_vec = Packing.translation_vectors(base_mof.packing_factor, uc_vectors)\n",
    "base_mof.packed_coors = Packing.uc_coors(trans_vec, base_mof.packing_factor, uc_vectors, base_mof.atom_coors)\n",
    "base_mof.edge_points = Packing.edge_points(uc_vectors)\n",
    "\n",
    "print('Base MOF unit cell: ', base_mof.uc_size)\n",
    "print('Packing factor:', base_mof.packing_factor)\n",
    "print('Num of coor :', len(base_mof.packed_coors)*len(base_mof.packed_coors[0]))"
   ]
  },
  {
   "cell_type": "code",
   "execution_count": 10,
   "metadata": {
    "collapsed": false
   },
   "outputs": [
    {
     "name": "stdout",
     "output_type": "stream",
     "text": [
      "Calculating emap for SAHYIK with atoms: ['C', 'Zn', 'H', 'O']\n"
     ]
    }
   ],
   "source": [
    "atom_list = get_uniq_atom_list([mobile_mof])\n",
    "print('Calculating emap for', base_mof.name, 'with atoms:', atom_list['atom'])\n",
    "emap = energy_map(base_mof, atom_list, cut_off, 1)"
   ]
  },
  {
   "cell_type": "code",
   "execution_count": 11,
   "metadata": {
    "collapsed": false
   },
   "outputs": [
    {
     "name": "stdout",
     "output_type": "stream",
     "text": [
      "Energy map energy at  [  2.  11.   5.]  :  -562.512156392\n",
      "Interpolation energy at  [1.89, 11, 4.78]  :  -534.356103682\n"
     ]
    }
   ],
   "source": [
    "emap_max = [emap[-1][0], emap[-1][1], emap[-1][2]]\n",
    "emap_min = [emap[0][0], emap[0][1], emap[0][2]]\n",
    "\n",
    "coor = [1.89, 11, 4.78]\n",
    "emap_index = energy_map_index(coor, emap_max, emap_min)\n",
    "atom_index = energy_map_atom_index('C', atom_list)\n",
    "\n",
    "print('Energy map energy at ', emap[emap_index][:3], ' : ', emap[emap_index][atom_index] )\n",
    "interpolation_energy = trilinear_interpolate(coor, atom_index, emap, emap_max, emap_min)\n",
    "print('Interpolation energy at ', coor, ' : ', interpolation_energy)"
   ]
  },
  {
   "cell_type": "code",
   "execution_count": 12,
   "metadata": {
    "collapsed": false
   },
   "outputs": [],
   "source": [
    "# Initialize simulation parameters\n",
    "structure_energy_limit = 3E3\n",
    "atom_energy_limit = 3E1\n",
    "rotation_limit = 20\n",
    "rotation_freedom = 30\n",
    "summary_percent = 5\n",
    "\n",
    "# Initialize simulation variables\n",
    "Quat = Quaternion([0, 1, 1, 1])\n",
    "\n",
    "initial_coors = initial_coordinates(base_mof, emap, atom_list, 3E10)\n",
    "trial_limit = len(initial_coors) * rotation_limit\n",
    "#omitted_coordinates = len(emap) - len(initial_coors)\n",
    "\n",
    "abort_ip = False\n",
    "structure_count = 0\n",
    "structure_total_energy = 0\n",
    "initial_coor_index = 0\n",
    "# percent_complete = 0\n",
    "div = round(trial_limit / (100 / summary_percent))\n",
    "summary = {'percent':[], 'structure_count': [], 'trial_count':[]}\n",
    "new_structures = []\n",
    "\n",
    "sim_par = {'structure_energy_limit': structure_energy_limit,\n",
    "           'atom_energy_limit': atom_energy_limit,\n",
    "           'rotation_limit': rotation_limit,\n",
    "           'rotation_freedom': rotation_freedom,\n",
    "           'summary_percent': summary_percent\n",
    "          }"
   ]
  },
  {
   "cell_type": "code",
   "execution_count": 14,
   "metadata": {
    "collapsed": true
   },
   "outputs": [],
   "source": [
    "def run_interpenetration(sim_par, base_mof, mobile_mof, emap, atom_list):\n",
    "    \"\"\"\n",
    "    *** Not complete ***\n",
    "    Run interpenetration algorithm with given simulation parameters and energy map.\n",
    "    Returns simulation summary and structural information on the discovered structures.\n",
    "    \"\"\"\n",
    "    # Initialize simulation parameters\n",
    "    structure_energy_limit = sim_par['structure_energy_limit']\n",
    "    atom_energy_limit = sim_par['atom_energy_limit']\n",
    "    rotation_limit = sim_par['rotation_limit']\n",
    "    rotation_freedom = sim_par['rotation_freedom']\n",
    "    summary_percent = sim_par['summary_percent']\n",
    "\n",
    "    # Initialize simulation variables\n",
    "    Quat = Quaternion([0, 1, 1, 1])\n",
    "\n",
    "    initial_coors = initial_coordinates(base_mof, emap, atom_list, atom_energy_limit)\n",
    "    trial_limit = len(initial_coors) * rotation_limit\n",
    "    rot_freedom = 360/rotation_freedom\n",
    "    # omitted_coordinates = len(emap) - len(initial_coors)\n",
    "\n",
    "    div = round(trial_limit / (100 / summary_percent))\n",
    "    summary = {'percent': [], 'structure_count': [], 'trial_count': []}\n",
    "    new_structures = []\n",
    "\n",
    "    abort_ip = False\n",
    "    structure_count = 0\n",
    "    structure_total_energy = 0\n",
    "    initial_coor_index = 0\n",
    "\n",
    "    # Main interpenetration algorithm\n",
    "    for t in range(trial_limit):  # Can iterate over something else???\n",
    "        abort_ip = False\n",
    "        # Interpenetration trial loop\n",
    "        # Try interpenetration for a specific orientation by going through each atom in mobile mof\n",
    "        for idx in range(len(mobile_mof)):    # Can iterate over something else???\n",
    "\n",
    "            if not abort_ip:\n",
    "                # If the interpenetration is just starting select rotation angles\n",
    "                if idx == 0:\n",
    "                    if t % rotation_limit == 0:\n",
    "                        first_point = initial_coors[initial_coor_index]\n",
    "                        initial_coor_index += 1\n",
    "                        # initial_coor_trial_count += 1\n",
    "\n",
    "                    # Determine random angles for rotation in 3D space\n",
    "                    x_angle = 2 * math.pi * math.floor(rand() * rot_freedom) / rot_freedom\n",
    "                    y_angle = 2 * math.pi * math.floor(rand() * rot_freedom) / rot_freedom\n",
    "                    z_angle = 2 * math.pi * math.floor(rand() * rot_freedom) / rot_freedom\n",
    "\n",
    "                    # Rotate first atom of the mobile MOF\n",
    "                    atom_name = mobile_mof.atom_names[idx]\n",
    "                    new_coor = Coor(mobile_mof.atom_coors[idx])\n",
    "                    Q = Quaternion([1, new_coor.x, new_coor.y, new_coor.z])  # Might be a better way to do this\n",
    "                    Q = Quat.rotation(Q.xyz(), [0, 0, 0], [1, 0, 0], x_angle)\n",
    "                    Q = Quat.rotation(Q.xyz(), [0, 0, 0], [0, 1, 0], y_angle)\n",
    "                    Q = Quat.rotation(Q.xyz(), [0, 0, 0], [0, 0, 1], z_angle)\n",
    "                    # new_coor = Q.coor()\n",
    "                    new_coor = Coor(Q.xyz())\n",
    "\n",
    "                    translation_vector = first_point - new_coor  # Check if operation is correct\n",
    "\n",
    "                    # Initialize new structure dictionay\n",
    "                    structure = {'atom_names': [], 'atom_coors': [],\n",
    "                                 'pbc_coors': [], 'energy': [], 'rotation': []}\n",
    "                    structure['atom_coors'].append(first_point.xyz())  # Why first point not new_coor?\n",
    "                    structure['pbc_coors'].append(new_coor.xyz())\n",
    "                    structure['atom_names'].append(atom_name)\n",
    "                    structure['rotation'] = [x_angle, y_angle, z_angle]\n",
    "\n",
    "                # If interpenetration is still going on\n",
    "                if idx < len(base_mof) and idx > 0:\n",
    "                    atom_name = atom_name = mobile_mof.atom_names[idx]\n",
    "                    new_coor = Coor(mobile_mof.atom_coors[idx])\n",
    "                    Q = Quaternion([1, new_coor.x, new_coor.y, new_coor.z])  # Might be a better way to do this\n",
    "                    Q = Quat.rotation(Q.xyz(), [0, 0, 0], [1, 0, 0], x_angle)\n",
    "                    Q = Quat.rotation(Q.xyz(), [0, 0, 0], [0, 1, 0], y_angle)\n",
    "                    Q = Quat.rotation(Q.xyz(), [0, 0, 0], [0, 0, 1], z_angle)\n",
    "                    # new_coor = Q.coor()\n",
    "                    new_coor = Coor(Q.xyz())\n",
    "\n",
    "                    new_coor += translation_vector\n",
    "                    pbc_coor = new_coor.pbc(base_mof.uc_size, base_mof.uc_angle, base_mof.frac_ucv)\n",
    "\n",
    "                    emap_index = energy_map_index(pbc_coor.xyz(), emap_max, emap_min)\n",
    "                    emap_atom_index = energy_map_atom_index(atom_name, atom_list)\n",
    "\n",
    "                    point_energy = trilinear_interpolate(pbc_coor.xyz(), emap_atom_index, emap, emap_max, emap_min)\n",
    "                    structure_total_energy += point_energy\n",
    "\n",
    "                    if structure_total_energy > structure_energy_limit:\n",
    "                        structure_total_energy = 0\n",
    "                        abort_ip = True\n",
    "                        break  # Fix this part (break interpenetration trial loop)\n",
    "                    elif point_energy > atom_energy_limit:\n",
    "                        structure_total_energy = 0\n",
    "                        abort_ip = True\n",
    "                        break  # Fix this part (break interpenetration trial loop)\n",
    "                    else:\n",
    "                        structure['atom_coors'].append(new_coor.xyz())\n",
    "                        structure['pbc_coors'].append(pbc_coor.xyz())\n",
    "                        structure['atom_names'].append(atom_name)\n",
    "\n",
    "                # If interpenetration trial ended with no collision\n",
    "                if idx == len(mobile_mof) - 1:\n",
    "                    # Record structure information!!!!\n",
    "                    structure['energy'] = structure_total_energy\n",
    "                    new_structures.append(structure)\n",
    "                    structure_count += 1\n",
    "                    structure_total_energy = 0\n",
    "\n",
    "        # Record simulation progress according to division (div)\n",
    "        if t % div == 0:\n",
    "            percent_complete = round(t / trial_limit * 100)\n",
    "\n",
    "            # Record summary information\n",
    "            summary['percent'].append(percent_complete)\n",
    "            summary['structure_count'].append(structure_count)\n",
    "            summary['trial_count'].append(t)\n",
    "\n",
    "    return summary, new_structures"
   ]
  },
  {
   "cell_type": "code",
   "execution_count": 15,
   "metadata": {
    "collapsed": false
   },
   "outputs": [],
   "source": [
    "summary, new_structures = run_interpenetration(sim_par, base_mof, mobile_mof, emap, atom_list)"
   ]
  },
  {
   "cell_type": "code",
   "execution_count": null,
   "metadata": {
    "collapsed": false,
    "scrolled": true
   },
   "outputs": [],
   "source": []
  },
  {
   "cell_type": "code",
   "execution_count": 16,
   "metadata": {
    "collapsed": false
   },
   "outputs": [],
   "source": [
    "# Get minimum energy structure by sorting total structure energies\n",
    "min_energy_structure = sorted(new_structures, key=lambda k: k['energy'])[0]"
   ]
  },
  {
   "cell_type": "code",
   "execution_count": 17,
   "metadata": {
    "collapsed": false
   },
   "outputs": [],
   "source": [
    "def join_structures(base_mof, new_structure):\n",
    "    joined_atom_names = []\n",
    "    joined_atom_coors = []\n",
    "    for atom, coor in zip(new_structure['atom_names'], new_structure['atom_coors']):\n",
    "        joined_atom_names.append(atom)\n",
    "        joined_atom_coors.append(coor)\n",
    "        \n",
    "    for atom, coor in zip(base_mof.atom_names, base_mof.atom_coors):\n",
    "        joined_atom_names.append(atom)\n",
    "        joined_atom_coors.append(coor)\n",
    "        \n",
    "    return joined_atom_names, joined_atom_coors\n",
    "\n",
    "# Define file name and export directory\n",
    "file_name = base_mof.name + '_' + mobile_mof.name\n",
    "export_dir = r'C:\\Kutay\\MOFs\\IPMOF_Python\\export'\n",
    "#export_dir = r'/home/kutay/Documents/Research/MOFs/IPMOF_Python/export'\n",
    "\n",
    "# Join interpenetrating structures\n",
    "joined_names, joined_coors = join_structures(base_mof, min_energy_structure)\n",
    "\n",
    "# Export coordinates in .xyz format\n",
    "export_xyz(joined_coors, joined_names, file_name, export_dir)"
   ]
  },
  {
   "cell_type": "code",
   "execution_count": 20,
   "metadata": {
    "collapsed": false
   },
   "outputs": [],
   "source": [
    "rotation_info = min_energy_structure['rotation']\n",
    "ext_cut_off = 50\n",
    "energy_limit = sim_par['atom_energy_limit']"
   ]
  },
  {
   "cell_type": "code",
   "execution_count": 31,
   "metadata": {
    "collapsed": true
   },
   "outputs": [],
   "source": [
    "def check_extension(base_MOF, mobile_MOF, rotation_info, emap, emap_atom_list, energy_limit, ext_cut_off):\n",
    "    \"\"\"\n",
    "    *** Not Complete ***\n",
    "    Checks collision between interpenetrating layer and base layer for a determined distance.\n",
    "    Distance is calculated from given ext_cut_off value which determines the packing amount of the\n",
    "    interpenetrating layer.\n",
    "    Each coordinate in the interpenetrating layer is checked for high energy values by applying\n",
    "    perodic boundary conditions to the coordinate according to energy map of the base layer.\n",
    "    \"\"\"\n",
    "    emap_max = [emap[-1][0], emap[-1][1], emap[-1][2]]\n",
    "    emap_min = [emap[0][0], emap[0][1], emap[0][2]]\n",
    "\n",
    "    packing_factor = Packing.factor(mobile_MOF.uc_size, ext_cut_off)\n",
    "    uc_vectors = Packing.uc_vectors(mobile_MOF.uc_size, mobile_MOF.uc_angle)\n",
    "    trans_vec = Packing.translation_vectors(packing_factor, uc_vectors)\n",
    "    packed_coors = Packing.uc_coors(trans_vec, packing_factor, uc_vectors, mobile_MOF.atom_coors)\n",
    "\n",
    "    #rotated_packed_coors = rotate_unit_cell(packed_coor, rotation_info)\n",
    "    x_angle = rotation_info[0]\n",
    "    y_angle = rotation_info[1]\n",
    "    z_angle = rotation_info[2]\n",
    "\n",
    "    collision = False\n",
    "    for unit_cell in packed_coors:\n",
    "        if not collision:\n",
    "            for coor in unit_cell:\n",
    "\n",
    "                if not collision:\n",
    "\n",
    "                    new_coor = Coor(coor)\n",
    "                    Q = Quaternion([1, new_coor.x, new_coor.y, new_coor.z])  # Might be a better way to do this\n",
    "                    Q = Quat.rotation(Q.xyz(), [0, 0, 0], [1, 0, 0], x_angle)\n",
    "                    Q = Quat.rotation(Q.xyz(), [0, 0, 0], [0, 1, 0], y_angle)\n",
    "                    Q = Quat.rotation(Q.xyz(), [0, 0, 0], [0, 0, 1], z_angle)\n",
    "                    new_coor = Coor(Q.xyz())\n",
    "\n",
    "                    pbc_coor = new_coor.pbc(base_MOF.uc_size, base_MOF.uc_angle, base_MOF.frac_ucv)\n",
    "\n",
    "                    emap_index = energy_map_index(pbc_coor, emap_max, emap_min)\n",
    "                    atom_index = energy_map_atom_index(atom_name, emap_atom_list)\n",
    "\n",
    "                    energy = emap[emap_index][atom_index]\n",
    "                    if energy < energy_limit:\n",
    "                        continue\n",
    "                    else:\n",
    "                        collision = True\n",
    "                        break\n",
    "                else:\n",
    "                    break\n",
    "        else:\n",
    "            break\n",
    "\n",
    "    return collision"
   ]
  },
  {
   "cell_type": "code",
   "execution_count": 32,
   "metadata": {
    "collapsed": false
   },
   "outputs": [
    {
     "ename": "TypeError",
     "evalue": "zip argument #1 must support iteration",
     "output_type": "error",
     "traceback": [
      "\u001b[1;31m---------------------------------------------------------------------------\u001b[0m",
      "\u001b[1;31mTypeError\u001b[0m                                 Traceback (most recent call last)",
      "\u001b[1;32m<ipython-input-32-f8161351c1c9>\u001b[0m in \u001b[0;36m<module>\u001b[1;34m()\u001b[0m\n\u001b[1;32m----> 1\u001b[1;33m \u001b[0mcollision\u001b[0m \u001b[1;33m=\u001b[0m \u001b[0mcheck_extension\u001b[0m\u001b[1;33m(\u001b[0m\u001b[0mbase_mof\u001b[0m\u001b[1;33m,\u001b[0m \u001b[0mmobile_mof\u001b[0m\u001b[1;33m,\u001b[0m \u001b[0mrotation_info\u001b[0m\u001b[1;33m,\u001b[0m \u001b[0memap\u001b[0m\u001b[1;33m,\u001b[0m \u001b[0matom_list\u001b[0m\u001b[1;33m,\u001b[0m \u001b[0menergy_limit\u001b[0m\u001b[1;33m,\u001b[0m \u001b[0mext_cut_off\u001b[0m\u001b[1;33m)\u001b[0m\u001b[1;33m\u001b[0m\u001b[0m\n\u001b[0m",
      "\u001b[1;32m<ipython-input-31-12ae7b7783d4>\u001b[0m in \u001b[0;36mcheck_extension\u001b[1;34m(base_MOF, mobile_MOF, rotation_info, emap, emap_atom_list, energy_limit, ext_cut_off)\u001b[0m\n\u001b[0;32m     37\u001b[0m                     \u001b[0mpbc_coor\u001b[0m \u001b[1;33m=\u001b[0m \u001b[0mnew_coor\u001b[0m\u001b[1;33m.\u001b[0m\u001b[0mpbc\u001b[0m\u001b[1;33m(\u001b[0m\u001b[0mbase_MOF\u001b[0m\u001b[1;33m.\u001b[0m\u001b[0muc_size\u001b[0m\u001b[1;33m,\u001b[0m \u001b[0mbase_MOF\u001b[0m\u001b[1;33m.\u001b[0m\u001b[0muc_angle\u001b[0m\u001b[1;33m,\u001b[0m \u001b[0mbase_MOF\u001b[0m\u001b[1;33m.\u001b[0m\u001b[0mfrac_ucv\u001b[0m\u001b[1;33m)\u001b[0m\u001b[1;33m\u001b[0m\u001b[0m\n\u001b[0;32m     38\u001b[0m \u001b[1;33m\u001b[0m\u001b[0m\n\u001b[1;32m---> 39\u001b[1;33m                     \u001b[0memap_index\u001b[0m \u001b[1;33m=\u001b[0m \u001b[0menergy_map_index\u001b[0m\u001b[1;33m(\u001b[0m\u001b[0mpbc_coor\u001b[0m\u001b[1;33m,\u001b[0m \u001b[0memap_max\u001b[0m\u001b[1;33m,\u001b[0m \u001b[0memap_min\u001b[0m\u001b[1;33m)\u001b[0m\u001b[1;33m\u001b[0m\u001b[0m\n\u001b[0m\u001b[0;32m     40\u001b[0m                     \u001b[0matom_index\u001b[0m \u001b[1;33m=\u001b[0m \u001b[0menergy_map_atom_index\u001b[0m\u001b[1;33m(\u001b[0m\u001b[0matom_name\u001b[0m\u001b[1;33m,\u001b[0m \u001b[0memap_atom_list\u001b[0m\u001b[1;33m)\u001b[0m\u001b[1;33m\u001b[0m\u001b[0m\n\u001b[0;32m     41\u001b[0m \u001b[1;33m\u001b[0m\u001b[0m\n",
      "\u001b[1;32mC:\\Kutay\\IPMOF\\IPMOF_Python\\energymap.py\u001b[0m in \u001b[0;36menergy_map_index\u001b[1;34m(coor, emap_max, emap_min)\u001b[0m\n\u001b[0;32m     77\u001b[0m     \u001b[0mround_coor\u001b[0m \u001b[1;33m=\u001b[0m \u001b[1;33m[\u001b[0m\u001b[1;33m]\u001b[0m\u001b[1;33m\u001b[0m\u001b[0m\n\u001b[0;32m     78\u001b[0m \u001b[1;33m\u001b[0m\u001b[0m\n\u001b[1;32m---> 79\u001b[1;33m     \u001b[1;32mfor\u001b[0m \u001b[0mc\u001b[0m\u001b[1;33m,\u001b[0m \u001b[0memax\u001b[0m\u001b[1;33m,\u001b[0m \u001b[0memin\u001b[0m \u001b[1;32min\u001b[0m \u001b[0mzip\u001b[0m\u001b[1;33m(\u001b[0m\u001b[0mcoor\u001b[0m\u001b[1;33m,\u001b[0m \u001b[0memap_max\u001b[0m\u001b[1;33m,\u001b[0m \u001b[0memap_min\u001b[0m\u001b[1;33m)\u001b[0m\u001b[1;33m:\u001b[0m\u001b[1;33m\u001b[0m\u001b[0m\n\u001b[0m\u001b[0;32m     80\u001b[0m         \u001b[0mside_length\u001b[0m\u001b[1;33m.\u001b[0m\u001b[0mappend\u001b[0m\u001b[1;33m(\u001b[0m\u001b[0memax\u001b[0m \u001b[1;33m-\u001b[0m \u001b[0memin\u001b[0m \u001b[1;33m+\u001b[0m \u001b[1;36m1\u001b[0m\u001b[1;33m)\u001b[0m\u001b[1;33m\u001b[0m\u001b[0m\n\u001b[0;32m     81\u001b[0m         \u001b[0mround_coor\u001b[0m\u001b[1;33m.\u001b[0m\u001b[0mappend\u001b[0m\u001b[1;33m(\u001b[0m\u001b[0mround\u001b[0m\u001b[1;33m(\u001b[0m\u001b[0mc\u001b[0m\u001b[1;33m)\u001b[0m\u001b[1;33m)\u001b[0m\u001b[1;33m\u001b[0m\u001b[0m\n",
      "\u001b[1;31mTypeError\u001b[0m: zip argument #1 must support iteration"
     ]
    }
   ],
   "source": [
    "collision = check_extension(base_mof, mobile_mof, rotation_info, emap, atom_list, energy_limit, ext_cut_off)"
   ]
  },
  {
   "cell_type": "code",
   "execution_count": 28,
   "metadata": {
    "collapsed": false
   },
   "outputs": [
    {
     "data": {
      "text/plain": [
       "2.6179938779914944"
      ]
     },
     "execution_count": 28,
     "metadata": {},
     "output_type": "execute_result"
    }
   ],
   "source": [
    "rotation_info[0]"
   ]
  },
  {
   "cell_type": "code",
   "execution_count": null,
   "metadata": {
    "collapsed": true
   },
   "outputs": [],
   "source": []
  }
 ],
 "metadata": {
  "kernelspec": {
   "display_name": "Python 3",
   "language": "python",
   "name": "python3"
  },
  "language_info": {
   "codemirror_mode": {
    "name": "ipython",
    "version": 3
   },
   "file_extension": ".py",
   "mimetype": "text/x-python",
   "name": "python",
   "nbconvert_exporter": "python",
   "pygments_lexer": "ipython3",
   "version": "3.5.1"
  }
 },
 "nbformat": 4,
 "nbformat_minor": 0
}
