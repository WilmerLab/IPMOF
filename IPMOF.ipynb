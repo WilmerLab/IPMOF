{
 "cells": [
  {
   "cell_type": "markdown",
   "metadata": {},
   "source": [
    "### IPMOF - InterPenetrating Metal Organic Frameworks\n",
    "\n",
    "#### Initialize necessary information\n",
    "\n",
    "1. Read FF_Parameters excel file to get force field parameters for atoms\n",
    "2. Initialize force field selection, cut_off radius and grid size for energy map\n",
    "\n",
    "#### Read structural information for MOF files in a given directory\n",
    "1. Read MOF files in \".mol2\" format from given directory and create a list\n",
    "2. Create MOF objects for structure files\n",
    "3. Initialize structural information for the MOFs\n",
    "\n",
    "#### Read simulation input parameters\n",
    "1. Read simulation parameters from input file\n",
    "\n",
    "#### Calculate energy map\n",
    "1. Determine packing amount of the MOF\n",
    "2. Calculate packed coordinates for the base MOF\n",
    "3. Calculate energy map\n",
    "\n",
    "#### Start interpenetration\n",
    "1. Energy map + mobile_mof"
   ]
  },
  {
   "cell_type": "code",
   "execution_count": 12,
   "metadata": {
    "collapsed": true
   },
   "outputs": [],
   "source": [
    "python_lib_dir = r'/home/kutay/Documents/git/IPMOF/IPMOF_Python'\n",
    "# python_lib_dir = r'C:\\Kutay\\IPMOF\\IPMOF_Python'\n",
    "\n",
    "excel_file_path = r'/home/kutay/Documents/Research/FF_Parameters.xlsx'\n",
    "# excel_file_path = r'C:\\Users\\kutay\\iPython\\IPMOF\\FF_Parameters.xlsx'\n",
    "\n",
    "mol2_dir = r'/home/kutay/Documents/Research/MOFs/IPMOF_Python/mol2'\n",
    "# mol2_dir = r'C:\\Kutay\\MOFs\\IPMOF_Python'\n",
    "\n",
    "base_mof_index = 4\n",
    "mobile_mof_index = 4\n",
    "\n",
    "input_dir = r'/home/kutay/Documents/git/IPMOF'\n",
    "sim_par_path = os.path.join(input_dir, 'sim_par.yaml')\n",
    "\n",
    "#export_dir = r'C:\\Kutay\\MOFs\\IPMOF_Python\\export'\n",
    "export_dir = r'/home/kutay/Documents/Research/MOFs/IPMOF_Python/export'"
   ]
  },
  {
   "cell_type": "code",
   "execution_count": null,
   "metadata": {
    "collapsed": false
   },
   "outputs": [],
   "source": [
    "# Dump sim par yaml file\n",
    "import yaml\n",
    "\n",
    "sim_par_file = open(sim_par_path, 'w')\n",
    "sim_par_data = {'structure_energy_limit': 3E3,\n",
    "                'atom_energy_limit': 3E1,\n",
    "                'rotation_limit': 20,\n",
    "                'rotation_freedom': 30,\n",
    "                'summary_percent': 5,\n",
    "                'cut_off': 12,\n",
    "                'ext_cut_off': 50\n",
    "               }\n",
    "\n",
    "yaml.dump(sim_par_data, sim_par_file)\n",
    "sim_par_file.close()"
   ]
  },
  {
   "cell_type": "code",
   "execution_count": 14,
   "metadata": {
    "collapsed": false
   },
   "outputs": [],
   "source": [
    "import yaml\n",
    "# Read sim par yaml file\n",
    "sim_par = yaml.load(open(sim_par_path, 'r'))"
   ]
  },
  {
   "cell_type": "code",
   "execution_count": 21,
   "metadata": {
    "collapsed": false
   },
   "outputs": [],
   "source": []
  },
  {
   "cell_type": "code",
   "execution_count": 3,
   "metadata": {
    "collapsed": false
   },
   "outputs": [
    {
     "name": "stdout",
     "output_type": "stream",
     "text": [
      "Populating the interactive namespace from numpy and matplotlib\n"
     ]
    },
    {
     "name": "stderr",
     "output_type": "stream",
     "text": [
      "WARNING: pylab import has clobbered these variables: ['inf', 'sqrt', 'ceil', 'floor']\n",
      "`%matplotlib` prevents importing * from pylab and numpy\n"
     ]
    }
   ],
   "source": [
    "import math\n",
    "import os\n",
    "\n",
    "# Load interpenetration python libraries\n",
    "os.chdir(python_lib_dir)\n",
    "from forcefield import read_ff_parameters\n",
    "from crystal import *\n",
    "from energymap import *\n",
    "from visualize import *\n",
    "from interpenetration import *\n",
    "from quaternion import *\n",
    "%pylab inline\n",
    "\n",
    "# Read excel file containing force field information\n",
    "uff = read_ff_parameters(excel_file_path, 'uff')"
   ]
  },
  {
   "cell_type": "markdown",
   "metadata": {},
   "source": [
    "### File Input Options\n",
    "- <b> Built-in read_mol2 </b>\n",
    "<pre>\n",
    "uc_size, uc_angle, atom_names, atom_coors = read_mol2(mol2_path)\n",
    "mof = MOF()\n",
    "mof.initialize(mof.mol2_path)\n",
    "</pre> \n",
    "- <b> Ase pdb read (cif read gives error) </b>\n",
    "<pre>\n",
    "from ase.io import read\n",
    "mof_atoms = read(mof_dir, format='pdb')\n",
    "mof_atoms.get_positions()                # Coordinates\n",
    "mof_atoms.get_chemical_symbols()         # Atom names\n",
    "mof_atoms.get_cell()                     # Cell vectors? (check)\n",
    "mof_obj.get_number_of_atoms()            # Num of atoms\n",
    "mof_obj.get_volume()                     # Unit cell volume\n",
    "\n",
    "</pre>\n",
    "- <b> Open babel </b>\n",
    "<pre>\n",
    "babel -icif *.cif -opdb *.pdb\n",
    "</pre>"
   ]
  },
  {
   "cell_type": "code",
   "execution_count": 4,
   "metadata": {
    "collapsed": false
   },
   "outputs": [
    {
     "name": "stdout",
     "output_type": "stream",
     "text": [
      "['QIGBIR.mol2', 'OFODAP.mol2', 'UNIGEE.mol2', 'ZIF90.mol2', 'SAHYIK.mol2', 'KINFAQ.mol2', 'NUVWIL.mol2']\n"
     ]
    }
   ],
   "source": [
    "# Create list of MOFs\n",
    "mol2_list = get_mof_list(mol2_dir, '.mol2')\n",
    "print(mol2_list)"
   ]
  },
  {
   "cell_type": "code",
   "execution_count": 5,
   "metadata": {
    "collapsed": false
   },
   "outputs": [
    {
     "name": "stdout",
     "output_type": "stream",
     "text": [
      "Base MOF selected as:  SAHYIK\n",
      "Mobile MOF selected as:  SAHYIK\n"
     ]
    }
   ],
   "source": [
    "# Read mol2 files and initialize MOF objects\n",
    "base_mof = MOF()\n",
    "base_mof.mol2_path = os.path.join(mol2_dir, mol2_list[base_mof_index])\n",
    "base_mof.initialize()\n",
    "base_mof.initialize_ff(uff)\n",
    "print('Base MOF selected as: ', base_mof.name)\n",
    "\n",
    "mobile_mof = MOF()\n",
    "mobile_mof.mol2_path = os.path.join(mol2_dir, mol2_list[mobile_mof_index])\n",
    "mobile_mof.initialize()\n",
    "mobile_mof.initialize_ff(uff)\n",
    "print('Mobile MOF selected as: ', mobile_mof.name)"
   ]
  },
  {
   "cell_type": "code",
   "execution_count": 6,
   "metadata": {
    "collapsed": false
   },
   "outputs": [
    {
     "name": "stdout",
     "output_type": "stream",
     "text": [
      "Base MOF unit cell:  [25.669, 25.669, 25.669]\n",
      "Packing factor: [3, 3, 3]\n",
      "Num of coor : 11448\n"
     ]
    }
   ],
   "source": [
    "cut_off = sim_par['cut_off']\n",
    "\n",
    "base_mof.packing_factor = Packing.factor(base_mof.uc_size, cut_off)\n",
    "uc_vectors = Packing.uc_vectors(base_mof.uc_size, base_mof.uc_angle)\n",
    "trans_vec = Packing.translation_vectors(base_mof.packing_factor, uc_vectors)\n",
    "base_mof.packed_coors = Packing.uc_coors(trans_vec, base_mof.packing_factor, uc_vectors, base_mof.atom_coors)\n",
    "base_mof.edge_points = Packing.edge_points(uc_vectors)\n",
    "\n",
    "print('Base MOF unit cell: ', base_mof.uc_size)\n",
    "print('Packing factor:', base_mof.packing_factor)\n",
    "print('Num of coor :', len(base_mof.packed_coors)*len(base_mof.packed_coors[0]))"
   ]
  },
  {
   "cell_type": "code",
   "execution_count": 7,
   "metadata": {
    "collapsed": false
   },
   "outputs": [
    {
     "name": "stdout",
     "output_type": "stream",
     "text": [
      "Calculating emap for SAHYIK with atoms: ['H', 'C', 'O', 'Zn']\n"
     ]
    }
   ],
   "source": [
    "atom_list = get_uniq_atom_list([mobile_mof])\n",
    "print('Calculating emap for', base_mof.name, 'with atoms:', atom_list['atom'])\n",
    "emap = energy_map(base_mof, atom_list, cut_off, 1)"
   ]
  },
  {
   "cell_type": "code",
   "execution_count": 22,
   "metadata": {
    "collapsed": false
   },
   "outputs": [
    {
     "name": "stdout",
     "output_type": "stream",
     "text": [
      "Energy map energy at  [  2.  11.   5.]  :  -562.512156392\n",
      "Interpolation energy at  [1.89, 11, 4.78]  :  -534.356103682\n"
     ]
    }
   ],
   "source": [
    "emap_max = [emap[-1][0], emap[-1][1], emap[-1][2]]\n",
    "emap_min = [emap[0][0], emap[0][1], emap[0][2]]\n",
    "\n",
    "coor = [1.89, 11, 4.78]\n",
    "emap_index = energy_map_index(coor, emap_max, emap_min)\n",
    "atom_index = energy_map_atom_index('C', atom_list)\n",
    "\n",
    "print('Energy map energy at ', emap[emap_index][:3], ' : ', emap[emap_index][atom_index] )\n",
    "interpolation_energy = trilinear_interpolate(coor, atom_index, emap, emap_max, emap_min)\n",
    "print('Interpolation energy at ', coor, ' : ', interpolation_energy)"
   ]
  },
  {
   "cell_type": "code",
   "execution_count": 23,
   "metadata": {
    "collapsed": false
   },
   "outputs": [],
   "source": [
    "summary, new_structures = run_interpenetration(sim_par, base_mof, mobile_mof, emap, atom_list)"
   ]
  },
  {
   "cell_type": "code",
   "execution_count": 14,
   "metadata": {
    "collapsed": true
   },
   "outputs": [],
   "source": [
    "# Get minimum energy structure by sorting total structure energies\n",
    "min_energy_structure = sorted(new_structures, key=lambda k: k['energy'])[0]\n",
    "\n",
    "rotation_info = min_energy_structure['rotation']"
   ]
  },
  {
   "cell_type": "code",
   "execution_count": 24,
   "metadata": {
    "collapsed": false
   },
   "outputs": [],
   "source": [
    "def check_extension(sim_par, base_MOF, mobile_MOF, emap, emap_atom_list, rotation_info):\n",
    "    \"\"\"\n",
    "    *** Not Complete ***\n",
    "    Checks collision between interpenetrating layer and base layer for a determined distance.\n",
    "    Distance is calculated from given ext_cut_off value which determines the packing amount of the\n",
    "    interpenetrating layer.\n",
    "    Each coordinate in the interpenetrating layer is checked for high energy values by applying\n",
    "    perodic boundary conditions to the coordinate according to energy map of the base layer.\n",
    "    \"\"\"\n",
    "    emap_max = [emap[-1][0], emap[-1][1], emap[-1][2]]\n",
    "    emap_min = [emap[0][0], emap[0][1], emap[0][2]]\n",
    "    \n",
    "    energy_limit = sim_par['atom_energy_limit']\n",
    "    #energy_limit = 3E20\n",
    "    ext_cut_off = sim_par['ext_cut_off']\n",
    "    \n",
    "    Quat = Quaternion([0, 1, 1, 1])\n",
    "\n",
    "    packing_factor = Packing.factor(mobile_MOF.uc_size, ext_cut_off)\n",
    "    uc_vectors = Packing.uc_vectors(mobile_MOF.uc_size, mobile_MOF.uc_angle)\n",
    "    trans_vec = Packing.translation_vectors(packing_factor, uc_vectors)\n",
    "    packed_coors = Packing.uc_coors(trans_vec, packing_factor, uc_vectors, mobile_MOF.atom_coors)\n",
    "\n",
    "    #rotated_packed_coors = rotate_unit_cell(packed_coor, rotation_info)\n",
    "    x_angle = rotation_info[0]\n",
    "    y_angle = rotation_info[1]\n",
    "    z_angle = rotation_info[2]\n",
    "\n",
    "    collision = False\n",
    "    for unit_cell in packed_coors:\n",
    "        \n",
    "        if not collision:\n",
    "            \n",
    "            for coor_index, coor in enumerate(unit_cell):\n",
    "\n",
    "                if not collision:\n",
    "\n",
    "                    new_coor = Coor(coor)\n",
    "                    Q = Quaternion([1, new_coor.x, new_coor.y, new_coor.z])  # Might be a better way to do this\n",
    "                    Q = Quat.rotation(Q.xyz(), [0, 0, 0], [1, 0, 0], x_angle)\n",
    "                    Q = Quat.rotation(Q.xyz(), [0, 0, 0], [0, 1, 0], y_angle)\n",
    "                    Q = Quat.rotation(Q.xyz(), [0, 0, 0], [0, 0, 1], z_angle)\n",
    "                    new_coor = Coor(Q.xyz())\n",
    "\n",
    "                    pbc_coor = new_coor.pbc(base_MOF.uc_size, base_MOF.uc_angle, base_MOF.frac_ucv)\n",
    "\n",
    "                    #emap_index = energy_map_index(pbc_coor.xyz(), emap_max, emap_min)\n",
    "                                              \n",
    "                    atom_name = mobile_MOF.atom_names[coor_index]\n",
    "                    atom_index = energy_map_atom_index(atom_name, emap_atom_list)\n",
    "\n",
    "                    point_energy = trilinear_interpolate(pbc_coor.xyz(), atom_index, emap, emap_max, emap_min)\n",
    "                    print(point_energy)\n",
    "                    #energy = emap[emap_index][atom_index]\n",
    "                    if point_energy < energy_limit:\n",
    "                        continue\n",
    "                    else:\n",
    "                        collision = True\n",
    "                        break\n",
    "                else:\n",
    "                    break\n",
    "        else:\n",
    "            break\n",
    "\n",
    "    return collision"
   ]
  },
  {
   "cell_type": "code",
   "execution_count": null,
   "metadata": {
    "collapsed": false,
    "scrolled": true
   },
   "outputs": [],
   "source": [
    "def save_extension(sim_par, base_MOF, mobile_MOF, emap, emap_atom_list, rotation_info):\n",
    "    \"\"\"\n",
    "    *** Not Complete ***\n",
    "    Checks collision between interpenetrating layer and base layer for a determined distance.\n",
    "    Distance is calculated from given ext_cut_off value which determines the packing amount of the\n",
    "    interpenetrating layer.\n",
    "    Each coordinate in the interpenetrating layer is checked for high energy values by applying\n",
    "    perodic boundary conditions to the coordinate according to energy map of the base layer.\n",
    "    \"\"\"\n",
    "    emap_max = [emap[-1][0], emap[-1][1], emap[-1][2]]\n",
    "    emap_min = [emap[0][0], emap[0][1], emap[0][2]]\n",
    "    \n",
    "    #ext_cut_off = sim_par['ext_cut_off']\n",
    "    ext_cut_off = 20\n",
    "    \n",
    "    Quat = Quaternion([0, 1, 1, 1])\n",
    "\n",
    "    packing_factor = Packing.factor(mobile_MOF.uc_size, ext_cut_off)\n",
    "    uc_vectors = Packing.uc_vectors(mobile_MOF.uc_size, mobile_MOF.uc_angle)\n",
    "    trans_vec = Packing.translation_vectors(packing_factor, uc_vectors)\n",
    "    packed_coors = Packing.uc_coors(trans_vec, packing_factor, uc_vectors, mobile_MOF.atom_coors)\n",
    "\n",
    "    x_angle = rotation_info[0]\n",
    "    y_angle = rotation_info[1]\n",
    "    z_angle = rotation_info[2]\n",
    "    \n",
    "    extended_coors = []\n",
    "    extended_names = []\n",
    "\n",
    "    for unit_cell in packed_coors:\n",
    "\n",
    "        for coor_index, coor in enumerate(unit_cell):\n",
    "\n",
    "            new_coor = Coor(coor)\n",
    "            Q = Quaternion([1, new_coor.x, new_coor.y, new_coor.z])  # Might be a better way to do this\n",
    "            Q = Quat.rotation(Q.xyz(), [0, 0, 0], [1, 0, 0], x_angle)\n",
    "            Q = Quat.rotation(Q.xyz(), [0, 0, 0], [0, 1, 0], y_angle)\n",
    "            Q = Quat.rotation(Q.xyz(), [0, 0, 0], [0, 0, 1], z_angle)\n",
    "            new_coor = Coor(Q.xyz())\n",
    "\n",
    "            atom_name = mobile_MOF.atom_names[coor_index]\n",
    "            \n",
    "            extended_names.append(atom_name)\n",
    "            extended_coors.append(new_coor.xyz())\n",
    "\n",
    "\n",
    "    return extended_names, extended_coors"
   ]
  },
  {
   "cell_type": "code",
   "execution_count": 33,
   "metadata": {
    "collapsed": false
   },
   "outputs": [],
   "source": [
    "ext_names, ext_coors = save_extension(sim_par, base_mof, mobile_mof, emap, atom_list, rotation_info)\n",
    "\n",
    "export_xyz(ext_coors, ext_names, 'mobile_ext', export_dir)"
   ]
  },
  {
   "cell_type": "code",
   "execution_count": null,
   "metadata": {
    "collapsed": true
   },
   "outputs": [],
   "source": [
    "collision = check_extension(sim_par, base_mof, mobile_mof, emap, atom_list, rotation_info)"
   ]
  },
  {
   "cell_type": "code",
   "execution_count": 17,
   "metadata": {
    "collapsed": false
   },
   "outputs": [],
   "source": [
    "def join_structures(base_mof, new_structure):\n",
    "    joined_atom_names = []\n",
    "    joined_atom_coors = []\n",
    "    for atom, coor in zip(new_structure['atom_names'], new_structure['atom_coors']):\n",
    "        joined_atom_names.append(atom)\n",
    "        joined_atom_coors.append(coor)\n",
    "        \n",
    "    for atom, coor in zip(base_mof.atom_names, base_mof.atom_coors):\n",
    "        joined_atom_names.append(atom)\n",
    "        joined_atom_coors.append(coor)\n",
    "        \n",
    "    return joined_atom_names, joined_atom_coors\n",
    "\n",
    "# Define file name and export directory\n",
    "file_name = base_mof.name + '_' + mobile_mof.name\n",
    "export_dir = r'C:\\Kutay\\MOFs\\IPMOF_Python\\export'\n",
    "#export_dir = r'/home/kutay/Documents/Research/MOFs/IPMOF_Python/export'\n",
    "\n",
    "# Join interpenetrating structures\n",
    "joined_names, joined_coors = join_structures(base_mof, min_energy_structure)\n",
    "\n",
    "# Export coordinates in .xyz format\n",
    "export_xyz(joined_coors, joined_names, file_name, export_dir)"
   ]
  },
  {
   "cell_type": "code",
   "execution_count": null,
   "metadata": {
    "collapsed": false
   },
   "outputs": [],
   "source": [
    "packing_factor = Packing.factor(mobile_mof.uc_size, 50)\n",
    "uc_vectors = Packing.uc_vectors(mobile_mof.uc_size, mobile_mof.uc_angle)\n",
    "trans_vec = Packing.translation_vectors(packing_factor, uc_vectors)\n",
    "packed_coors = Packing.uc_coors(trans_vec, packing_factor, uc_vectors, mobile_mof.atom_coors)"
   ]
  },
  {
   "cell_type": "code",
   "execution_count": 112,
   "metadata": {
    "collapsed": false
   },
   "outputs": [],
   "source": [
    "packed_mof_path = os.path.join(export_dir, 'packed.xyz')\n",
    "packed_mof_file = open(packed_mof_path, 'w')\n",
    "packed_mof_file.write(str(len(packed_coors)*len(packed_coors[0])) + '\\n')\n",
    "packed_mof_file.write('Packed \\n')\n",
    "\n",
    "for unit_cell in packed_coors:\n",
    "    for coor_index, coor in enumerate(unit_cell):\n",
    "        atom_name = mobile_mof.atom_names[coor_index]\n",
    "        packed_mof_file.write(atom_name + ' ' + str(coor[0]) + ' ' + str(coor[1]) + ' ' + str(coor[2]) + '\\n')\n",
    "        \n",
    "packed_mof_file.close()"
   ]
  },
  {
   "cell_type": "code",
   "execution_count": null,
   "metadata": {
    "collapsed": false
   },
   "outputs": [],
   "source": []
  },
  {
   "cell_type": "code",
   "execution_count": null,
   "metadata": {
    "collapsed": true
   },
   "outputs": [],
   "source": []
  }
 ],
 "metadata": {
  "kernelspec": {
   "display_name": "Python 3",
   "language": "python",
   "name": "python3"
  },
  "language_info": {
   "codemirror_mode": {
    "name": "ipython",
    "version": 3
   },
   "file_extension": ".py",
   "mimetype": "text/x-python",
   "name": "python",
   "nbconvert_exporter": "python",
   "pygments_lexer": "ipython3",
   "version": "3.5.1"
  }
 },
 "nbformat": 4,
 "nbformat_minor": 0
}
