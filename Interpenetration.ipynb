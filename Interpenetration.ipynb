{
 "cells": [
  {
   "cell_type": "markdown",
   "metadata": {},
   "source": [
    "#### Interpenetration functions\n",
    " - Coor class\n",
    "     - Addition of two coordinates\n",
    "     - Subtraction of two coordinates\n",
    "     - Distance between two coordinates\n",
    "     - Conversion to fractional coordinates from cartesian coordinates\n",
    "     - Conversion to cartesian coordinates from fractional coordinates\n",
    "     - Periodic boundary conditions for fractional coordinates"
   ]
  },
  {
   "cell_type": "code",
   "execution_count": 6,
   "metadata": {
    "collapsed": false
   },
   "outputs": [],
   "source": [
    "import math\n",
    "import os\n",
    "# os.chdir(r'Enter Python Library Directory')\n",
    "#os.chdir(r'C:\\Kutay\\IPMOF\\IPMOF_Python')\n",
    "os.chdir(r'/home/kutay/Documents/git/IPMOF/IPMOF_Python')\n",
    "\n",
    "from interpenetration import Coor\n",
    "from crystal import unit_cell_volume"
   ]
  },
  {
   "cell_type": "code",
   "execution_count": 7,
   "metadata": {
    "collapsed": false
   },
   "outputs": [
    {
     "name": "stdout",
     "output_type": "stream",
     "text": [
      "Return list of coordinates:  [1, 4, -2]\n",
      "Addition:  1.123 1.6 21\n",
      "Subtraction:  0.877 6.4 -25\n",
      "Distance:  25.82109852426887\n"
     ]
    }
   ],
   "source": [
    "coor1 = Coor([1, 4, -2])\n",
    "coor2 = Coor([0.123, -2.4, 23])\n",
    "\n",
    "print('Return list of coordinates: ', coor1.xyz())\n",
    "print('Addition: ', coor1 + coor2)\n",
    "print('Subtraction: ', coor1 - coor2)\n",
    "print('Distance: ', coor1.dist(coor2))"
   ]
  },
  {
   "cell_type": "code",
   "execution_count": 5,
   "metadata": {
    "collapsed": false
   },
   "outputs": [
    {
     "name": "stdout",
     "output_type": "stream",
     "text": [
      "Fractional coordinate: 0.0778 0.2645 -0.085\n",
      "Cartesian coordinate:  1.0 4.0 -2.0\n",
      "\n",
      "Cartesian coordinate:  34 21 -41\n",
      "Fractional coordinate:  2.6439 1.3888 -1.7435\n",
      "Periodic boundary condition applied:  0.6439 0.3888 0.2565\n",
      "Back to cartesian coordinate:  8.2806 5.8793 6.032\n",
      "\n",
      "Cartesian coordinate:  34 21 -41\n",
      "Periodic boundary condition applied:  8.2806 5.8793 6.032\n"
     ]
    }
   ],
   "source": [
    "# Conversion to fractional coordinates\n",
    "uc_size = [12.8597, 15.1207, 23.516]\n",
    "uc_angle = [90, 90, 90]\n",
    "ucv, frac_ucv = unit_cell_volume(uc_size, uc_angle)\n",
    "\n",
    "frac_coor = coor1.frac(uc_size, uc_angle, frac_ucv)\n",
    "print('Fractional coordinate:', frac_coor)\n",
    "\n",
    "car_coor = frac_coor.car(uc_size, uc_angle, frac_ucv)\n",
    "print('Cartesian coordinate: ', car_coor)\n",
    "\n",
    "# Periodic boundary condition in fractional coordinates\n",
    "pbc_coor = Coor([34, 21, -41])\n",
    "print('\\nCartesian coordinate: ', pbc_coor)\n",
    "pbc_coor = pbc_coor.frac(uc_size, uc_angle, frac_ucv)\n",
    "print('Fractional coordinate: ', pbc_coor)\n",
    "pbc_coor = pbc_coor.frac_pbc()\n",
    "print('Periodic boundary condition applied: ', pbc_coor)\n",
    "pbc_coor = pbc_coor.car(uc_size, uc_angle, frac_ucv)\n",
    "print('Back to cartesian coordinate: ', pbc_coor)\n",
    "\n",
    "# Alternatively\n",
    "pbc_coor = Coor([34, 21, -41])\n",
    "print('\\nCartesian coordinate: ', pbc_coor)\n",
    "pbc_coor = pbc_coor.pbc(uc_size, uc_angle, frac_ucv)\n",
    "print('Periodic boundary condition applied: ', pbc_coor)"
   ]
  },
  {
   "cell_type": "code",
   "execution_count": null,
   "metadata": {
    "collapsed": false
   },
   "outputs": [],
   "source": []
  },
  {
   "cell_type": "code",
   "execution_count": null,
   "metadata": {
    "collapsed": true
   },
   "outputs": [],
   "source": []
  }
 ],
 "metadata": {
  "kernelspec": {
   "display_name": "Python 3",
   "language": "python",
   "name": "python3"
  },
  "language_info": {
   "codemirror_mode": {
    "name": "ipython",
    "version": 3
   },
   "file_extension": ".py",
   "mimetype": "text/x-python",
   "name": "python",
   "nbconvert_exporter": "python",
   "pygments_lexer": "ipython3",
   "version": "3.5.1"
  }
 },
 "nbformat": 4,
 "nbformat_minor": 0
}
