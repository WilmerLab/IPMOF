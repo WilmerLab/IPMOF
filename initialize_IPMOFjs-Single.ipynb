{
 "cells": [
  {
   "cell_type": "markdown",
   "metadata": {
    "collapsed": true
   },
   "source": [
    "## Initialize Input Files for IPMOF (initialize_IPMOF.py)\n",
    "\n",
    "### Initialize necessary information\n",
    "\n",
    "1. Read FF_Parameters excel file to get force field parameters for atoms\n",
    "2. Initialize force field selection, cutOff radius and grid size for energy map\n",
    "\n",
    "### Create input files for MOF files in a given directory\n",
    "1. Reaf MOF files in \".mol2\" format from given directory and create a list\n",
    "2. Choose the first MOF1 as the stationary (map) MOF, initialize its variables, and calculate packed coordinates\n",
    "3. For all the MOFs in the list:\n",
    "4. Initialize MOF2 variables for the mobile MOF\n",
    "5. Calculate energy map\n",
    "6. Export energy map -> .json\n",
    "7. Export MOF2 structure information -> .json"
   ]
  },
  {
   "cell_type": "code",
   "execution_count": 1,
   "metadata": {
    "collapsed": false
   },
   "outputs": [],
   "source": [
    "import math\n",
    "import os\n",
    "os.chdir('C:\\\\Kutay\\\\IPMOF')\n",
    "from energyMapFunctions import *\n",
    "\n",
    "# Read excel file containing force field information\n",
    "excelFileDir = 'C:\\\\Users\\\\kutay\\\\iPython\\\\IPMOF\\\\FF_Parameters.xlsx'\n",
    "UFF = readFFparameters(excelFileDir, 'UFF')\n",
    "\n",
    "# Read radius list from the excel file\n",
    "radiusFileDir = 'C:\\\\Users\\\\kutay\\\\Dropbox\\\\Academic\\\\WilmerLab\\\\Research\\\\IPMOF\\\\IPMOFvisualization\\\\atomicRadius.xlsx'\n",
    "radiusList = readAtomRadius(radiusFileDir)"
   ]
  },
  {
   "cell_type": "code",
   "execution_count": 2,
   "metadata": {
    "collapsed": false
   },
   "outputs": [
    {
     "name": "stdout",
     "output_type": "stream",
     "text": [
      "['COGCOS-P1.mol2', 'COGCOS-P2.mol2']\n",
      "['ETAXAS-P1.mol2', 'ETAXAS-P2.mol2']\n",
      "['MAHYID-P1.mol2', 'MAHYID-P2.mol2']\n",
      "['PELQII-P1.mol2', 'PELQII-P2.mol2']\n",
      "['TIVYED-P1.mol2', 'TIVYED-P2.mol2']\n",
      "['UNAZIT-P1.mol2', 'UNAZIT-P2.mol2']\n",
      "['WEBZEK-P1.mol2', 'WEBZEK-P2.mol2']\n"
     ]
    }
   ],
   "source": [
    "# Generate MOF list\n",
    "expMOFs_dir = r'C:\\Kutay\\MOFs\\IPMOF_Experimental'\n",
    "expMOFs = os.listdir(expMOFs_dir)\n",
    "\n",
    "heteroIPMOFs = []\n",
    "for expMOF in expMOFs:\n",
    "    heteroIPMOF_dir = os.path.join(expMOFs_dir, expMOF)\n",
    "    heteroIPMOFs.append(generateMOFlist(heteroIPMOF_dir, '.mol2'))\n",
    "    print(heteroIPMOFs[-1])"
   ]
  },
  {
   "cell_type": "code",
   "execution_count": 25,
   "metadata": {
    "collapsed": false
   },
   "outputs": [
    {
     "name": "stdout",
     "output_type": "stream",
     "text": [
      "MOF Name    Atoms                  UCsize                  UCangle               Cut-Off\n",
      "----------  ---------------------  ----------------------  ------------------  ---------\n",
      "WEBZEK-P1   ['C', 'H', 'Cd', 'O']  [22.18, 22.18, 43.666]  [90.0, 90.0, 90.0]      11.09\n",
      "WEBZEK-P2   ['Cd', 'C', 'H', 'O']  [22.18, 22.18, 43.666]  [90.0, 90.0, 90.0]      11.09\n"
     ]
    }
   ],
   "source": [
    "MOFindex = 6\n",
    "IPMOF_list = heteroIPMOFs[MOFindex]\n",
    "\n",
    "# Read structure files, create MOF class and initialize variables for two given MOFs \n",
    "MOFs = []\n",
    "table = []\n",
    "for mofCount, mof in enumerate(IPMOF_list):\n",
    "    newMOF = MOF()\n",
    "    newMOF.dir = os.path.join(expMOFs_dir, expMOFs[MOFindex], mof)\n",
    "    newMOF.file = open(newMOF.dir, 'r')\n",
    "    newMOF.initialize()\n",
    "    newMOF.initializeFF(UFF)\n",
    "    newMOF.UCV = ucv(newMOF)\n",
    "\n",
    "    # Calculate cut-off radius as Rc = L/2\n",
    "    widthA = newMOF.UCV / (newMOF.UCsize[1]*newMOF.UCsize[2] / math.sin(math.radians(newMOF.UCangle[0])))\n",
    "    widthB = newMOF.UCV / (newMOF.UCsize[0]*newMOF.UCsize[2] / math.sin(math.radians(newMOF.UCangle[1])))\n",
    "    widthC = newMOF.UCV / (newMOF.UCsize[0]*newMOF.UCsize[1] / math.sin(math.radians(newMOF.UCangle[2])))\n",
    "    newMOF.cutOff = min(widthA/2, widthB/2, widthC/2)\n",
    "    \n",
    "    # Calculate packing for base MOF\n",
    "    newMOF.packingFactor = Packing.factor(newMOF.UCsize, newMOF.cutOff)\n",
    "    translationVectors, UCvectors = Packing.vectors(newMOF.packingFactor, newMOF.UCsize, newMOF.UCangle)\n",
    "    newMOF.packedCoor = Packing.UC(translationVectors, newMOF.packingFactor, UCvectors, newMOF.atomCoor)\n",
    "    newMOF.edgePoints = Packing.edgePoints(UCvectors)\n",
    "    \n",
    "    newMOF.name = mof.split('.')[0].split('_')[0]\n",
    "    MOFs.append(newMOF)\n",
    "    table.append([])\n",
    "    table[mofCount].append(newMOF.name)\n",
    "    table[mofCount].append(newMOF.uniqueAtomNames)\n",
    "    table[mofCount].append(newMOF.UCsize)\n",
    "    table[mofCount].append(newMOF.UCangle)\n",
    "    table[mofCount].append(round(newMOF.cutOff, 2))\n",
    "    #table[mofCount].append(newMOF.packingFactor)\n",
    "        \n",
    "from tabulate import tabulate\n",
    "\n",
    "headers = [\"MOF Name\", \"Atoms\", \"UCsize\", \"UCangle\", \"Cut-Off\"]\n",
    "print(tabulate(table, headers))"
   ]
  },
  {
   "cell_type": "code",
   "execution_count": 26,
   "metadata": {
    "collapsed": false
   },
   "outputs": [],
   "source": [
    "i = 0\n",
    "j = 1\n",
    "# Directory and format to export energy map and MOF structure files\n",
    "exportFolder = r'C:\\Kutay\\IPMOF_Experimental\\Input'\n",
    "exportFormat = '.js'\n",
    "\n",
    "# Creates atom list for non-repeating atoms from a list of MOF classes\n",
    "MOFlist = [MOFs[j]]\n",
    "atomList = getUniqueAtomList(MOFlist)\n",
    "\n",
    "# Creates atom list required in the energy map of a combination of MOFs\n",
    "eMapAtomList = getEnergyMapAtomList(MOFlist, atomList) \n",
    "           \n",
    "# Create export directory for the base MOF and create folder\n",
    "exportMOFfolder = os.path.join(exportFolder, MOFs[i].name)\n",
    "os.mkdir(exportMOFfolder)"
   ]
  },
  {
   "cell_type": "code",
   "execution_count": 27,
   "metadata": {
    "collapsed": false
   },
   "outputs": [
    {
     "name": "stdout",
     "output_type": "stream",
     "text": [
      "WEBZEK-P2.js is exported\n",
      "WEBZEK-P1+WEBZEK-P2_eMap.js is exported\n",
      "baseWEBZEK-P1.js is exported\n"
     ]
    }
   ],
   "source": [
    "# --------------------- Calculate Energy Map -------------------\n",
    "# For each MOF energy map is calculated with an atom list that consists of all the unique atoms z\n",
    "# for a given list of MOFs\n",
    "eMap = energyMap(MOFs[i], atomList, MOFs[i].cutOff, 1)\n",
    "\n",
    "#avgEnergyLimits = calculateEnergyLimits(i, MOFlist, eMapAtomList, eMap)\n",
    "energyLimit = 3E10\n",
    "        \n",
    "# Create export directory for the mobile MOF and create folder\n",
    "exportMOFfolder2 = os.path.join(exportMOFfolder, MOFs[j].name)\n",
    "os.mkdir(exportMOFfolder2)\n",
    "\n",
    "# Create export directory for mobile MOF\n",
    "exportDir_MOF = os.path.join(exportMOFfolder2, MOFs[j].name + exportFormat)\n",
    "exportGLOBALMOFjs(MOFs[j], exportDir_MOF)\n",
    "print(exportDir_MOF.split(\"\\\\\")[-1] + ' is exported')\n",
    "\n",
    "# Create export directory for energy map\n",
    "exportDir_eMap = os.path.join(exportMOFfolder2, MOFs[i].name + '+' + MOFs[j].name + '_eMap' + exportFormat)\n",
    "exportGLOBALEnergyMapjs(eMap, energyLimit, eMapAtomList, i, exportDir_eMap)\n",
    "print(exportDir_eMap.split(\"\\\\\")[-1] + ' is exported')\n",
    "\n",
    "# Export base MOF structure\n",
    "exportDir_baseMOF = os.path.join(exportMOFfolder2, 'base' + MOFs[i].name + exportFormat)\n",
    "exportGLOBALBaseMOFjs(MOFs[i], exportDir_baseMOF)\n",
    "print(exportDir_baseMOF.split(\"\\\\\")[-1] + ' is exported')"
   ]
  },
  {
   "cell_type": "code",
   "execution_count": null,
   "metadata": {
    "collapsed": false
   },
   "outputs": [],
   "source": []
  },
  {
   "cell_type": "code",
   "execution_count": null,
   "metadata": {
    "collapsed": false
   },
   "outputs": [],
   "source": []
  },
  {
   "cell_type": "code",
   "execution_count": null,
   "metadata": {
    "collapsed": false
   },
   "outputs": [],
   "source": []
  },
  {
   "cell_type": "code",
   "execution_count": null,
   "metadata": {
    "collapsed": false
   },
   "outputs": [],
   "source": []
  },
  {
   "cell_type": "code",
   "execution_count": null,
   "metadata": {
    "collapsed": false
   },
   "outputs": [],
   "source": []
  },
  {
   "cell_type": "code",
   "execution_count": null,
   "metadata": {
    "collapsed": false
   },
   "outputs": [],
   "source": []
  },
  {
   "cell_type": "code",
   "execution_count": null,
   "metadata": {
    "collapsed": false
   },
   "outputs": [],
   "source": []
  },
  {
   "cell_type": "code",
   "execution_count": 33,
   "metadata": {
    "collapsed": false
   },
   "outputs": [
    {
     "name": "stdout",
     "output_type": "stream",
     "text": [
      "[-4.166666666666666, 1.3124999999999998, 4.25]\n",
      "[0.8333333333333339, 0.3124999999999998, 0.25]\n"
     ]
    }
   ],
   "source": [
    "import math\n",
    "coor = [-25, 21, 34]\n",
    "UCsize = [6, 16, 8]\n",
    "UCangle = [90, 90, 90]\n",
    "\n",
    "\n",
    "def car2frac(coor, UCsize, UCangle, UCV):\n",
    "    \n",
    "    alp = UCangle[0] / 180 * math.pi\n",
    "    bet = UCangle[1] / 180 * math.pi\n",
    "    gam = UCangle[2] / 180 * math.pi\n",
    "    \n",
    "    a = UCsize[0]\n",
    "    b = UCsize[1]\n",
    "    c = UCsize[2]\n",
    "    \n",
    "    x = coor[0]\n",
    "    y = coor[1]\n",
    "    z = coor[2]\n",
    "    \n",
    "    v = math.sqrt(1 - math.cos(alp)**2 - math.cos(bet)**2 - math.cos(gam)**2 + 2*math.cos(alp)*math.cos(bet)*math.cos(gam))\n",
    "    \n",
    "    xfrac = 1/a*x \n",
    "    xfrac += - math.cos(gam)/(a*math.sin(gam))*y \n",
    "    xfrac += (math.cos(alp)*math.cos(gam)-math.cos(bet))/(a*v*math.sin(gam))*z\n",
    "    \n",
    "    yfrac = 0\n",
    "    yfrac += 1/(b*math.sin(gam))*y\n",
    "    yfrac += (math.cos(bet)*math.cos(gam)-math.cos(alp))/(b*v*math.sin(gam))*z\n",
    "    \n",
    "    zfrac = 0\n",
    "    zfrac += 0\n",
    "    zfrac += math.sin(gam)/(c*v)*z\n",
    "    \n",
    "    return [xfrac, yfrac, zfrac]\n",
    "\n",
    "def fracPBC(fracCoor):\n",
    "    pbcCoor = []\n",
    "    for coor in fracCoor:\n",
    "        pbcCoor.append(coor - math.floor(coor))\n",
    "    return pbcCoor\n",
    "\n",
    "\n",
    "fracCoor = car2frac(coor, UCsize, UCangle, ucv)\n",
    "print(fracCoor)\n",
    "pbcCoor = fracPBC(fracCoor)\n",
    "print(pbcCoor)"
   ]
  },
  {
   "cell_type": "code",
   "execution_count": null,
   "metadata": {
    "collapsed": false
   },
   "outputs": [],
   "source": []
  },
  {
   "cell_type": "code",
   "execution_count": null,
   "metadata": {
    "collapsed": false
   },
   "outputs": [],
   "source": []
  },
  {
   "cell_type": "code",
   "execution_count": null,
   "metadata": {
    "collapsed": false
   },
   "outputs": [],
   "source": []
  },
  {
   "cell_type": "code",
   "execution_count": null,
   "metadata": {
    "collapsed": false
   },
   "outputs": [],
   "source": []
  },
  {
   "cell_type": "code",
   "execution_count": null,
   "metadata": {
    "collapsed": true
   },
   "outputs": [],
   "source": []
  }
 ],
 "metadata": {
  "kernelspec": {
   "display_name": "Python 3",
   "language": "python",
   "name": "python3"
  },
  "language_info": {
   "codemirror_mode": {
    "name": "ipython",
    "version": 3
   },
   "file_extension": ".py",
   "mimetype": "text/x-python",
   "name": "python",
   "nbconvert_exporter": "python",
   "pygments_lexer": "ipython3",
   "version": "3.5.1"
  }
 },
 "nbformat": 4,
 "nbformat_minor": 0
}
