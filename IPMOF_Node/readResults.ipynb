{
 "cells": [
  {
   "cell_type": "code",
   "execution_count": 1,
   "metadata": {
    "collapsed": false
   },
   "outputs": [],
   "source": [
    "import os\n",
    "\n",
    "# Folder containing results file\n",
    "outputDir = \"C:\\\\Kutay\\\\IPMOF_Output\"\n",
    "resultsFileName = 'results.txt'\n",
    "\n",
    "resultsDir = 'C:\\Kutay\\IPMOF_Output\\XEBHOC\\XEBHOC\\ES1E-2_RF30_RL50_XYZ'\n",
    "\n",
    "#baseMOF = os.listdir(folderdir)\n",
    "#mobileMOF = os.listdir(baseMOFdir)\n",
    "#simPar = os.listdir(mobileMOF)\n",
    "\n",
    "from IPMOFresults import *"
   ]
  },
  {
   "cell_type": "code",
   "execution_count": 6,
   "metadata": {
    "collapsed": false
   },
   "outputs": [
    {
     "name": "stdout",
     "output_type": "stream",
     "text": [
      "['ES1E-1_RF30_RL50_XYZ', 'ES1E-2_RF30_RL50_XYZ']\n",
      "['ES1E-2_RF30_RL50_XYZ']\n",
      "['ES1E-2_RF30_RL50_XYZ']\n",
      "['ES1E-2_RF30_RL50_XYZ']\n",
      "['ES1E-2_RF30_RL50_XYZ']\n",
      "['ES1E-2_RF30_RL50_XYZ']\n",
      "['ES1E-2_RF30_RL50_XYZ']\n",
      "['ES1E-2_RF30_RL50_XYZ']\n",
      "['ES1E-2_RF30_RL50_XYZ']\n",
      "['ES1E-2_RF30_RL50_XYZ']\n",
      "['ES1E-2_RF30_RL50_XYZ']\n",
      "['ES1E-2_RF30_RL50_XYZ']\n",
      "['ES1E-2_RF30_RL50_XYZ']\n",
      "['ES1E-2_RF30_RL50_XYZ']\n",
      "['ES1E-2_RF30_RL50_XYZ']\n"
     ]
    }
   ],
   "source": [
    "baseMOF = os.listdir(outputDir)\n",
    "table = []\n",
    "for bMOF in baseMOF:\n",
    "    mobileMOF = os.listdir(os.path.join(outputDir,bMOF))\n",
    "    for mMOF in mobileMOF:\n",
    "        simPar = os.listdir(os.path.join(outputDir,bMOF, mMOF))\n",
    "        for sim in simPar:\n",
    "            \n",
    "        print(simPar)\n",
    "        \n",
    "        \n",
    "        table.append([])\n",
    "        table[refinedCount].append(bMOF)\n",
    "        table[refinedCount].append(mMOF)\n",
    "        table[refinedCount].append(sim)\n",
    "        table[refinedCount].append(completed)\n",
    "        table[refinedCount].append(totalStructureCount)\n",
    "        refinedCount += 1\n",
    "\n",
    "        os.path.getsize(file_path)\n",
    "        \n",
    "from tabulate import tabulate\n",
    "\n",
    "headers = [\"baseMOF\", \"mobileMOF\", \"simPar\", \"Completed\", \"sCount\", \"Cut-Off\"]\n",
    "print(tabulate(table, headers))"
   ]
  },
  {
   "cell_type": "code",
   "execution_count": 2,
   "metadata": {
    "collapsed": false
   },
   "outputs": [
    {
     "ename": "UnboundLocalError",
     "evalue": "local variable 'energyScale' referenced before assignment",
     "output_type": "error",
     "traceback": [
      "\u001b[1;31m---------------------------------------------------------------------------\u001b[0m",
      "\u001b[1;31mUnboundLocalError\u001b[0m                         Traceback (most recent call last)",
      "\u001b[1;32m<ipython-input-2-0c60bf7ab32c>\u001b[0m in \u001b[0;36m<module>\u001b[1;34m()\u001b[0m\n\u001b[1;32m----> 1\u001b[1;33m \u001b[0msummary\u001b[0m \u001b[1;33m=\u001b[0m \u001b[0mreadSummary\u001b[0m\u001b[1;33m(\u001b[0m\u001b[0mresultsDir\u001b[0m\u001b[1;33m)\u001b[0m\u001b[1;33m\u001b[0m\u001b[0m\n\u001b[0m\u001b[0;32m      2\u001b[0m \u001b[0mIPstructures\u001b[0m \u001b[1;33m=\u001b[0m \u001b[0mreadStructures\u001b[0m\u001b[1;33m(\u001b[0m\u001b[0mresultsDir\u001b[0m\u001b[1;33m)\u001b[0m\u001b[1;33m\u001b[0m\u001b[0m\n\u001b[0;32m      3\u001b[0m \u001b[0mminEstructures\u001b[0m \u001b[1;33m=\u001b[0m \u001b[0mgetMinEnergyStructures\u001b[0m\u001b[1;33m(\u001b[0m\u001b[0mIPstructures\u001b[0m\u001b[1;33m,\u001b[0m \u001b[1;36m5\u001b[0m\u001b[1;33m)\u001b[0m\u001b[1;33m\u001b[0m\u001b[0m\n",
      "\u001b[1;32mC:\\Kutay\\IPMOF\\IPMOF_Node\\IPMOFresults.py\u001b[0m in \u001b[0;36mreadSummary\u001b[1;34m(resultsDir)\u001b[0m\n\u001b[0;32m     81\u001b[0m     \u001b[0msummary\u001b[0m\u001b[1;33m[\u001b[0m\u001b[1;34m'rotFreedom'\u001b[0m\u001b[1;33m]\u001b[0m \u001b[1;33m=\u001b[0m \u001b[0mrotFreedom\u001b[0m\u001b[1;33m\u001b[0m\u001b[0m\n\u001b[0;32m     82\u001b[0m     \u001b[0msummary\u001b[0m\u001b[1;33m[\u001b[0m\u001b[1;34m'rotLimit'\u001b[0m\u001b[1;33m]\u001b[0m \u001b[1;33m=\u001b[0m \u001b[0mrotLimit\u001b[0m\u001b[1;33m\u001b[0m\u001b[0m\n\u001b[1;32m---> 83\u001b[1;33m     \u001b[0msummary\u001b[0m\u001b[1;33m[\u001b[0m\u001b[1;34m'energyScale'\u001b[0m\u001b[1;33m]\u001b[0m \u001b[1;33m=\u001b[0m \u001b[0menergyScale\u001b[0m\u001b[1;33m\u001b[0m\u001b[0m\n\u001b[0m\u001b[0;32m     84\u001b[0m     \u001b[0msummary\u001b[0m\u001b[1;33m[\u001b[0m\u001b[1;34m'percent'\u001b[0m\u001b[1;33m]\u001b[0m \u001b[1;33m=\u001b[0m \u001b[0mpercent\u001b[0m\u001b[1;33m\u001b[0m\u001b[0m\n\u001b[0;32m     85\u001b[0m     \u001b[0msummary\u001b[0m\u001b[1;33m[\u001b[0m\u001b[1;34m'structureCount'\u001b[0m\u001b[1;33m]\u001b[0m \u001b[1;33m=\u001b[0m \u001b[0mstructureCount\u001b[0m\u001b[1;33m\u001b[0m\u001b[0m\n",
      "\u001b[1;31mUnboundLocalError\u001b[0m: local variable 'energyScale' referenced before assignment"
     ]
    }
   ],
   "source": [
    "summary = readSummary(resultsDir)\n",
    "IPstructures = readStructures(resultsDir)\n",
    "minEstructures = getMinEnergyStructures(IPstructures, 5)"
   ]
  },
  {
   "cell_type": "code",
   "execution_count": 3,
   "metadata": {
    "collapsed": false
   },
   "outputs": [
    {
     "data": {
      "text/plain": [
       "['COF-5', 'IYIHUU', 'MIL-88C-open', 'XEBHOC', 'ZIKJIO']"
      ]
     },
     "execution_count": 3,
     "metadata": {},
     "output_type": "execute_result"
    }
   ],
   "source": [
    "baseMOF"
   ]
  },
  {
   "cell_type": "code",
   "execution_count": 19,
   "metadata": {
    "collapsed": false
   },
   "outputs": [
    {
     "data": {
      "text/plain": [
       "360000.0"
      ]
     },
     "execution_count": 19,
     "metadata": {},
     "output_type": "execute_result"
    }
   ],
   "source": [
    "IPstructures['structureEnergy'][minIndex]"
   ]
  },
  {
   "cell_type": "code",
   "execution_count": null,
   "metadata": {
    "collapsed": true
   },
   "outputs": [],
   "source": []
  }
 ],
 "metadata": {
  "kernelspec": {
   "display_name": "Python 3",
   "language": "python",
   "name": "python3"
  },
  "language_info": {
   "codemirror_mode": {
    "name": "ipython",
    "version": 3
   },
   "file_extension": ".py",
   "mimetype": "text/x-python",
   "name": "python",
   "nbconvert_exporter": "python",
   "pygments_lexer": "ipython3",
   "version": "3.5.1"
  }
 },
 "nbformat": 4,
 "nbformat_minor": 0
}
