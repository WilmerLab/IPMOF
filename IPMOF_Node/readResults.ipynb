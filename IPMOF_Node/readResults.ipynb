{
 "cells": [
  {
   "cell_type": "code",
   "execution_count": 1,
   "metadata": {
    "collapsed": false
   },
   "outputs": [],
   "source": [
    "import os\n",
    "\n",
    "# Folder containing results file\n",
    "outputDir = \"C:\\\\Kutay\\\\IPMOF_Output\"\n",
    "resultsFileName = 'results.txt'\n",
    "\n",
    "resultsDir = 'C:\\Kutay\\IPMOF_Output\\XEBHOC\\XEBHOC\\ES1E-2_RF30_RL50_XYZ'\n",
    "\n",
    "from IPMOFresults import *"
   ]
  },
  {
   "cell_type": "code",
   "execution_count": 2,
   "metadata": {
    "collapsed": false
   },
   "outputs": [
    {
     "name": "stdout",
     "output_type": "stream",
     "text": [
      "Base MOF      Mobile MOF    SimPar                Completed    RunTime    sCount\n",
      "------------  ------------  --------------------  -----------  ---------  --------\n",
      "COF-5         COF-5         ES1E-2_RF30_RL50_XYZ  Error        0:0:1      Err\n",
      "COF-5         IYIHUU        ES1E-2_RF30_RL50_XYZ  Error        0:0:0      Err\n",
      "COF-5         MIL-88C-open  ES1E-2_RF30_RL50_XYZ  Error        0:0:0      Err\n",
      "COF-5         XEBHOC        ES1E-2_RF30_RL50_XYZ  Error        0:0:1      Err\n",
      "COF-5         ZIKJIO        ES1E-2_RF30_RL50_XYZ  Interrupted  0:0:1      1.0\n",
      "IYIHUU        IYIHUU        ES1E-2_RF30_RL50_XYZ  Error        0:0:0      Err\n",
      "IYIHUU        MIL-88C-open  ES1E-2_RF30_RL50_XYZ  Error        0:0:0      Err\n",
      "IYIHUU        XEBHOC        ES1E-2_RF30_RL50_XYZ  Error        0:0:1      Err\n",
      "IYIHUU        ZIKJIO        ES1E-2_RF30_RL50_XYZ  Error        0:0:1      Err\n",
      "MIL-88C-open  MIL-88C-open  ES1E-2_RF30_RL50_XYZ  Error        0:0:0      Err\n",
      "MIL-88C-open  XEBHOC        ES1E-2_RF30_RL50_XYZ  Error        0:0:1      Err\n",
      "MIL-88C-open  ZIKJIO        ES1E-2_RF30_RL50_XYZ  Error        0:0:1      Err\n",
      "XEBHOC        XEBHOC        ES1E-2_RF30_RL50_XYZ  100.0        0:9:0      1245.0\n",
      "XEBHOC        ZIKJIO        ES1E-2_RF30_RL50_XYZ  100.0        0:8:3      8735.0\n",
      "ZIKJIO        ZIKJIO        ES1E-2_RF30_RL50_XYZ  Error        0:0:0      Err\n"
     ]
    }
   ],
   "source": [
    "baseMOF = os.listdir(outputDir)\n",
    "table = []\n",
    "totalStructureCount = 0\n",
    "completed = '---'\n",
    "simCount = 0\n",
    "\n",
    "for bMOF in baseMOF:\n",
    "    mobileMOF = os.listdir(os.path.join(outputDir,bMOF))\n",
    "    \n",
    "    for mMOF in mobileMOF:\n",
    "        simPar = os.listdir(os.path.join(outputDir,bMOF, mMOF))\n",
    "        \n",
    "        for sim in simPar:\n",
    "            simDir = os.path.join(outputDir, bMOF, mMOF, sim)\n",
    "            resultsDir = os.path.join(outputDir,bMOF, mMOF, sim, 'results.txt')\n",
    "            \n",
    "            # Check if job .out file exists\n",
    "            for simFile in os.listdir(simDir):\n",
    "                if '.out' in simFile:\n",
    "                    jobFileDir = os.path.join(outputDir,bMOF, mMOF, sim, simFile)\n",
    "                    runTime = readJobFile(jobFileDir)\n",
    "                    #runTime = '01:00'\n",
    "                    break\n",
    "                else:\n",
    "                    runTime = '---'\n",
    "            \n",
    "            # Check if results file exists\n",
    "            if os.path.isfile(resultsDir):\n",
    "                resultsSize = os.path.getsize(resultsDir)\n",
    "                \n",
    "                if resultsSize > 0:\n",
    "                    summary = readSummary(simDir)\n",
    "                    IPstructures = readStructures(simDir)\n",
    "                    #minEstructures = getMinEnergyStructures(IPstructures, 5)\n",
    "                    if len(summary['percent']) > 0:\n",
    "                        completed = summary['percent'][-1]\n",
    "                        totalStructureCount = summary['structureCount'][-1]\n",
    "                    else:\n",
    "                        completed = 'Interrupted'\n",
    "                        totalStructureCount = IPstructures['structureIndex'][-1]\n",
    "                else:\n",
    "                    completed = 'Error'\n",
    "                    totalStructureCount = 'Err'\n",
    "                    \n",
    "            else:\n",
    "                completed = 'NoResults'\n",
    "                totalStructureCount = 'NoResults'\n",
    "                           \n",
    "        table.append([])\n",
    "        table[simCount].append(bMOF)\n",
    "        table[simCount].append(mMOF)\n",
    "        table[simCount].append(sim)\n",
    "        table[simCount].append(completed)\n",
    "        table[simCount].append(runTime)\n",
    "        table[simCount].append(totalStructureCount)\n",
    "        simCount += 1\n",
    "        \n",
    "from tabulate import tabulate\n",
    "\n",
    "headers = [\"Base MOF\", \"Mobile MOF\", \"SimPar\", \"Completed\", \"RunTime\", \"sCount\"]\n",
    "print(tabulate(table, headers))"
   ]
  },
  {
   "cell_type": "code",
   "execution_count": null,
   "metadata": {
    "collapsed": false
   },
   "outputs": [],
   "source": []
  },
  {
   "cell_type": "code",
   "execution_count": null,
   "metadata": {
    "collapsed": false
   },
   "outputs": [],
   "source": []
  }
 ],
 "metadata": {
  "kernelspec": {
   "display_name": "Python 3",
   "language": "python",
   "name": "python3"
  },
  "language_info": {
   "codemirror_mode": {
    "name": "ipython",
    "version": 3
   },
   "file_extension": ".py",
   "mimetype": "text/x-python",
   "name": "python",
   "nbconvert_exporter": "python",
   "pygments_lexer": "ipython3",
   "version": "3.5.1"
  }
 },
 "nbformat": 4,
 "nbformat_minor": 0
}
