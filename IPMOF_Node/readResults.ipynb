{
 "cells": [
  {
   "cell_type": "code",
   "execution_count": 20,
   "metadata": {
    "collapsed": false
   },
   "outputs": [],
   "source": [
    "import os\n",
    "\n",
    "# Folder containing results file\n",
    "folderDir = \"C:\\\\Kutay\\\\IPMOF_Output\"\n",
    "resultsFileName = 'results.txt'\n",
    "\n",
    "resultsDir = 'C:\\Kutay\\IPMOF_Output\\XEBHOC\\XEBHOC\\ES1E-2_RF30_RL50_XYZ'\n",
    "\n",
    "#baseMOF = os.listdir(folderdir)\n",
    "#mobileMOF = os.listdir(baseMOFdir)\n",
    "#simPar = os.listdir(mobileMOF)"
   ]
  },
  {
   "cell_type": "code",
   "execution_count": 23,
   "metadata": {
    "collapsed": true
   },
   "outputs": [],
   "source": [
    "def readStructures(resultsDir):\n",
    "    resultsFileName = 'results.txt'\n",
    "    resDir = os.path.join(resultsDir, resultsFileName)\n",
    "    resFile = open(resDir, 'r')\n",
    "    IPstructures = { 'numAtoms': [], 'structureIndex': [], 'IPtrial': [], 'rotation': [], 'structureEnergy': [], 'xyz': [] }\n",
    "    newStructure = True\n",
    "    lineCount = 0\n",
    "    xyz = []\n",
    "    for line in resFile:\n",
    "\n",
    "        if 'Initial' in line:\n",
    "            break\n",
    "\n",
    "        if '---' in line:\n",
    "            IPstructures['numAtoms'].append(numAtoms)\n",
    "            IPstructures['structureIndex'].append(structureIndex)\n",
    "            IPstructures['IPtrial'].append(IPtrial)\n",
    "            IPstructures['rotation'].append(rotation)\n",
    "            IPstructures['structureEnergy'].append(structureEnergy)\n",
    "            IPstructures['xyz'].append(xyz)\n",
    "            newStructure = True\n",
    "            lineCount = 0\n",
    "            xyz = []\n",
    "            continue\n",
    "\n",
    "        if newStructure:\n",
    "            if lineCount == 0:\n",
    "                numAtoms = float(line)\n",
    "            if lineCount == 1:\n",
    "                structureIndex = float(line.split()[1])\n",
    "                IPtrial = float(line.split()[4])\n",
    "            if lineCount == 2:\n",
    "                rotation = [float(line.split()[2]), float(line.split()[4]), float(line.split()[6])]\n",
    "            if lineCount == 3:\n",
    "                structureEnergy = float(line.split()[1])\n",
    "            if lineCount > 4:\n",
    "                xyz.append(line[0:len(line)-2])\n",
    "            lineCount += 1\n",
    "\n",
    "    return IPstructures\n",
    "\n",
    "def getMinEnergyStructures(IPstructures, numStructures):\n",
    "    minEnergyStructures = []\n",
    "    for strIdx in range(numStructures):\n",
    "        minEnergy = sorted(IPstructures['structureEnergy'])[0]\n",
    "        minIndex = IPstructures['structureEnergy'].index(minEnergy)\n",
    "        minEnergyStructures.append(minIndex)\n",
    "    return minEnergyStructures\n",
    "    \n",
    "    \n",
    "#def exportXYZ():\n",
    "    \n",
    "def readSummary(resultsDir):\n",
    "    resultsFileName = 'results.txt'\n",
    "    resDir = os.path.join(resultsDir, resultsFileName)\n",
    "    resFile = open(resDir, 'r')\n",
    "    percent = []\n",
    "    structureCount = []\n",
    "    trialCount = []\n",
    "    icCount = []\n",
    "    for line in resFile:\n",
    "\n",
    "        if 'Rotational Freedom' in line:\n",
    "            rotFreedom = float(line.split()[2])\n",
    "\n",
    "        if 'Rotation Limit' in line:\n",
    "            rotLimit = float(line.split()[2])\n",
    "\n",
    "        if 'Energy Scale' in line:\n",
    "            energyScale = float(line.split()[2])\n",
    "\n",
    "        if 'Percent' in line:\n",
    "            percent.append(float(line.split()[1]))\n",
    "            structureCount.append(float(line.split()[4]))\n",
    "            trialCount.append(float(line.split()[7]))\n",
    "            icCount.append(float(line.split()[10]))\n",
    "\n",
    "    summary = {}\n",
    "    summary['rotFreedom'] = rotFreedom\n",
    "    summary['rotLimit'] = rotLimit\n",
    "    #summary['energyScale'] = energyScale\n",
    "    summary['percent'] = percent\n",
    "    summary['structureCount'] = structureCount\n",
    "    summary['trialCount'] = trialCount\n",
    "    summary['icCount'] = icCount\n",
    "    \n",
    "    return summary"
   ]
  },
  {
   "cell_type": "code",
   "execution_count": 24,
   "metadata": {
    "collapsed": false
   },
   "outputs": [],
   "source": [
    "summary = readSummary(resultsDir)\n",
    "IPstructures = readStructures(resultsDir)\n",
    "minEstructures = getMinEnergyStructures(IPstructures, 5)"
   ]
  },
  {
   "cell_type": "code",
   "execution_count": 26,
   "metadata": {
    "collapsed": false
   },
   "outputs": [
    {
     "data": {
      "text/plain": [
       "[0.0,\n",
       " 1.0,\n",
       " 2.0,\n",
       " 3.0,\n",
       " 4.0,\n",
       " 5.0,\n",
       " 6.0,\n",
       " 7.0,\n",
       " 8.0,\n",
       " 9.0,\n",
       " 10.0,\n",
       " 11.0,\n",
       " 12.0,\n",
       " 13.0,\n",
       " 14.0,\n",
       " 15.0,\n",
       " 16.0,\n",
       " 17.0,\n",
       " 18.0,\n",
       " 19.0,\n",
       " 20.0,\n",
       " 21.0,\n",
       " 22.0,\n",
       " 23.0,\n",
       " 24.0,\n",
       " 25.0,\n",
       " 26.0,\n",
       " 27.0,\n",
       " 28.0,\n",
       " 29.0,\n",
       " 30.0,\n",
       " 31.0,\n",
       " 32.0,\n",
       " 33.0,\n",
       " 34.0,\n",
       " 35.0,\n",
       " 36.0,\n",
       " 37.0,\n",
       " 38.0,\n",
       " 39.0,\n",
       " 40.0,\n",
       " 41.0,\n",
       " 42.0,\n",
       " 43.0,\n",
       " 44.0,\n",
       " 45.0,\n",
       " 46.0,\n",
       " 47.0,\n",
       " 48.0,\n",
       " 49.0,\n",
       " 51.0,\n",
       " 52.0,\n",
       " 53.0,\n",
       " 54.0,\n",
       " 55.0,\n",
       " 56.0,\n",
       " 57.0,\n",
       " 58.0,\n",
       " 59.0,\n",
       " 60.0,\n",
       " 61.0,\n",
       " 62.0,\n",
       " 63.0,\n",
       " 64.0,\n",
       " 65.0,\n",
       " 66.0,\n",
       " 67.0,\n",
       " 68.0,\n",
       " 69.0,\n",
       " 70.0,\n",
       " 71.0,\n",
       " 72.0,\n",
       " 73.0,\n",
       " 74.0,\n",
       " 75.0,\n",
       " 76.0,\n",
       " 77.0,\n",
       " 78.0,\n",
       " 79.0,\n",
       " 80.0,\n",
       " 81.0,\n",
       " 82.0,\n",
       " 83.0,\n",
       " 84.0,\n",
       " 85.0,\n",
       " 86.0,\n",
       " 87.0,\n",
       " 88.0,\n",
       " 89.0,\n",
       " 90.0,\n",
       " 91.0,\n",
       " 92.0,\n",
       " 93.0,\n",
       " 94.0,\n",
       " 95.0,\n",
       " 96.0,\n",
       " 97.0,\n",
       " 98.0,\n",
       " 99.0,\n",
       " 100.0,\n",
       " 100.0]"
      ]
     },
     "execution_count": 26,
     "metadata": {},
     "output_type": "execute_result"
    }
   ],
   "source": [
    "summary['percent']"
   ]
  },
  {
   "cell_type": "code",
   "execution_count": 19,
   "metadata": {
    "collapsed": false
   },
   "outputs": [
    {
     "data": {
      "text/plain": [
       "360000.0"
      ]
     },
     "execution_count": 19,
     "metadata": {},
     "output_type": "execute_result"
    }
   ],
   "source": [
    "IPstructures['structureEnergy'][minIndex]"
   ]
  },
  {
   "cell_type": "code",
   "execution_count": null,
   "metadata": {
    "collapsed": true
   },
   "outputs": [],
   "source": []
  }
 ],
 "metadata": {
  "kernelspec": {
   "display_name": "Python 3",
   "language": "python",
   "name": "python3"
  },
  "language_info": {
   "codemirror_mode": {
    "name": "ipython",
    "version": 3
   },
   "file_extension": ".py",
   "mimetype": "text/x-python",
   "name": "python",
   "nbconvert_exporter": "python",
   "pygments_lexer": "ipython3",
   "version": "3.5.1"
  }
 },
 "nbformat": 4,
 "nbformat_minor": 0
}
