{
 "cells": [
  {
   "cell_type": "code",
   "execution_count": 1,
   "metadata": {
    "collapsed": false
   },
   "outputs": [],
   "source": [
    "import os\n",
    "import shutil\n",
    "\n",
    "# IPMOF.js source file directory\n",
    "source_dir = \"C:\\\\Kutay\\\\IPMOF\\\\IPMOF_Node\"\n",
    "# MOF structure files and eMap files directory\n",
    "inputDir =  \"C:\\\\Kutay\\\\IPMOF_Input\"\n",
    "# Simulation files export directory\n",
    "export_dir = \"C:\\\\Kutay\\\\IPMOF_Frank\"\n",
    "\n",
    "os.chdir(source_dir)\n",
    "\n",
    "from exportFrank import *"
   ]
  },
  {
   "cell_type": "code",
   "execution_count": 2,
   "metadata": {
    "collapsed": false,
    "scrolled": true
   },
   "outputs": [],
   "source": [
    "# Energy limit scaling, rotationFreedom, rotationAmount, outputStructures\n",
    "ES = [1E-2]\n",
    "RF = [30]\n",
    "RL = [50]\n",
    "XYZ = ['true']\n",
    "queue = 'shared'\n",
    "wallTime = '01:00:00'\n",
    "\n",
    "# Generate lists for simulation parameters and file names to create for the simulations\n",
    "exportParamList, exportFolderList = generateExportList(ES, RF, RL, XYZ)\n",
    "\n",
    "# Directory for IPMOF_Functions source file to copy in each directory\n",
    "IPfunDir = os.path.join(source_dir, 'IPMOF_Functions.js')\n",
    "\n",
    "for baseMOF in os.listdir(inputDir):\n",
    "    \n",
    "    mobileMOFdir = os.path.join(inputDir, baseMOF)\n",
    "    baseMOF_exportDir = os.path.join(export_dir, baseMOF)\n",
    "    os.mkdir(baseMOF_exportDir)\n",
    "    \n",
    "    for mobileMOF in os.listdir(mobileMOFdir):\n",
    "        \n",
    "        inputFolderDir = os.path.join(mobileMOFdir, mobileMOF)\n",
    "        mobileMOF_exportDir = os.path.join(baseMOF_exportDir, mobileMOF)\n",
    "        os.mkdir(mobileMOF_exportDir)\n",
    "        \n",
    "        inputFiles = os.listdir(inputFolderDir)\n",
    "        \n",
    "        # Read input files created by initialize_IPMOFjs (MOF, baseMOF, eMap)\n",
    "        IPinpFiles = []\n",
    "        for inp in inputFiles:\n",
    "            IPinpFiles.append(inp)\n",
    "        # Add IPMOF_Functions to the file list (this list is used in IPMOF to require these files)\n",
    "        IPinpFiles.append('IPMOF_Functions.js')\n",
    "        \n",
    "        # For each simulation parameter set and each MOF combination\n",
    "        # Copy all the required files (MOF, baseMOF, eMap, IPMOF_Functions)\n",
    "        # Export IPMOF with given parameters and export job.sh with given ob submission parameters\n",
    "        jobNum = 0\n",
    "        for expPar, expFold in zip(exportParamList, exportFolderList):\n",
    "            expDir = os.path.join(mobileMOF_exportDir, expFold)\n",
    "            os.mkdir(expDir)\n",
    "              \n",
    "            for inpFile in inputFiles:\n",
    "                dstDir = os.path.join(expDir, inpFile)\n",
    "                inpDir = os.path.join(inputFolderDir, inpFile)\n",
    "                shutil.copy(inpDir, dstDir)\n",
    "        \n",
    "            IPfun_dstDir = os.path.join(expDir, 'IPMOF_Functions.js')\n",
    "            \n",
    "            shutil.copy(IPfunDir, IPfun_dstDir)\n",
    "            \n",
    "            exportIPMOFjs(IPinpFiles, expPar, source_dir, expDir)\n",
    "            \n",
    "            jobName = baseMOF + '-' + mobileMOF + str(jobNum)\n",
    "            exportJobSH(expDir, jobName, queue, wallTime)\n",
    "            jobNum += 1\n"
   ]
  },
  {
   "cell_type": "code",
   "execution_count": null,
   "metadata": {
    "collapsed": false
   },
   "outputs": [],
   "source": []
  },
  {
   "cell_type": "code",
   "execution_count": null,
   "metadata": {
    "collapsed": false
   },
   "outputs": [],
   "source": []
  },
  {
   "cell_type": "code",
   "execution_count": 14,
   "metadata": {
    "collapsed": false
   },
   "outputs": [],
   "source": []
  },
  {
   "cell_type": "code",
   "execution_count": 15,
   "metadata": {
    "collapsed": false
   },
   "outputs": [
    {
     "data": {
      "text/plain": [
       "'-3'"
      ]
     },
     "execution_count": 15,
     "metadata": {},
     "output_type": "execute_result"
    }
   ],
   "source": [
    "es"
   ]
  },
  {
   "cell_type": "code",
   "execution_count": null,
   "metadata": {
    "collapsed": true
   },
   "outputs": [],
   "source": []
  }
 ],
 "metadata": {
  "kernelspec": {
   "display_name": "Python 3",
   "language": "python",
   "name": "python3"
  },
  "language_info": {
   "codemirror_mode": {
    "name": "ipython",
    "version": 3
   },
   "file_extension": ".py",
   "mimetype": "text/x-python",
   "name": "python",
   "nbconvert_exporter": "python",
   "pygments_lexer": "ipython3",
   "version": "3.5.1"
  }
 },
 "nbformat": 4,
 "nbformat_minor": 0
}
