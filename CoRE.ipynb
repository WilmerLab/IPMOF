{
 "cells": [
  {
   "cell_type": "markdown",
   "metadata": {},
   "source": [
    "### IPMOF core library\n",
    "Provides access to MOF database published in (10.1021/cm502594j):\n",
    "\n",
    "Chung, Yongchul G., et al. \"Computation-Ready, Experimental Metal–Organic Frameworks: A Tool to Enable High-Throughput Screening of Nanoporous Crystals.\" Chemistry of Materials 26.21 (2014): 6185-6192.\n",
    "\n",
    "Excel file provided in the Supplementary Information of the publication is used for accessing MOF properties.\n",
    "\n",
    "Excel file is given in /doc/CoRE.xlsx\n",
    "\n",
    "Available properties can be found by typing help(mof_properties)\n",
    "\n",
    "MOFs can be sorted by any numerical property. \n",
    "\n",
    "Directories for the sorted MOFs can be gathered from given database directory."
   ]
  },
  {
   "cell_type": "code",
   "execution_count": 1,
   "metadata": {
    "collapsed": false
   },
   "outputs": [],
   "source": [
    "from ipmof.parameters import sim_dir_data as sim_dir\n",
    "from ipmof.core import core_mof_properties, core_mof_sort, core_mof_dir"
   ]
  },
  {
   "cell_type": "code",
   "execution_count": 2,
   "metadata": {
    "collapsed": false
   },
   "outputs": [],
   "source": [
    "mof_properties = core_mof_properties(sim_dir['core_path'])"
   ]
  },
  {
   "cell_type": "code",
   "execution_count": 3,
   "metadata": {
    "collapsed": false
   },
   "outputs": [],
   "source": [
    "mol2_dir = r'/home/kutay/Documents/Research/MOFs/REFmol2'"
   ]
  },
  {
   "cell_type": "code",
   "execution_count": 4,
   "metadata": {
    "collapsed": false
   },
   "outputs": [
    {
     "name": "stdout",
     "output_type": "stream",
     "text": [
      "Gathered a total of 96 MOFs\n",
      "With void_fraction > 0.85\n"
     ]
    }
   ],
   "source": [
    "sorted_mofs = core_mof_sort(mof_properties, sort='void_fraction', limit=0.85)"
   ]
  },
  {
   "cell_type": "code",
   "execution_count": 5,
   "metadata": {
    "collapsed": false
   },
   "outputs": [
    {
     "name": "stdout",
     "output_type": "stream",
     "text": [
      "91 mofs are missing\n",
      "5 total mofs found\n"
     ]
    }
   ],
   "source": [
    "mof_dirs = core_mof_dir(sorted_mofs, mol2_dir)"
   ]
  },
  {
   "cell_type": "code",
   "execution_count": 6,
   "metadata": {
    "collapsed": false
   },
   "outputs": [
    {
     "data": {
      "text/plain": [
       "['/home/kutay/Documents/Research/MOFs/REFmol2/ADASAB.mol2',\n",
       " '/home/kutay/Documents/Research/MOFs/REFmol2/ANUGIA_clean.mol2',\n",
       " '/home/kutay/Documents/Research/MOFs/REFmol2/ECOLEP_clean.mol2',\n",
       " '/home/kutay/Documents/Research/MOFs/REFmol2/XAWVUN_clean.mol2',\n",
       " '/home/kutay/Documents/Research/MOFs/REFmol2/XEBHOC_clean.mol2']"
      ]
     },
     "execution_count": 6,
     "metadata": {},
     "output_type": "execute_result"
    }
   ],
   "source": [
    "mof_dirs"
   ]
  },
  {
   "cell_type": "code",
   "execution_count": null,
   "metadata": {
    "collapsed": false
   },
   "outputs": [],
   "source": []
  },
  {
   "cell_type": "code",
   "execution_count": null,
   "metadata": {
    "collapsed": false
   },
   "outputs": [],
   "source": []
  },
  {
   "cell_type": "code",
   "execution_count": null,
   "metadata": {
    "collapsed": true
   },
   "outputs": [],
   "source": []
  }
 ],
 "metadata": {
  "kernelspec": {
   "display_name": "Python 3",
   "language": "python",
   "name": "python3"
  },
  "language_info": {
   "codemirror_mode": {
    "name": "ipython",
    "version": 3
   },
   "file_extension": ".py",
   "mimetype": "text/x-python",
   "name": "python",
   "nbconvert_exporter": "python",
   "pygments_lexer": "ipython3",
   "version": "3.5.1"
  }
 },
 "nbformat": 4,
 "nbformat_minor": 0
}
