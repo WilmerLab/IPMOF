{
 "cells": [
  {
   "cell_type": "markdown",
   "metadata": {},
   "source": [
    "### Python geometry library\n",
    "\n",
    "#### Quaternion class\n",
    " - Basic quaternion operations\n",
    " - Rotation of a point by an arbitrary axis in 3D space\n",
    " \n",
    "#### Coor class\n",
    " - Basic 3D coordinate operations\n",
    " - Periodic boundary conditions"
   ]
  },
  {
   "cell_type": "code",
   "execution_count": null,
   "metadata": {
    "collapsed": false
   },
   "outputs": [],
   "source": [
    "import math\n",
    "import os\n",
    "# os.chdir(r'Enter Python Library Directory')\n",
    "#os.chdir(r'C:\\Kutay\\IPMOF\\IPMOF_Python')\n",
    "os.chdir(r'/home/kutay/Documents/git/IPMOF/IPMOF_Python')\n",
    "from geometry import Quaternion, Coor\n",
    "from crystal import unit_cell_volume"
   ]
  },
  {
   "cell_type": "code",
   "execution_count": null,
   "metadata": {
    "collapsed": false
   },
   "outputs": [],
   "source": [
    "# Define new quaternion object Quaternion([w, x, y, z])\n",
    "q1 = Quaternion([0 , 1, 1, 1])\n",
    "q2 = Quaternion([1, 2, 4.5, 0.3])\n",
    "q3 = q1 * q2\n",
    "q4 = q3 / q1\n",
    "print('Multiplication: ' + str(q3.x) + ' ' + str(q3.y) + ' ' + str(q3.z))\n",
    "print('Division: ' + str(q4.x) + ' ' + str(q4.y) + ' ' + str(q4.z))\n",
    "print('Inverse: ' + str(q2.inv().xyz()))"
   ]
  },
  {
   "cell_type": "code",
   "execution_count": null,
   "metadata": {
    "collapsed": false
   },
   "outputs": [],
   "source": [
    "rotation_point = [1,2,3]\n",
    "axis_point1 = [2,5,4]\n",
    "axis_point2 = [-2,0.3,6]\n",
    "rotation_angle = math.pi / 2 # Rotation angle needs to be given in radians\n",
    "\n",
    "# Result of the rotation is not effected by the initial w, x, y, z of the quaternion \n",
    "Q = Quaternion([0, 1, 1, 1])\n",
    "Q = Q.rotation(rotation_point, axis_point1, axis_point2, math.pi/2)\n",
    "print('Rotation of point ' + str(rotation_point) + ' around an axis defined by')\n",
    "print('two points in space: ' + str(axis_point1) + ' and ' + str(axis_point2))\n",
    "print('is given by: ' + str(Q.xyz()))"
   ]
  },
  {
   "cell_type": "code",
   "execution_count": null,
   "metadata": {
    "collapsed": false
   },
   "outputs": [],
   "source": [
    "# Coor class example usage\n",
    "coor1 = Coor([1, 4, -2])\n",
    "coor2 = Coor([0.123, -2.4, 23])\n",
    "\n",
    "print('Return list of coordinates: ', coor1.xyz())\n",
    "print('Addition: ', coor1 + coor2)\n",
    "print('Subtraction: ', coor1 - coor2)\n",
    "print('Distance: ', coor1.dist(coor2))"
   ]
  },
  {
   "cell_type": "code",
   "execution_count": null,
   "metadata": {
    "collapsed": false
   },
   "outputs": [],
   "source": [
    "# Conversion to fractional coordinates\n",
    "uc_size = [12.8597, 15.1207, 23.516]\n",
    "uc_angle = [90, 90, 90]\n",
    "ucv, frac_ucv = unit_cell_volume(uc_size, uc_angle)\n",
    "\n",
    "frac_coor = coor1.frac(uc_size, uc_angle, frac_ucv)\n",
    "print('Fractional coordinate:', frac_coor)\n",
    "\n",
    "car_coor = frac_coor.car(uc_size, uc_angle, frac_ucv)\n",
    "print('Cartesian coordinate: ', car_coor)\n",
    "\n",
    "# Periodic boundary condition in fractional coordinates\n",
    "pbc_coor = Coor([34, 21, -41])\n",
    "print('\\nCartesian coordinate: ', pbc_coor)\n",
    "pbc_coor = pbc_coor.frac(uc_size, uc_angle, frac_ucv)\n",
    "print('Fractional coordinate: ', pbc_coor)\n",
    "pbc_coor = pbc_coor.frac_pbc()\n",
    "print('Periodic boundary condition applied: ', pbc_coor)\n",
    "pbc_coor = pbc_coor.car(uc_size, uc_angle, frac_ucv)\n",
    "print('Back to cartesian coordinate: ', pbc_coor)\n",
    "\n",
    "# Alternatively\n",
    "pbc_coor = Coor([34, 21, -41])\n",
    "print('\\nCartesian coordinate: ', pbc_coor)\n",
    "pbc_coor = pbc_coor.pbc(uc_size, uc_angle, frac_ucv)\n",
    "print('Periodic boundary condition applied: ', pbc_coor)"
   ]
  },
  {
   "cell_type": "code",
   "execution_count": null,
   "metadata": {
    "collapsed": true
   },
   "outputs": [],
   "source": []
  }
 ],
 "metadata": {
  "kernelspec": {
   "display_name": "Python 3",
   "language": "python",
   "name": "python3"
  },
  "language_info": {
   "codemirror_mode": {
    "name": "ipython",
    "version": 3
   },
   "file_extension": ".py",
   "mimetype": "text/x-python",
   "name": "python",
   "nbconvert_exporter": "python",
   "pygments_lexer": "ipython3",
   "version": "3.5.1"
  }
 },
 "nbformat": 4,
 "nbformat_minor": 0
}
