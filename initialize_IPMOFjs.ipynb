{
 "cells": [
  {
   "cell_type": "markdown",
   "metadata": {
    "collapsed": true
   },
   "source": [
    "## Initialize Input Files for IPMOF (initialize_IPMOF.py)\n",
    "\n",
    "### Initialize necessary information\n",
    "\n",
    "1. Read FF_Parameters excel file to get force field parameters for atoms\n",
    "2. Initialize force field selection, cutOff radius and grid size for energy map\n",
    "\n",
    "### Create input files for MOF files in a given directory\n",
    "1. Reaf MOF files in \".mol2\" format from given directory and create a list\n",
    "2. Choose the first MOF1 as the stationary (map) MOF, initialize its variables, and calculate packed coordinates\n",
    "3. For all the MOFs in the list:\n",
    "4. Initialize MOF2 variables for the mobile MOF\n",
    "5. Calculate energy map\n",
    "6. Export energy map -> .json\n",
    "7. Export MOF2 structure information -> .json"
   ]
  },
  {
   "cell_type": "code",
   "execution_count": 1,
   "metadata": {
    "collapsed": false
   },
   "outputs": [
    {
     "name": "stdout",
     "output_type": "stream",
     "text": [
      "Vf > 0.94 MOF count: 60\n",
      "Average Void Fraction: 0.9492591508735512\n"
     ]
    }
   ],
   "source": [
    "import math\n",
    "import os\n",
    "os.chdir('C:\\\\Kutay\\\\IPMOF')\n",
    "from energyMapFunctions import *\n",
    "\n",
    "excelFileDir = 'C:\\\\Users\\\\kutay\\\\iPython\\\\IPMOF\\\\FF_Parameters.xlsx'\n",
    "UFF = readFFparameters(excelFileDir, 'UFF')\n",
    "\n",
    "# Read radius list from the excel file\n",
    "radiusList = readAtomRadius()\n",
    "\n",
    "# Generate MOF list\n",
    "fileDir = 'C:\\\\Users\\kutay\\\\Desktop\\\\REFmol2'\n",
    "fileFormat = \".mol2\"\n",
    "MOFlist = generateMOFlist(fileDir, fileFormat)\n",
    "MOFnames = []\n",
    "\n",
    "#cutOff = 13\n",
    "orthoCount = 0\n",
    "VFtotal = 0\n",
    "MOFs = []\n",
    "for MOFindex, mof in enumerate(MOFlist):\n",
    "    newMOF = MOF()\n",
    "    newMOF.dir = fileDir + '\\\\' + mof\n",
    "    newMOF.file = open(newMOF.dir, 'r')\n",
    "    newMOF.initialize()\n",
    "    \n",
    "    # Calculate void fraction\n",
    "    atomVolumes = atomicVolume(newMOF, radiusList)\n",
    "    UnitCellVolume = ucv(newMOF)\n",
    "    newMOF.atomDensity = atomVolumes / UnitCellVolume\n",
    "    newMOF.voidFraction = 1 - atomVolumes / UnitCellVolume\n",
    " \n",
    "    # Calculate packing for base MOF\n",
    "    newMOF.cutOff = [newMOF.UCsize[0]/2, newMOF.UCsize[1]/2, newMOF.UCsize[2]/2]\n",
    "    #cutOff = [13, 13, 13]\n",
    "    packingFactor = Packing.factor(newMOF.UCsize, newMOF.cutOff)\n",
    "    newMOF.packingFactor = packingFactor\n",
    "    translationVectors, UCvectors = Packing.vectors(packingFactor, newMOF.UCsize, newMOF.UCangle)\n",
    "    newMOF.packedCoor = Packing.UC(translationVectors, packingFactor, UCvectors, newMOF.atomCoor)\n",
    "    newMOF.edgePoints = Packing.edgePoints(UCvectors)\n",
    "    \n",
    "    if newMOF.voidFraction > 0.94:\n",
    "        MOFname = MOFlist[MOFindex].split('.')[0]\n",
    "        MOFname = MOFname.split('_')[0]\n",
    "        newMOF.name = MOFname\n",
    "        MOFs.append(newMOF)\n",
    "        VFtotal += newMOF.voidFraction\n",
    "        orthoCount += 1 \n",
    "\n",
    "VFaverage = VFtotal / orthoCount\n",
    "    \n",
    "print('Vf > 0.94 MOF count: ' + str(orthoCount))\n",
    "print('Average Void Fraction: ' +str(VFaverage))"
   ]
  },
  {
   "cell_type": "code",
   "execution_count": 4,
   "metadata": {
    "collapsed": false
   },
   "outputs": [
    {
     "name": "stdout",
     "output_type": "stream",
     "text": [
      "MOF Name    Atoms                       UCsize                      UCangle                        VF  Packing\n",
      "----------  --------------------------  --------------------------  ---------------------------  ----  ---------\n",
      "COF-5       ['C', 'B', 'H', 'O']        [3.404, 30.0198, 30.0198]   [120.0, 90.0, 90.0]          0.97  [3, 3, 3]\n",
      "XEBHOC      ['H', 'C', 'N', 'O', 'Cu']  [15.376, 19.8482, 19.8482]  [73.3583, 67.2109, 67.2109]  0.97  [3, 3, 3]\n"
     ]
    }
   ],
   "source": [
    "targetVF = 0.965\n",
    "refinedMOFs = []\n",
    "refinedCount = 0\n",
    "table = []\n",
    "identicalMOFs = []\n",
    "counterpartMOFs = []\n",
    "for mofIndex, mof in enumerate(MOFs):\n",
    "    if mof.voidFraction > targetVF:\n",
    "        mof.initializeFF(UFF)\n",
    "        #foundIdentical = False\n",
    "        if mofIndex > 0:\n",
    "            for refMOF in refinedMOFs:\n",
    "                if round(mof.voidFraction, 2) == round(refMOF.voidFraction, 2):\n",
    "                    if sorted(refMOF.uniqueAtomNames) == sorted(mof.uniqueAtomNames):\n",
    "                        #if not foundIdentical:\n",
    "                            identicalMOFs.append(mof)\n",
    "                            counterpartMOFs.append(refMOF.name)\n",
    "                            #foundIdentical = True\n",
    "        refinedMOFs.append(mof)\n",
    "        table.append([])\n",
    "        table[refinedCount].append(mof.name)\n",
    "        table[refinedCount].append(mof.uniqueAtomNames)\n",
    "        table[refinedCount].append(mof.UCsize)\n",
    "        table[refinedCount].append(mof.UCangle)\n",
    "        table[refinedCount].append(round(mof.voidFraction, 2))\n",
    "        table[refinedCount].append(mof.packingFactor)\n",
    "        refinedCount += 1\n",
    "#del MOFs\n",
    "        \n",
    "from tabulate import tabulate\n",
    "\n",
    "headers = [\"MOF Name\", \"Atoms\", \"UCsize\", \"UCangle\", \"VF\", \"Packing\"]\n",
    "print(tabulate(table, headers))"
   ]
  },
  {
   "cell_type": "code",
   "execution_count": 5,
   "metadata": {
    "collapsed": false
   },
   "outputs": [
    {
     "name": "stdout",
     "output_type": "stream",
     "text": [
      "-----------------------------------------------------\n",
      "Refined MOFs: 2 Identical MOFs: 0\n",
      "Non-identical MOFs: 2\n",
      "-----------\n",
      "Non-identical MOF count: 2\n",
      "COF-5\n",
      "XEBHOC\n"
     ]
    }
   ],
   "source": [
    "for mof, cmof in zip(identicalMOFs, counterpartMOFs):\n",
    "    print(mof.name +'\\t' + cmof)\n",
    "\n",
    "print('-----------------------------------------------------')\n",
    "print('Refined MOFs: ' + str(len(refinedMOFs)) + ' Identical MOFs: ' + str(len(identicalMOFs)))\n",
    "print('Non-identical MOFs: ' + str(len(refinedMOFs) - len(identicalMOFs)))\n",
    "\n",
    "nonidenticalMOFs = []\n",
    "discardMOFs = []\n",
    "\n",
    "   \n",
    "for refMOF in refinedMOFs:\n",
    "    if refMOF.name not in list(counterpartMOFs):\n",
    "        nonidenticalMOFs.append(refMOF)\n",
    "\n",
    "print('-----------')\n",
    "print('Non-identical MOF count: ' + str(len(nonidenticalMOFs)))\n",
    "for nonMOF in nonidenticalMOFs:\n",
    "    print(nonMOF.name)\n",
    "    \n",
    "refinedMOFs = []\n",
    "refinedMOFs = nonidenticalMOFs"
   ]
  },
  {
   "cell_type": "code",
   "execution_count": 6,
   "metadata": {
    "collapsed": false
   },
   "outputs": [
    {
     "name": "stdout",
     "output_type": "stream",
     "text": [
      "MOF Name      Atoms                         Average Energy Limit\n",
      "------------  --------------------------  ----------------------\n",
      "ABAVIJ_clean  ['O', 'H', 'C', 'B']                   4.13725e+11\n",
      "ABAVOP_clean  ['O', 'Cu', 'H', 'C', 'N']             4.48686e+11\n",
      "COF-5.js is exported\n",
      "COF-5+COF-5_eMap.js is exported\n",
      "baseCOF-5.js is exported\n",
      "XEBHOC.js is exported\n",
      "COF-5+XEBHOC_eMap.js is exported\n",
      "baseCOF-5.js is exported\n",
      "MOF Name      Atoms                         Average Energy Limit\n",
      "------------  --------------------------  ----------------------\n",
      "ABAVIJ_clean  ['O', 'H', 'C', 'B']                   2.06283e+12\n",
      "ABAVOP_clean  ['O', 'Cu', 'H', 'C', 'N']             2.23629e+12\n",
      "XEBHOC.js is exported\n",
      "XEBHOC+XEBHOC_eMap.js is exported\n",
      "baseXEBHOC.js is exported\n"
     ]
    }
   ],
   "source": [
    "# Creates atom list for non-repeating atoms from a list of MOF classes\n",
    "atomList = getUniqueAtomList(refinedMOFs)\n",
    "\n",
    "# Creates atom list required in the energy map of a combination of MOFs\n",
    "eMapAtomList = getEnergyMapAtomList(refinedMOFs, atomList)\n",
    "\n",
    "# Directory and format to export energy map and MOF structure files\n",
    "exportFolder = \"C:\\\\Kutay\\\\IPMOF_Input\"\n",
    "exportFormat = \".js\"\n",
    "\n",
    "for MOFindex, mof in enumerate(refinedMOFs):  \n",
    "           \n",
    "    # Create export directory for the base MOF and create folder\n",
    "    exportMOFfolder = os.path.join(exportFolder, mof.name)\n",
    "    os.mkdir(exportMOFfolder)\n",
    "    \n",
    "    # --------------------- Calculate Energy Map -------------------\n",
    "    # For each MOF energy map is calculated with an atom list that consists of all the unique atoms \n",
    "    # for a given list of MOFs\n",
    "    eMap = energyMap(mof, atomList, mof.cutOff, 1)\n",
    "    \n",
    "    avgEnergyLimits = calculateEnergyLimits(MOFindex, refinedMOFs, MOFlist, eMapAtomList, eMap)\n",
    "    \n",
    "    for MOFindex2, mof2 in enumerate(refinedMOFs):\n",
    "        \n",
    "        if MOFindex2 >= MOFindex:        \n",
    "            # Create export directory for the mobile MOF and create folder\n",
    "            exportMOFfolder2 = os.path.join(exportMOFfolder, mof2.name)\n",
    "            os.mkdir(exportMOFfolder2)\n",
    "\n",
    "            # Create export directory for mobile MOF\n",
    "            exportDir_MOF = os.path.join(exportMOFfolder2, mof2.name + exportFormat)\n",
    "            exportMOFjs(mof2, exportDir_MOF)\n",
    "            print(exportDir_MOF.split(\"\\\\\")[-1] + ' is exported')\n",
    "\n",
    "            # Create export directory for energy map\n",
    "            exportDir_eMap = os.path.join(exportMOFfolder2, mof.name + '+' + mof2.name + '_eMap' + exportFormat)\n",
    "            exportUniqueEnergyMapjs(eMap, avgEnergyLimits[MOFindex2], eMapAtomList, MOFindex2, exportDir_eMap)\n",
    "            print(exportDir_eMap.split(\"\\\\\")[-1] + ' is exported')\n",
    "\n",
    "            # Export base MOF structure\n",
    "            exportDir_baseMOF = os.path.join(exportMOFfolder2, 'base' + mof.name + exportFormat)\n",
    "            exportBaseMOFjs(refinedMOFs[MOFindex], exportDir_baseMOF)\n",
    "            print(exportDir_baseMOF.split(\"\\\\\")[-1] + ' is exported')"
   ]
  },
  {
   "cell_type": "code",
   "execution_count": 7,
   "metadata": {
    "collapsed": false
   },
   "outputs": [
    {
     "data": {
      "text/plain": [
       "424"
      ]
     },
     "execution_count": 7,
     "metadata": {},
     "output_type": "execute_result"
    }
   ],
   "source": [
    "# Calculate Energy Map\n",
    "# eMap = energyMap(MOF2, atomList, cutOff, 1)\n",
    "\n",
    "#plotEnergyMap(eMap, 90, 0)\n",
    "#plotPackedCell(MOF2.packedCoor, 90, 0)\n",
    "\n",
    "# Create export directory for the energy map\n",
    "#MOFname = MOFlist[MOFselection].split('.')[0]\n",
    "#MOFname = 'MOFX'\n",
    "#exportFolder = \"C:\\\\Users\\\\kutay\\\\iPython\\\\IPMOF\\\\multipleMOF\"\n",
    "#exportFormat = \".js\"\n",
    "#exportDir_eMap = os.path.join(exportFolder, MOFname + '_eMap' + exportFormat)\n",
    "#exportDir_MOF = os.path.join(exportFolder, MOFname + exportFormat)\n",
    "#print(exportDir_eMap)\n",
    "#print(exportDir_MOF)\n",
    "\n",
    "#eMapDir = \"C:\\\\Users\\\\kutay\\\\iPython\\\\IPMOF\\\\eMap.js\"\n",
    "#exportEnergyMapjs(eMap, atomList, exportDir_eMap)\n",
    "\n",
    "#MOFexportDir = \"C:\\\\Users\\\\kutay\\\\iPython\\\\IPMOF\\\\MOF.js\"\n",
    "#exportMOFjs(MOF2, exportDir_MOF)\n",
    "\n",
    "len(MOFs[6].atomCoor)"
   ]
  },
  {
   "cell_type": "code",
   "execution_count": 6,
   "metadata": {
    "collapsed": false
   },
   "outputs": [
    {
     "name": "stdout",
     "output_type": "stream",
     "text": [
      "Populating the interactive namespace from numpy and matplotlib\n"
     ]
    },
    {
     "data": {
      "image/png": "[encoded data removed]",
      "text/plain": [
       "<matplotlib.figure.Figure at 0x8c13570>"
      ]
     },
     "metadata": {},
     "output_type": "display_data"
    }
   ],
   "source": [
    "%pylab inline\n",
    "plotXYZ(UCedges,0,0)"
   ]
  },
  {
   "cell_type": "code",
   "execution_count": 33,
   "metadata": {
    "collapsed": false
   },
   "outputs": [
    {
     "name": "stdout",
     "output_type": "stream",
     "text": [
      "[-4.166666666666666, 1.3124999999999998, 4.25]\n",
      "[0.8333333333333339, 0.3124999999999998, 0.25]\n"
     ]
    }
   ],
   "source": [
    "import math\n",
    "coor = [-25, 21, 34]\n",
    "UCsize = [6, 16, 8]\n",
    "UCangle = [90, 90, 90]\n",
    "\n",
    "\n",
    "def car2frac(coor, UCsize, UCangle, UCV):\n",
    "    \n",
    "    alp = UCangle[0] / 180 * math.pi\n",
    "    bet = UCangle[1] / 180 * math.pi\n",
    "    gam = UCangle[2] / 180 * math.pi\n",
    "    \n",
    "    a = UCsize[0]\n",
    "    b = UCsize[1]\n",
    "    c = UCsize[2]\n",
    "    \n",
    "    x = coor[0]\n",
    "    y = coor[1]\n",
    "    z = coor[2]\n",
    "    \n",
    "    v = math.sqrt(1 - math.cos(alp)**2 - math.cos(bet)**2 - math.cos(gam)**2 + 2*math.cos(alp)*math.cos(bet)*math.cos(gam))\n",
    "    \n",
    "    xfrac = 1/a*x \n",
    "    xfrac += - math.cos(gam)/(a*math.sin(gam))*y \n",
    "    xfrac += (math.cos(alp)*math.cos(gam)-math.cos(bet))/(a*v*math.sin(gam))*z\n",
    "    \n",
    "    yfrac = 0\n",
    "    yfrac += 1/(b*math.sin(gam))*y\n",
    "    yfrac += (math.cos(bet)*math.cos(gam)-math.cos(alp))/(b*v*math.sin(gam))*z\n",
    "    \n",
    "    zfrac = 0\n",
    "    zfrac += 0\n",
    "    zfrac += math.sin(gam)/(c*v)*z\n",
    "    \n",
    "    return [xfrac, yfrac, zfrac]\n",
    "\n",
    "def fracPBC(fracCoor):\n",
    "    pbcCoor = []\n",
    "    for coor in fracCoor:\n",
    "        pbcCoor.append(coor - math.floor(coor))\n",
    "    return pbcCoor\n",
    "\n",
    "\n",
    "fracCoor = car2frac(coor, UCsize, UCangle, ucv)\n",
    "print(fracCoor)\n",
    "pbcCoor = fracPBC(fracCoor)\n",
    "print(pbcCoor)"
   ]
  },
  {
   "cell_type": "code",
   "execution_count": 23,
   "metadata": {
    "collapsed": false
   },
   "outputs": [
    {
     "data": {
      "text/plain": [
       "False"
      ]
     },
     "execution_count": 23,
     "metadata": {},
     "output_type": "execute_result"
    }
   ],
   "source": [
    "a = ['sd', 'sdsdds', 'dsdfgg']\n",
    "\n",
    "'sd' not in a"
   ]
  },
  {
   "cell_type": "code",
   "execution_count": 9,
   "metadata": {
    "collapsed": false
   },
   "outputs": [
    {
     "data": {
      "text/plain": [
       "[[0, 0, 0],\n",
       " [12.8597, 0, 0],\n",
       " [9.258758427933692e-16, 15.1207, 0],\n",
       " [1.4399397064374577e-15, 1.439939706437458e-15, 23.516],\n",
       " [12.859700000000002, 15.1207, 0],\n",
       " [2.365815549230827e-15, 15.120700000000001, 23.516],\n",
       " [12.859700000000002, 1.439939706437458e-15, 23.516],\n",
       " [12.859700000000004, 15.120700000000001, 23.516]]"
      ]
     },
     "execution_count": 9,
     "metadata": {},
     "output_type": "execute_result"
    }
   ],
   "source": [
    "refinedMOFs[8].edgePoints"
   ]
  },
  {
   "cell_type": "code",
   "execution_count": 11,
   "metadata": {
    "collapsed": false
   },
   "outputs": [
    {
     "data": {
      "text/plain": [
       "[[0, 0, 0],\n",
       " [18.1424, 0, 0],\n",
       " [9.071200000000001, 15.711779285618798, 0],\n",
       " [9.071200000000001, 5.237259761872932, 14.813207569823174],\n",
       " [27.2136, 15.711779285618798, 0],\n",
       " [18.142400000000002, 20.94903904749173, 14.813207569823174],\n",
       " [27.2136, 5.237259761872932, 14.813207569823174],\n",
       " [36.284800000000004, 20.94903904749173, 14.813207569823174]]"
      ]
     },
     "execution_count": 11,
     "metadata": {},
     "output_type": "execute_result"
    }
   ],
   "source": [
    "refinedMOFs[10].edgePoints"
   ]
  },
  {
   "cell_type": "code",
   "execution_count": null,
   "metadata": {
    "collapsed": true
   },
   "outputs": [],
   "source": []
  }
 ],
 "metadata": {
  "kernelspec": {
   "display_name": "Python 3",
   "language": "python",
   "name": "python3"
  },
  "language_info": {
   "codemirror_mode": {
    "name": "ipython",
    "version": 3
   },
   "file_extension": ".py",
   "mimetype": "text/x-python",
   "name": "python",
   "nbconvert_exporter": "python",
   "pygments_lexer": "ipython3",
   "version": "3.5.1"
  }
 },
 "nbformat": 4,
 "nbformat_minor": 0
}
