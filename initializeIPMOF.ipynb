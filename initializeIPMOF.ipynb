{
 "cells": [
  {
   "cell_type": "code",
   "execution_count": 1,
   "metadata": {
    "collapsed": false
   },
   "outputs": [],
   "source": [
    "import math\n",
    "from energyMapFunctions import *\n",
    "import os\n",
    "\n",
    "fileDir = 'C:\\\\Users\\\\kutay\\\\iPython\\\\IPMOF\\\\multipleMOF'\n",
    "fileFormat = \".mol2\"\n",
    "MOFlist = generateMOFlist(fileDir, fileFormat)       \n",
    "        \n",
    "MOF1 = MOF()\n",
    "MOF1.dir = fileDir + '\\\\' + MOFlist[1]\n",
    "MOF1.file = open(MOF1.dir, 'r')\n",
    "MOF1.initialize()\n",
    "\n",
    "\n",
    "MOF2 = MOF()\n",
    "MOF2.dir = fileDir + '\\\\' + MOFlist[3]\n",
    "MOF2.file = open(MOF2.dir, 'r')\n",
    "MOF2.initialize()\n",
    "\n",
    "\n",
    "cutOff = 13\n",
    "UCsize = MOF1.UCsize\n",
    "UCangle = MOF1.UCangle"
   ]
  },
  {
   "cell_type": "code",
   "execution_count": 2,
   "metadata": {
    "collapsed": false
   },
   "outputs": [],
   "source": [
    "#packingFactor = packing.factor(MOF1.UCsize, cutOff)\n",
    "packingFactor = [2,2,2]\n",
    "packingVectors, UCvectors = Packing.vectors(packingFactor, MOF1.UCsize, MOF1.UCangle)\n",
    "packedCoor = Packing.UC(packingVectors, packingFactor, UCvectors, MOF1.atomCoor)"
   ]
  },
  {
   "cell_type": "code",
   "execution_count": 3,
   "metadata": {
    "collapsed": false
   },
   "outputs": [
    {
     "name": "stdout",
     "output_type": "stream",
     "text": [
      "Populating the interactive namespace from numpy and matplotlib\n"
     ]
    },
    {
     "data": {
      "image/png": "[encoded data removed]",
      "text/plain": [
       "<matplotlib.figure.Figure at 0x492e2d0>"
      ]
     },
     "metadata": {},
     "output_type": "display_data"
    }
   ],
   "source": [
    "### Plot Unit Cell - Make this a function\n",
    "%pylab inline\n",
    "plotPackedCell(packedCoor, 0, 0)"
   ]
  },
  {
   "cell_type": "code",
   "execution_count": 36,
   "metadata": {
    "collapsed": false
   },
   "outputs": [],
   "source": [
    "exportDir = 'C:\\\\Users\\\\kutay\\\\iPython\\\\IPMOF\\\\multipleMOF\\\\beanExtended.xyz'\n",
    "    \n",
    "exportXYZ(packedCoor, MOF1.atomName, exportDir)"
   ]
  },
  {
   "cell_type": "code",
   "execution_count": 29,
   "metadata": {
    "collapsed": false
   },
   "outputs": [
    {
     "data": {
      "text/plain": [
       "1134"
      ]
     },
     "execution_count": 29,
     "metadata": {},
     "output_type": "execute_result"
    }
   ],
   "source": []
  },
  {
   "cell_type": "code",
   "execution_count": 30,
   "metadata": {
    "collapsed": false
   },
   "outputs": [
    {
     "data": {
      "text/plain": [
       "['Cd2HC9NO8-Extended.mol2',\n",
       " 'Cd2HC9NO8.mol2',\n",
       " 'Zn4H12C24O13-Extended.mol2',\n",
       " 'Zn4H12C24O13.mol2']"
      ]
     },
     "execution_count": 30,
     "metadata": {},
     "output_type": "execute_result"
    }
   ],
   "source": [
    "MOFlist"
   ]
  },
  {
   "cell_type": "code",
   "execution_count": null,
   "metadata": {
    "collapsed": true
   },
   "outputs": [],
   "source": []
  }
 ],
 "metadata": {
  "kernelspec": {
   "display_name": "Python 3",
   "language": "python",
   "name": "python3"
  },
  "language_info": {
   "codemirror_mode": {
    "name": "ipython",
    "version": 3
   },
   "file_extension": ".py",
   "mimetype": "text/x-python",
   "name": "python",
   "nbconvert_exporter": "python",
   "pygments_lexer": "ipython3",
   "version": "3.5.1"
  }
 },
 "nbformat": 4,
 "nbformat_minor": 0
}
