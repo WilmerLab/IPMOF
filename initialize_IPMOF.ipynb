{
 "cells": [
  {
   "cell_type": "markdown",
   "metadata": {
    "collapsed": true
   },
   "source": [
    "## Initialize Input Files for IPMOF (initialize_IPMOF.py)\n",
    "\n",
    "### Initialize necessary information\n",
    "\n",
    "1. Read FF_Parameters excel file to get force field parameters for atoms\n",
    "2. Initialize force field selection, cutOff radius and grid size for energy map\n",
    "\n",
    "### Create input files for MOF files in a given directory\n",
    "1. Reaf MOF files in \".mol2\" format from given directory and create a list\n",
    "2. Choose the first MOF1 as the stationary (map) MOF, initialize its variables, and calculate packed coordinates\n",
    "3. For all the MOFs in the list:\n",
    "4. Initialize MOF2 variables for the mobile MOF\n",
    "5. Calculate energy map\n",
    "6. Export energy map -> .json\n",
    "7. Export MOF2 structure information -> .json"
   ]
  },
  {
   "cell_type": "code",
   "execution_count": 1,
   "metadata": {
    "collapsed": false
   },
   "outputs": [
    {
     "name": "stdout",
     "output_type": "stream",
     "text": [
      "MOF Name    Atoms                       UCsize                       UCangle               VF  Packing\n",
      "----------  --------------------------  ---------------------------  ------------------  ----  ---------\n",
      "CUYWUP      ['H', 'O', 'C', 'Cu']       [10.6753, 17.844, 27.353]    [90.0, 90.0, 90.0]  0.95  [3, 3, 3]\n",
      "DEYVUA      ['O', 'Zn', 'H', 'C', 'N']  [13.4641, 13.4641, 23.3751]  [90.0, 90.0, 90.0]  0.95  [3, 3, 3]\n",
      "GUNFAW01    ['C', 'O', 'Cr', 'Mn']      [15.4901, 15.4901, 15.4901]  [90.0, 90.0, 90.0]  0.95  [3, 3, 3]\n",
      "HIHNUJ      ['H', 'C', 'O', 'In']       [11.2184, 17.9218, 17.9218]  [90.0, 90.0, 90.0]  0.95  [3, 3, 3]\n",
      "IRMOF-7     ['H', 'C', 'O', 'Zn']       [12.9144, 12.9144, 12.9144]  [90.0, 90.0, 90.0]  0.95  [3, 3, 3]\n",
      "OFODAP      ['O', 'Cd', 'H', 'C', 'N']  [12.8597, 15.1207, 23.516]   [90.0, 90.0, 90.0]  0.95  [3, 3, 3]\n"
     ]
    }
   ],
   "source": [
    "import math\n",
    "import os\n",
    "os.chdir('C:\\\\Kutay\\\\IPMOF')\n",
    "from energyMapFunctions import *\n",
    "\n",
    "excelFileDir = 'C:\\\\Users\\\\kutay\\\\iPython\\\\IPMOF\\\\FF_Parameters.xlsx'\n",
    "UFF = readFFparameters(excelFileDir, 'UFF')\n",
    "\n",
    "# Read radius list from the excel file\n",
    "radiusList = readAtomRadius()\n",
    "\n",
    "# Generate MOF list\n",
    "fileDir = 'C:\\\\Users\\kutay\\\\Desktop\\\\REFmol2'\n",
    "fileFormat = \".mol2\"\n",
    "MOFlist = generateMOFlist(fileDir, fileFormat)\n",
    "MOFnames = []\n",
    "\n",
    "#cutOff = 13\n",
    "orthoCount = 0\n",
    "VFtotal = 0\n",
    "MOFs = []\n",
    "for MOFindex, mof in enumerate(MOFlist):\n",
    "    newMOF = MOF()\n",
    "    newMOF.dir = fileDir + '\\\\' + mof\n",
    "    newMOF.file = open(newMOF.dir, 'r')\n",
    "    newMOF.initialize()\n",
    "    \n",
    "    # Calculate void fraction\n",
    "    atomVolumes = atomicVolume(newMOF, radiusList)\n",
    "    UnitCellVolume = ucv(newMOF)\n",
    "    newMOF.atomDensity = atomVolumes / UnitCellVolume\n",
    "    newMOF.voidFraction = 1 - atomVolumes / UnitCellVolume\n",
    " \n",
    "    # Calculate packing for base MOF\n",
    "    newMOF.cutOff = [newMOF.UCsize[0]/2, newMOF.UCsize[1]/2, newMOF.UCsize[2]/2]\n",
    "    #cutOff = [13, 13, 13]\n",
    "    packingFactor = Packing.factor(newMOF.UCsize, newMOF.cutOff)\n",
    "    newMOF.packingFactor = packingFactor\n",
    "    translationVectors, UCvectors = Packing.vectors(packingFactor, newMOF.UCsize, newMOF.UCangle)\n",
    "    newMOF.packedCoor = Packing.UC(translationVectors, packingFactor, UCvectors, newMOF.atomCoor)\n",
    "    newMOF.edgePoints = Packing.edgePoints(UCvectors)\n",
    "    \n",
    "    if orthorhombic(newMOF):\n",
    "        MOFname = MOFlist[MOFindex].split('.')[0]\n",
    "        MOFname = MOFname.split('_')[0]\n",
    "        newMOF.name = MOFname\n",
    "        MOFs.append(newMOF)\n",
    "        VFtotal += newMOF.voidFraction\n",
    "        orthoCount += 1 \n",
    "\n",
    "VFaverage = VFtotal / orthoCount\n",
    "\n",
    "refinedMOFs = []\n",
    "refinedCount = 0\n",
    "table = []\n",
    "for mof in MOFs:\n",
    "    if mof.voidFraction > (VFaverage *1.33):\n",
    "        mof.initializeFF(UFF)\n",
    "        refinedMOFs.append(mof)\n",
    "        table.append([])\n",
    "        table[refinedCount].append(mof.name)\n",
    "        table[refinedCount].append(mof.uniqueAtomNames)\n",
    "        table[refinedCount].append(mof.UCsize)\n",
    "        table[refinedCount].append(mof.UCangle)\n",
    "        table[refinedCount].append(round(mof.voidFraction, 2))\n",
    "        table[refinedCount].append(mof.packingFactor)\n",
    "        refinedCount += 1\n",
    "del MOFs\n",
    "        \n",
    "from tabulate import tabulate\n",
    "\n",
    "headers = [\"MOF Name\", \"Atoms\", \"UCsize\", \"UCangle\", \"VF\", \"Packing\"]\n",
    "print(tabulate(table, headers))"
   ]
  },
  {
   "cell_type": "code",
   "execution_count": 4,
   "metadata": {
    "collapsed": false
   },
   "outputs": [
    {
     "name": "stdout",
     "output_type": "stream",
     "text": [
      "MOF Name      Atoms                         Average Energy Limit\n",
      "------------  --------------------------  ----------------------\n",
      "ABAVIJ_clean  ['H', 'Cu', 'C', 'O']                  4.95567e+11\n",
      "ABAVOP_clean  ['N', 'Zn', 'H', 'C', 'O']             4.09941e+11\n",
      "ABEXIQ_clean  ['Cr', 'Mn', 'C', 'O']                 4.95567e+11\n",
      "ABEXOW_clean  ['In', 'H', 'C', 'O']                  4.95567e+11\n",
      "ABEXUC_clean  ['Zn', 'H', 'C', 'O']                  4.95567e+11\n",
      "ABEYAJ_clean  ['N', 'Cd', 'H', 'C', 'O']             4.09941e+11\n",
      "CUYWUP.js is exported\n",
      "CUYWUP+CUYWUP_eMap.js is exported\n",
      "DEYVUA.js is exported\n",
      "CUYWUP+DEYVUA_eMap.js is exported\n",
      "GUNFAW01.js is exported\n",
      "CUYWUP+GUNFAW01_eMap.js is exported\n",
      "HIHNUJ.js is exported\n",
      "CUYWUP+HIHNUJ_eMap.js is exported\n",
      "IRMOF-7.js is exported\n",
      "CUYWUP+IRMOF-7_eMap.js is exported\n",
      "OFODAP.js is exported\n",
      "CUYWUP+OFODAP_eMap.js is exported\n",
      "MOF Name      Atoms                         Average Energy Limit\n",
      "------------  --------------------------  ----------------------\n",
      "ABAVIJ_clean  ['H', 'Cu', 'C', 'O']                  3.72789e+11\n",
      "ABAVOP_clean  ['N', 'Zn', 'H', 'C', 'O']             3.09388e+11\n",
      "ABEXIQ_clean  ['Cr', 'Mn', 'C', 'O']                 3.72789e+11\n",
      "ABEXOW_clean  ['In', 'H', 'C', 'O']                  3.72789e+11\n",
      "ABEXUC_clean  ['Zn', 'H', 'C', 'O']                  3.72789e+11\n",
      "ABEYAJ_clean  ['N', 'Cd', 'H', 'C', 'O']             3.09388e+11\n",
      "CUYWUP.js is exported\n",
      "DEYVUA+CUYWUP_eMap.js is exported\n",
      "DEYVUA.js is exported\n",
      "DEYVUA+DEYVUA_eMap.js is exported\n",
      "GUNFAW01.js is exported\n",
      "DEYVUA+GUNFAW01_eMap.js is exported\n",
      "HIHNUJ.js is exported\n",
      "DEYVUA+HIHNUJ_eMap.js is exported\n",
      "IRMOF-7.js is exported\n",
      "DEYVUA+IRMOF-7_eMap.js is exported\n",
      "OFODAP.js is exported\n",
      "DEYVUA+OFODAP_eMap.js is exported\n",
      "MOF Name      Atoms                         Average Energy Limit\n",
      "------------  --------------------------  ----------------------\n",
      "ABAVIJ_clean  ['H', 'Cu', 'C', 'O']                  3.40953e+11\n",
      "ABAVOP_clean  ['N', 'Zn', 'H', 'C', 'O']             2.83759e+11\n",
      "ABEXIQ_clean  ['Cr', 'Mn', 'C', 'O']                 3.40953e+11\n",
      "ABEXOW_clean  ['In', 'H', 'C', 'O']                  3.40953e+11\n",
      "ABEXUC_clean  ['Zn', 'H', 'C', 'O']                  3.40953e+11\n",
      "ABEYAJ_clean  ['N', 'Cd', 'H', 'C', 'O']             2.83759e+11\n",
      "CUYWUP.js is exported\n",
      "GUNFAW01+CUYWUP_eMap.js is exported\n",
      "DEYVUA.js is exported\n",
      "GUNFAW01+DEYVUA_eMap.js is exported\n",
      "GUNFAW01.js is exported\n",
      "GUNFAW01+GUNFAW01_eMap.js is exported\n",
      "HIHNUJ.js is exported\n",
      "GUNFAW01+HIHNUJ_eMap.js is exported\n",
      "IRMOF-7.js is exported\n",
      "GUNFAW01+IRMOF-7_eMap.js is exported\n",
      "OFODAP.js is exported\n",
      "GUNFAW01+OFODAP_eMap.js is exported\n",
      "MOF Name      Atoms                         Average Energy Limit\n",
      "------------  --------------------------  ----------------------\n",
      "ABAVIJ_clean  ['H', 'Cu', 'C', 'O']                  2.79763e+11\n",
      "ABAVOP_clean  ['N', 'Zn', 'H', 'C', 'O']             2.32322e+11\n",
      "ABEXIQ_clean  ['Cr', 'Mn', 'C', 'O']                 2.79763e+11\n",
      "ABEXOW_clean  ['In', 'H', 'C', 'O']                  2.79763e+11\n",
      "ABEXUC_clean  ['Zn', 'H', 'C', 'O']                  2.79763e+11\n",
      "ABEYAJ_clean  ['N', 'Cd', 'H', 'C', 'O']             2.32322e+11\n",
      "CUYWUP.js is exported\n",
      "HIHNUJ+CUYWUP_eMap.js is exported\n",
      "DEYVUA.js is exported\n",
      "HIHNUJ+DEYVUA_eMap.js is exported\n",
      "GUNFAW01.js is exported\n",
      "HIHNUJ+GUNFAW01_eMap.js is exported\n",
      "HIHNUJ.js is exported\n",
      "HIHNUJ+HIHNUJ_eMap.js is exported\n",
      "IRMOF-7.js is exported\n",
      "HIHNUJ+IRMOF-7_eMap.js is exported\n",
      "OFODAP.js is exported\n",
      "HIHNUJ+OFODAP_eMap.js is exported\n",
      "MOF Name      Atoms                         Average Energy Limit\n",
      "------------  --------------------------  ----------------------\n",
      "ABAVIJ_clean  ['H', 'Cu', 'C', 'O']                  7.30008e+10\n",
      "ABAVOP_clean  ['N', 'Zn', 'H', 'C', 'O']             6.05875e+10\n",
      "ABEXIQ_clean  ['Cr', 'Mn', 'C', 'O']                 7.30008e+10\n",
      "ABEXOW_clean  ['In', 'H', 'C', 'O']                  7.30008e+10\n",
      "ABEXUC_clean  ['Zn', 'H', 'C', 'O']                  7.30008e+10\n",
      "ABEYAJ_clean  ['N', 'Cd', 'H', 'C', 'O']             6.05875e+10\n",
      "CUYWUP.js is exported\n",
      "IRMOF-7+CUYWUP_eMap.js is exported\n",
      "DEYVUA.js is exported\n",
      "IRMOF-7+DEYVUA_eMap.js is exported\n",
      "GUNFAW01.js is exported\n",
      "IRMOF-7+GUNFAW01_eMap.js is exported\n",
      "HIHNUJ.js is exported\n",
      "IRMOF-7+HIHNUJ_eMap.js is exported\n",
      "IRMOF-7.js is exported\n",
      "IRMOF-7+IRMOF-7_eMap.js is exported\n",
      "OFODAP.js is exported\n",
      "IRMOF-7+OFODAP_eMap.js is exported\n",
      "MOF Name      Atoms                         Average Energy Limit\n",
      "------------  --------------------------  ----------------------\n",
      "ABAVIJ_clean  ['H', 'Cu', 'C', 'O']                  8.64487e+11\n",
      "ABAVOP_clean  ['N', 'Zn', 'H', 'C', 'O']             7.17809e+11\n",
      "ABEXIQ_clean  ['Cr', 'Mn', 'C', 'O']                 8.64487e+11\n",
      "ABEXOW_clean  ['In', 'H', 'C', 'O']                  8.64487e+11\n",
      "ABEXUC_clean  ['Zn', 'H', 'C', 'O']                  8.64487e+11\n",
      "ABEYAJ_clean  ['N', 'Cd', 'H', 'C', 'O']             7.17809e+11\n",
      "CUYWUP.js is exported\n",
      "OFODAP+CUYWUP_eMap.js is exported\n",
      "DEYVUA.js is exported\n",
      "OFODAP+DEYVUA_eMap.js is exported\n",
      "GUNFAW01.js is exported\n",
      "OFODAP+GUNFAW01_eMap.js is exported\n",
      "HIHNUJ.js is exported\n",
      "OFODAP+HIHNUJ_eMap.js is exported\n",
      "IRMOF-7.js is exported\n",
      "OFODAP+IRMOF-7_eMap.js is exported\n",
      "OFODAP.js is exported\n",
      "OFODAP+OFODAP_eMap.js is exported\n"
     ]
    }
   ],
   "source": [
    "# Creates atom list for non-repeating atoms from a list of MOF classes\n",
    "atomList = getUniqueAtomList(refinedMOFs)\n",
    "\n",
    "# Creates atom list required in the energy map of a combination of MOFs\n",
    "eMapAtomList = getEnergyMapAtomList(refinedMOFs, atomList)\n",
    "\n",
    "# Directory and format to export energy map and MOF structure files\n",
    "exportFolder = \"C:\\\\Users\\\\kutay\\\\iPython\\\\IPMOF\\\\initializeIPMOF\"\n",
    "exportFormat = \".js\"\n",
    "\n",
    "for MOFindex, mof in enumerate(refinedMOFs):  \n",
    "           \n",
    "    # Create export directory for the base MOF and create folder\n",
    "    exportMOFfolder = os.path.join(exportFolder, mof.name)\n",
    "    os.mkdir(exportMOFfolder)\n",
    "    \n",
    "    # --------------------- Calculate Energy Map -------------------\n",
    "    # For each MOF energy map is calculated with an atom list that consists of all the unique atoms \n",
    "    # for a given list of MOFs\n",
    "    eMap = energyMap(mof, atomList, mof.cutOff, 1)\n",
    "    \n",
    "    avgEnergyLimits = calculateEnergyLimits(MOFindex, refinedMOFs, MOFlist, eMapAtomList, eMap)\n",
    "    \n",
    "    for MOFindex2, mof2 in enumerate(refinedMOFs):\n",
    "               \n",
    "        # Create export directory for the mobile MOF and create folder\n",
    "        exportMOFfolder2 = os.path.join(exportMOFfolder, mof2.name)\n",
    "        os.mkdir(exportMOFfolder2)\n",
    "        \n",
    "        # Create export directory for mobile MOF\n",
    "        exportDir_MOF = os.path.join(exportMOFfolder2, mof2.name + exportFormat)\n",
    "        exportMOFjs(mof2, exportDir_MOF)\n",
    "        print(exportDir_MOF.split(\"\\\\\")[-1] + ' is exported')\n",
    "             \n",
    "        # Create export directory for energy map\n",
    "        exportDir_eMap = os.path.join(exportMOFfolder2, mof.name + '+' + mof2.name + '_eMap' + exportFormat)\n",
    "        exportUniqueEnergyMapjs(eMap, avgEnergyLimits[MOFindex2], eMapAtomList, MOFindex2, exportDir_eMap)\n",
    "        print(exportDir_eMap.split(\"\\\\\")[-1] + ' is exported')\n",
    "        \n",
    "        # Export base MOF structure\n",
    "        exportDir_baseMOF = os.path.join(exportMOFfolder2, mof.name + exportFormat)\n",
    "        exportBaseMOFjs(refinedMOFs[MOFindex], exportDir_baseMOF)"
   ]
  },
  {
   "cell_type": "code",
   "execution_count": 7,
   "metadata": {
    "collapsed": false
   },
   "outputs": [
    {
     "data": {
      "text/plain": [
       "424"
      ]
     },
     "execution_count": 7,
     "metadata": {},
     "output_type": "execute_result"
    }
   ],
   "source": [
    "# Calculate Energy Map\n",
    "# eMap = energyMap(MOF2, atomList, cutOff, 1)\n",
    "\n",
    "#plotEnergyMap(eMap, 90, 0)\n",
    "#plotPackedCell(MOF2.packedCoor, 90, 0)\n",
    "\n",
    "# Create export directory for the energy map\n",
    "#MOFname = MOFlist[MOFselection].split('.')[0]\n",
    "#MOFname = 'MOFX'\n",
    "#exportFolder = \"C:\\\\Users\\\\kutay\\\\iPython\\\\IPMOF\\\\multipleMOF\"\n",
    "#exportFormat = \".js\"\n",
    "#exportDir_eMap = os.path.join(exportFolder, MOFname + '_eMap' + exportFormat)\n",
    "#exportDir_MOF = os.path.join(exportFolder, MOFname + exportFormat)\n",
    "#print(exportDir_eMap)\n",
    "#print(exportDir_MOF)\n",
    "\n",
    "#eMapDir = \"C:\\\\Users\\\\kutay\\\\iPython\\\\IPMOF\\\\eMap.js\"\n",
    "#exportEnergyMapjs(eMap, atomList, exportDir_eMap)\n",
    "\n",
    "#MOFexportDir = \"C:\\\\Users\\\\kutay\\\\iPython\\\\IPMOF\\\\MOF.js\"\n",
    "#exportMOFjs(MOF2, exportDir_MOF)\n",
    "\n",
    "len(MOFs[6].atomCoor)"
   ]
  },
  {
   "cell_type": "code",
   "execution_count": 65,
   "metadata": {
    "collapsed": false
   },
   "outputs": [],
   "source": [
    "def findREFcodes(MOFnames):\n",
    "    import os \n",
    "\n",
    "    cifDirectory = \"C:\\\\Users\\\\kutay\\\\Desktop\\\\final_cifs\"\n",
    "    cifList = os.listdir(cifDirectory)\n",
    "    os.chdir(cifDirectory)\n",
    "\n",
    "    MOFformula = []\n",
    "    for cifIndex, cifDir in enumerate(cifList):\n",
    "        cifFile = open(cifDir, 'r')\n",
    "        cifFile.readline()\n",
    "        formulaLine = cifFile.readline()\n",
    "        formula = formulaLine.split('_')[-1]\n",
    "        formula = formula[0:len(formula)-1]\n",
    "        MOFformula.append(formula)\n",
    "        cifFile.close()\n",
    "        cifList[cifIndex] = cifList[cifIndex].split('_')[0]\n",
    "\n",
    "    REFcodes = [[] for i in range(len(MOFnames))]\n",
    "    for cifIndex, formula in enumerate(MOFformula):\n",
    "        for MOFindex, MOFname in enumerate(MOFnames):\n",
    "            if formula in MOFname:\n",
    "                REFcodes[MOFindex].append(cifList[cifIndex])\n",
    "                \n",
    "    return REFcodes"
   ]
  },
  {
   "cell_type": "code",
   "execution_count": 66,
   "metadata": {
    "collapsed": false
   },
   "outputs": [],
   "source": [
    "REFcodes = findREFcodes(MOFnames)"
   ]
  },
  {
   "cell_type": "code",
   "execution_count": 4,
   "metadata": {
    "collapsed": false
   },
   "outputs": [
    {
     "data": {
      "text/plain": [
       "[[9.363, 0, 0],\n",
       " [-0.5266867638239668, 9.348174690965752, 0],\n",
       " [-0.5266867638239668, -0.5571961681359049, 9.331554130102193]]"
      ]
     },
     "execution_count": 4,
     "metadata": {},
     "output_type": "execute_result"
    }
   ],
   "source": [
    "UCvectors"
   ]
  },
  {
   "cell_type": "code",
   "execution_count": 15,
   "metadata": {
    "collapsed": false
   },
   "outputs": [
    {
     "data": {
      "text/plain": [
       "[[0, 0, 0],\n",
       " [6.5647, 0, 0],\n",
       " [-1.4670218892460913, 6.398682119504987, 0],\n",
       " [-1.9346261542700438, -2.428371802279931, 10.913965412860076],\n",
       " [5.097678110753909, 6.398682119504987, 0],\n",
       " [-3.4016480435161354, 3.970310317225056, 10.913965412860076],\n",
       " [4.630073845729957, -2.428371802279931, 8.979339258590032],\n",
       " [3.1630519564838657, 3.970310317225056, 10.913965412860076]]"
      ]
     },
     "execution_count": 15,
     "metadata": {},
     "output_type": "execute_result"
    }
   ],
   "source": [
    "MOFs[0].edgePoints"
   ]
  },
  {
   "cell_type": "code",
   "execution_count": 2,
   "metadata": {
    "collapsed": false
   },
   "outputs": [],
   "source": [
    "UCedges = Packing.edgePoints(UCvectors)"
   ]
  },
  {
   "cell_type": "code",
   "execution_count": 3,
   "metadata": {
    "collapsed": false
   },
   "outputs": [
    {
     "data": {
      "text/plain": [
       "[[0, 0, 0],\n",
       " [9.363, 0, 0],\n",
       " [-0.5266867638239668, 9.348174690965752, 0],\n",
       " [-0.5266867638239668, -0.5571961681359049, 9.331554130102193],\n",
       " [8.836313236176032, 9.348174690965752, 0],\n",
       " [-1.0533735276479337, 8.790978522829848, 9.331554130102193],\n",
       " [8.836313236176032, -0.5571961681359049, 8.804867366278225],\n",
       " [8.309626472352065, 8.790978522829848, 9.331554130102193]]"
      ]
     },
     "execution_count": 3,
     "metadata": {},
     "output_type": "execute_result"
    }
   ],
   "source": [
    "UCedges"
   ]
  },
  {
   "cell_type": "code",
   "execution_count": 6,
   "metadata": {
    "collapsed": false
   },
   "outputs": [
    {
     "name": "stdout",
     "output_type": "stream",
     "text": [
      "Populating the interactive namespace from numpy and matplotlib\n"
     ]
    },
    {
     "data": {
      "image/png": "[encoded data removed]",
      "text/plain": [
       "<matplotlib.figure.Figure at 0x8c13570>"
      ]
     },
     "metadata": {},
     "output_type": "display_data"
    }
   ],
   "source": [
    "%pylab inline\n",
    "plotXYZ(UCedges,0,0)"
   ]
  },
  {
   "cell_type": "code",
   "execution_count": 3,
   "metadata": {
    "collapsed": false
   },
   "outputs": [
    {
     "data": {
      "text/plain": [
       "[[0.9489, -1.7407, 9.5203],\n",
       " [2.7881, -0.7292, 5.3304],\n",
       " [0.2129, -1.9658, 9.1372],\n",
       " [2.0875, -1.04, 4.9386],\n",
       " [-0.9415, 1.7501, 4.0633],\n",
       " [-0.9964, 0.9824, 3.6802],\n",
       " [-1.4779, 4.1248, 2.6854],\n",
       " [3.3834, -1.7329, 8.1424],\n",
       " [-1.9491, 4.2543, 9.6119],\n",
       " [0.552, 5.4013, 4.0829],\n",
       " [-1.3248, 4.3508, 7.6856],\n",
       " [-0.373, 4.8038, 5.6698],\n",
       " [-2.4657, 4.0014, 7.1192],\n",
       " [-0.2169, 4.7361, 7.0122],\n",
       " [-1.4326, 4.3374, 5.0281],\n",
       " [5.5496, 0.265, 4.1549],\n",
       " [5.5041, 0.8952, 2.2286],\n",
       " [5.733, 1.9241, 0.2128],\n",
       " [5.4185, -0.295, 1.6622],\n",
       " [5.6321, 2.0611, 1.5552],\n",
       " [3.5805, -1.6412, 10.485],\n",
       " [4.174, 0.5309, 9.5399],\n",
       " [2.364, 3.0992, 5.6611],\n",
       " [3.0289, 3.2646, 4.3394],\n",
       " [4.1094, 3.8793, 5.7986],\n",
       " [3.0402, 3.3513, 5.195],\n",
       " [3.4598, 4.211, 0.2041],\n",
       " [3.8302, 6.0866, 0.3416],\n",
       " [-2.3011, 1.3405, 10.7874],\n",
       " [-2.4475, 0.5881, 10.3956],\n",
       " [1.5379, 2.4677, 9.7964],\n",
       " [1.6199, 2.498, 10.652]]"
      ]
     },
     "execution_count": 3,
     "metadata": {},
     "output_type": "execute_result"
    }
   ],
   "source": [
    "MOFs[0].atomCoor"
   ]
  },
  {
   "cell_type": "code",
   "execution_count": 7,
   "metadata": {
    "collapsed": false
   },
   "outputs": [],
   "source": [
    "sortedX = sorted(MOFs[0].atomCoor, key=lambda x: x[0], reverse=True)\n",
    "sortedY = sorted(MOFs[0].atomCoor, key=lambda y: y[1], reverse=True)\n",
    "sortedZ = sorted(MOFs[0].atomCoor, key=lambda z: z[2], reverse=True)"
   ]
  },
  {
   "cell_type": "code",
   "execution_count": 10,
   "metadata": {
    "collapsed": false
   },
   "outputs": [
    {
     "data": {
      "text/plain": [
       "[6.5647, 6.5647, 11.347]"
      ]
     },
     "execution_count": 10,
     "metadata": {},
     "output_type": "execute_result"
    }
   ],
   "source": [
    "MOFs[0].UCsize"
   ]
  },
  {
   "cell_type": "code",
   "execution_count": 14,
   "metadata": {
    "collapsed": false
   },
   "outputs": [
    {
     "data": {
      "text/plain": [
       "[5.733, 6.0866, 10.7874]"
      ]
     },
     "execution_count": 14,
     "metadata": {},
     "output_type": "execute_result"
    }
   ],
   "source": [
    "[sortedX[0][0], sortedY[0][1], sortedZ[0][2]]"
   ]
  },
  {
   "cell_type": "code",
   "execution_count": 2,
   "metadata": {
    "collapsed": false
   },
   "outputs": [
    {
     "data": {
      "text/plain": [
       "[[0, 0, 0],\n",
       " [6.5647, 0, 0],\n",
       " [-1.4670218892460913, 6.398682119504987, 0],\n",
       " [-1.9346261542700438, -2.428371802279931, 10.913965412860076],\n",
       " [5.097678110753909, 6.398682119504987, 0],\n",
       " [-3.4016480435161354, 3.970310317225056, 10.913965412860076],\n",
       " [4.630073845729957, -2.428371802279931, 10.913965412860076],\n",
       " [3.1630519564838657, 3.970310317225056, 10.913965412860076]]"
      ]
     },
     "execution_count": 2,
     "metadata": {},
     "output_type": "execute_result"
    }
   ],
   "source": [
    "MOFs[0].edgePoints"
   ]
  },
  {
   "cell_type": "code",
   "execution_count": 8,
   "metadata": {
    "collapsed": false
   },
   "outputs": [
    {
     "data": {
      "text/plain": [
       "-1"
      ]
     },
     "execution_count": 8,
     "metadata": {},
     "output_type": "execute_result"
    }
   ],
   "source": [
    "import math\n",
    "\n",
    "math.ceil(-1.23)"
   ]
  },
  {
   "cell_type": "code",
   "execution_count": 6,
   "metadata": {
    "collapsed": false
   },
   "outputs": [
    {
     "name": "stdout",
     "output_type": "stream",
     "text": [
      "[6.5647, 6.398682119504987, 10.913965412860076]\n",
      "[-3.4016480435161354, -2.428371802279931, 0]\n"
     ]
    }
   ],
   "source": [
    "sortedX = sorted(MOFs[0].edgePoints, key=lambda x: x[0], reverse=True)\n",
    "sortedY = sorted(MOFs[0].edgePoints, key=lambda y: y[1], reverse=True)\n",
    "sortedZ = sorted(MOFs[0].edgePoints, key=lambda z: z[2], reverse=True)\n",
    "eMapMax = [sortedX[0][0], sortedY[0][1], sortedZ[0][2]]\n",
    "eMapMin = [sortedX[-1][0], sortedY[-1][1], sortedZ[-1][2]]\n",
    "print(eMapMax)\n",
    "print(eMapMin)"
   ]
  },
  {
   "cell_type": "code",
   "execution_count": 9,
   "metadata": {
    "collapsed": false
   },
   "outputs": [
    {
     "data": {
      "text/plain": [
       "1"
      ]
     },
     "execution_count": 9,
     "metadata": {},
     "output_type": "execute_result"
    }
   ],
   "source": [
    "a = [1,2,3]\n",
    "min(a)"
   ]
  },
  {
   "cell_type": "code",
   "execution_count": 13,
   "metadata": {
    "collapsed": true
   },
   "outputs": [],
   "source": []
  },
  {
   "cell_type": "code",
   "execution_count": 14,
   "metadata": {
    "collapsed": false
   },
   "outputs": [
    {
     "data": {
      "text/plain": [
       "[['Ac',\n",
       "  'Ag',\n",
       "  'Al',\n",
       "  'Am',\n",
       "  'Ar',\n",
       "  'As',\n",
       "  'At',\n",
       "  'Au',\n",
       "  'B',\n",
       "  'Ba',\n",
       "  'Be',\n",
       "  'Bi',\n",
       "  'Bk',\n",
       "  'Br',\n",
       "  'C',\n",
       "  'Ca',\n",
       "  'Cd',\n",
       "  'Ce',\n",
       "  'Cf',\n",
       "  'Cl',\n",
       "  'Cm',\n",
       "  'Co',\n",
       "  'Cr',\n",
       "  'Cs',\n",
       "  'Cu',\n",
       "  'Dy',\n",
       "  'Er',\n",
       "  'Es',\n",
       "  'Eu',\n",
       "  'F',\n",
       "  'Fe',\n",
       "  'Fm',\n",
       "  'Fr',\n",
       "  'Ga',\n",
       "  'Gd',\n",
       "  'Ge',\n",
       "  'H',\n",
       "  'He',\n",
       "  'Hf',\n",
       "  'Hg',\n",
       "  'Ho',\n",
       "  'I',\n",
       "  'In',\n",
       "  'Ir',\n",
       "  'K',\n",
       "  'Kr',\n",
       "  'La',\n",
       "  'Li',\n",
       "  'Lu',\n",
       "  'Lw',\n",
       "  'Md',\n",
       "  'Mg',\n",
       "  'Mn',\n",
       "  'Mo',\n",
       "  'N',\n",
       "  'Na',\n",
       "  'Nb',\n",
       "  'Nd',\n",
       "  'Ne',\n",
       "  'Ni',\n",
       "  'No',\n",
       "  'Np',\n",
       "  'O',\n",
       "  'Os',\n",
       "  'P',\n",
       "  'Pa',\n",
       "  'Pb',\n",
       "  'Pd',\n",
       "  'Pm',\n",
       "  'Po',\n",
       "  'Pr',\n",
       "  'Pt',\n",
       "  'Pu',\n",
       "  'Ra',\n",
       "  'Rb',\n",
       "  'Re',\n",
       "  'Rh',\n",
       "  'Rn',\n",
       "  'Ru',\n",
       "  'S',\n",
       "  'Sb',\n",
       "  'Sc',\n",
       "  'Se',\n",
       "  'Si',\n",
       "  'Sm',\n",
       "  'Sn',\n",
       "  'Sr',\n",
       "  'Ta',\n",
       "  'Tb',\n",
       "  'Tc',\n",
       "  'Te',\n",
       "  'Th',\n",
       "  'Ti',\n",
       "  'Tl',\n",
       "  'Tm',\n",
       "  'U',\n",
       "  'V',\n",
       "  'W',\n",
       "  'Xe',\n",
       "  'Y',\n",
       "  'Yb',\n",
       "  'Zn',\n",
       "  'Zr'],\n",
       " [3.0985457416921003,\n",
       "  2.8045491647057883,\n",
       "  4.008153332913386,\n",
       "  3.012128566032487,\n",
       "  3.4459962417668324,\n",
       "  3.7685015777336357,\n",
       "  4.231768911166611,\n",
       "  2.9337294788361374,\n",
       "  3.6375394661670053,\n",
       "  3.2989979532736764,\n",
       "  2.4455169812952313,\n",
       "  3.893227398273283,\n",
       "  2.9747108198705927,\n",
       "  3.731974730289881,\n",
       "  3.4308509635584463,\n",
       "  3.0281647429590133,\n",
       "  2.537279549263686,\n",
       "  3.1680358417070464,\n",
       "  2.9515474531989443,\n",
       "  3.5163772404999194,\n",
       "  2.9631291365347683,\n",
       "  2.5586611184990544,\n",
       "  2.6931868249382456,\n",
       "  4.024189509839913,\n",
       "  3.113691019900486,\n",
       "  3.054000805785083,\n",
       "  3.0210375532138904,\n",
       "  2.939074871144979,\n",
       "  3.111909222464205,\n",
       "  2.996983287824101,\n",
       "  2.5942970672246677,\n",
       "  2.927493187809155,\n",
       "  4.365403718887663,\n",
       "  3.9048090816091072,\n",
       "  3.0005468826966624,\n",
       "  3.813046513640652,\n",
       "  2.5711337005530193,\n",
       "  2.1043027722474816,\n",
       "  2.798312873678806,\n",
       "  2.4098810325696176,\n",
       "  3.0370737301404165,\n",
       "  4.009044231631527,\n",
       "  3.976080979060334,\n",
       "  2.5301523595185635,\n",
       "  3.396105913550973,\n",
       "  3.689211591819145,\n",
       "  3.1377452852902747,\n",
       "  2.183592758161972,\n",
       "  3.242871334030835,\n",
       "  2.882948251902138,\n",
       "  2.916802403191471,\n",
       "  2.6914050275019648,\n",
       "  2.6379511044135446,\n",
       "  2.7190228877643157,\n",
       "  3.260689308393642,\n",
       "  2.6575508762126323,\n",
       "  2.819694442914174,\n",
       "  3.184962917351713,\n",
       "  2.88918454292912,\n",
       "  2.5248069672097215,\n",
       "  2.893639036519822,\n",
       "  3.0504372109125217,\n",
       "  3.1181455134911875,\n",
       "  2.7796040005978586,\n",
       "  3.694556984127987,\n",
       "  3.0504372109125217,\n",
       "  3.828191791849038,\n",
       "  2.5827153838888437,\n",
       "  3.1600177532437836,\n",
       "  4.195242063722858,\n",
       "  3.2125807776140634,\n",
       "  2.4535350697584946,\n",
       "  3.0504372109125217,\n",
       "  3.2758345866020275,\n",
       "  3.6651573264293558,\n",
       "  2.631714813386562,\n",
       "  2.6094423454330538,\n",
       "  4.245132391938716,\n",
       "  2.6397329018498255,\n",
       "  3.594776327696269,\n",
       "  3.9377723341802997,\n",
       "  2.935511276272418,\n",
       "  3.746229109780127,\n",
       "  3.826409994412757,\n",
       "  3.1359634878539944,\n",
       "  3.9128271700723705,\n",
       "  3.2437622327489755,\n",
       "  2.8241489365048755,\n",
       "  3.074491476302311,\n",
       "  2.6709143569847376,\n",
       "  3.982317270087316,\n",
       "  3.025492046804592,\n",
       "  2.828603430095577,\n",
       "  3.872736727756055,\n",
       "  3.005892275005505,\n",
       "  3.0246011480864516,\n",
       "  2.8009855698332267,\n",
       "  2.7341681659727013,\n",
       "  3.923517954690054,\n",
       "  2.980056212179435,\n",
       "  2.9889651993608384,\n",
       "  2.4615531582217574,\n",
       "  2.78316759547042],\n",
       " [16.617340395488096,\n",
       "  18.12800770416883,\n",
       "  254.2956636279239,\n",
       "  7.049780773843435,\n",
       "  93.15781736864538,\n",
       "  155.5987327941158,\n",
       "  143.00983855510964,\n",
       "  19.638675012849568,\n",
       "  90.64003852084414,\n",
       "  183.29430011992932,\n",
       "  42.802240412620854,\n",
       "  260.8418886322071,\n",
       "  6.546225004283189,\n",
       "  126.39249815962157,\n",
       "  52.873355803825746,\n",
       "  119.84627315533838,\n",
       "  114.81071545973595,\n",
       "  6.546225004283189,\n",
       "  6.546225004283189,\n",
       "  114.3071596901757,\n",
       "  6.546225004283189,\n",
       "  7.049780773843435,\n",
       "  7.553336543403679,\n",
       "  22.660009630211036,\n",
       "  2.5177788478012264,\n",
       "  3.5248903869217174,\n",
       "  3.5248903869217174,\n",
       "  6.042669234722943,\n",
       "  4.028446156481963,\n",
       "  25.177788478012268,\n",
       "  6.546225004283189,\n",
       "  6.042669234722943,\n",
       "  25.177788478012268,\n",
       "  208.97564436750181,\n",
       "  4.5320019260422075,\n",
       "  190.847636663333,\n",
       "  22.156453860650792,\n",
       "  28.19912309537374,\n",
       "  36.25601540833766,\n",
       "  193.86897128069447,\n",
       "  3.5248903869217174,\n",
       "  170.70540588092317,\n",
       "  301.62990596658693,\n",
       "  36.75957117789791,\n",
       "  17.624451934608587,\n",
       "  110.78226930325395,\n",
       "  8.560448082524172,\n",
       "  12.588894239006134,\n",
       "  20.64578655197006,\n",
       "  5.539113465162698,\n",
       "  5.539113465162698,\n",
       "  55.89469042118723,\n",
       "  6.546225004283189,\n",
       "  28.19912309537374,\n",
       "  34.74534809965693,\n",
       "  15.106673086807358,\n",
       "  29.709790404054473,\n",
       "  5.035557695602453,\n",
       "  21.149342321530305,\n",
       "  7.553336543403679,\n",
       "  5.539113465162698,\n",
       "  9.56755962164466,\n",
       "  30.213346173614717,\n",
       "  18.631563473729077,\n",
       "  153.58450971587482,\n",
       "  11.078226930325396,\n",
       "  333.8574752184427,\n",
       "  24.170676938891773,\n",
       "  4.5320019260422075,\n",
       "  163.65562510707971,\n",
       "  5.035557695602453,\n",
       "  40.28446156481962,\n",
       "  8.056892312963926,\n",
       "  203.43653090233911,\n",
       "  20.14223078240981,\n",
       "  33.23468079097619,\n",
       "  26.688455786693,\n",
       "  124.88183085094082,\n",
       "  28.19912309537374,\n",
       "  137.97428085950722,\n",
       "  226.09654053255016,\n",
       "  9.56755962164466,\n",
       "  146.53472894203136,\n",
       "  202.42941936321864,\n",
       "  4.028446156481963,\n",
       "  285.5161213406591,\n",
       "  118.33560584665763,\n",
       "  40.78801733437987,\n",
       "  3.5248903869217174,\n",
       "  24.170676938891773,\n",
       "  200.41519628497767,\n",
       "  13.092450008566377,\n",
       "  8.560448082524172,\n",
       "  342.41792330096683,\n",
       "  3.0213346173614717,\n",
       "  11.078226930325396,\n",
       "  8.056892312963926,\n",
       "  33.73823656053644,\n",
       "  167.18051549400144,\n",
       "  36.25601540833766,\n",
       "  114.81071545973595,\n",
       "  62.44091542547041,\n",
       "  34.74534809965693]]"
      ]
     },
     "execution_count": 14,
     "metadata": {},
     "output_type": "execute_result"
    }
   ],
   "source": [
    "UFF"
   ]
  },
  {
   "cell_type": "code",
   "execution_count": null,
   "metadata": {
    "collapsed": true
   },
   "outputs": [],
   "source": []
  }
 ],
 "metadata": {
  "kernelspec": {
   "display_name": "Python 3",
   "language": "python",
   "name": "python3"
  },
  "language_info": {
   "codemirror_mode": {
    "name": "ipython",
    "version": 3
   },
   "file_extension": ".py",
   "mimetype": "text/x-python",
   "name": "python",
   "nbconvert_exporter": "python",
   "pygments_lexer": "ipython3",
   "version": "3.5.1"
  }
 },
 "nbformat": 4,
 "nbformat_minor": 0
}
