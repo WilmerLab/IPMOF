{
 "cells": [
  {
   "cell_type": "markdown",
   "metadata": {
    "collapsed": true
   },
   "source": [
    "## Initialize Input Files for IPMOF (initialize_IPMOF.py)\n",
    "\n",
    "### Initialize necessary information\n",
    "\n",
    "1. Read FF_Parameters excel file to get force field parameters for atoms\n",
    "2. Initialize force field selection, cutOff radius and grid size for energy map\n",
    "\n",
    "### Create input files for MOF files in a given directory\n",
    "1. Reaf MOF files in \".mol2\" format from given directory and create a list\n",
    "2. Choose the first MOF1 as the stationary (map) MOF, initialize its variables, and calculate packed coordinates\n",
    "3. For all the MOFs in the list:\n",
    "4. Initialize MOF2 variables for the mobile MOF\n",
    "5. Calculate energy map\n",
    "6. Export energy map -> .json\n",
    "7. Export MOF2 structure information -> .json"
   ]
  },
  {
   "cell_type": "code",
   "execution_count": 1,
   "metadata": {
    "collapsed": false
   },
   "outputs": [
    {
     "name": "stdout",
     "output_type": "stream",
     "text": [
      "MOF Name         Atoms                             UCsize                       UCangle                        Packing Factor\n",
      "---------------  --------------------------------  ---------------------------  -----------------------------  ----------------\n",
      "AgH6_CN2_3       ['H', 'N', 'Ag', 'C']             [6.5647, 6.5647, 11.347]     [99.8167, 99.8167, 102.913]    [5, 5, 5]\n",
      "Cd2H26C17_NO2_6  ['H', 'Cd', 'N', 'C', 'O']        [12.6774, 12.6774, 18.0381]  [110.5733, 110.5733, 90.0001]  [5, 5, 3]\n",
      "Cd2HC9NO8        ['O', 'Cd', 'H', 'C', 'N']        [8.3989, 8.535, 11.4883]     [89.325, 69.014, 67.269]       [5, 5, 5]\n",
      "Co3H16_C9O7_2    ['Co', 'O', 'H', 'C']             [7.799, 9.212, 10.784]       [107.595, 92.877, 110.248]     [5, 5, 5]\n",
      "CuNiH8C12_N2O_4  ['Cu', 'H', 'Ni', 'O', 'C', 'N']  [9.2189, 9.2189, 10.517]     [100.003, 100.003, 91.6964]    [5, 5, 5]\n",
      "MgH2_CO2_2       ['Mg', 'O', 'H', 'C']             [9.8715, 18.1613, 18.2678]   [90.0, 90.0, 90.0]             [5, 3, 3]\n",
      "MOF5             ['Zn', 'O', 'C', 'H']             [25.83, 25.83, 25.83]        [90.0, 90.0, 90.0]             [3, 3, 3]\n",
      "NiH6_C7O3_2      ['Ni', 'C', 'O', 'H']             [8.524, 17.2139, 17.2139]    [120.0, 90.0, 90.0]            [5, 3, 3]\n",
      "YbH17C30_NO3_2   ['Yb', 'H', 'C', 'N', 'O']        [10.8762, 12.2294, 12.3328]  [93.9317, 106.674, 101.261]    [5, 5, 5]\n",
      "Zn2H22C27_NO_8   ['Zn', 'N', 'H', 'C', 'O']        [8.985, 19.114, 19.9947]     [92.3756, 102.984, 90.0]       [5, 3, 3]\n",
      "Zn4H12C24O13     ['C', 'O', 'Zn', 'H']             [18.266, 18.266, 18.266]     [60.0, 60.0, 60.0]             [3, 3, 3]\n",
      "Zn7_PO4_6        ['Zn', 'O', 'P']                  [9.363, 9.363, 9.363]        [93.2247, 93.2247, 93.2247]    [5, 5, 5]\n"
     ]
    }
   ],
   "source": [
    "import math\n",
    "import os\n",
    "from energyMapFunctions import *\n",
    "\n",
    "# Initialize force field parameters\n",
    "excelFileDir = 'C:\\\\Users\\\\kutay\\\\iPython\\\\IPMOF\\\\FF_Parameters.xlsx'\n",
    "UFF = readFFparameters(excelFileDir, 'UFF')\n",
    "cutOff = 13\n",
    "\n",
    "# Generate MOF list\n",
    "fileDir = 'C:\\\\Kutay\\\\MOFs'\n",
    "fileFormat = \".mol2\"\n",
    "MOFlist = generateMOFlist(fileDir, fileFormat)\n",
    "\n",
    "MOFs = []\n",
    "for MOFindex, mof in enumerate(MOFlist):\n",
    "    MOFs.append(MOF())\n",
    "    MOFs[MOFindex].dir = fileDir + '\\\\' + mof\n",
    "    MOFs[MOFindex].file = open(MOFs[MOFindex].dir, 'r')\n",
    "    MOFs[MOFindex].initialize()\n",
    "    MOFs[MOFindex].initializeFF(UFF)\n",
    " \n",
    "    # Calculate packing for base MOF\n",
    "    packingFactor = Packing.factor(MOFs[MOFindex].UCsize, cutOff)\n",
    "    MOFs[MOFindex].packingFactor = packingFactor\n",
    "    translationVectors, UCvectors = Packing.vectors(packingFactor, MOFs[MOFindex].UCsize, MOFs[MOFindex].UCangle)\n",
    "    MOFs[MOFindex].packedCoor = Packing.UC(translationVectors, packingFactor, UCvectors, MOFs[MOFindex].atomCoor)\n",
    "\n",
    "from tabulate import tabulate\n",
    "\n",
    "headers = [\"MOF Name\", \"Atoms\", \"UCsize\", \"UCangle\", \"Packing Factor\"]\n",
    "table = [[] for mof in MOFs]\n",
    "\n",
    "for MOFindex in range(len(MOFs)):\n",
    "    MOFname = MOFlist[MOFindex].split('.')[0]\n",
    "    MOFs[MOFindex]\n",
    "    table[MOFindex].append(MOFname)\n",
    "    table[MOFindex].append(MOFs[MOFindex].uniqueAtomNames)\n",
    "    table[MOFindex].append(MOFs[MOFindex].UCsize)\n",
    "    table[MOFindex].append(MOFs[MOFindex].UCangle)\n",
    "    table[MOFindex].append(MOFs[MOFindex].packingFactor)\n",
    "\n",
    "print(tabulate(table, headers))"
   ]
  },
  {
   "cell_type": "code",
   "execution_count": 3,
   "metadata": {
    "collapsed": false
   },
   "outputs": [
    {
     "name": "stdout",
     "output_type": "stream",
     "text": [
      "MOF Name         Atoms                               Average Energy Limit\n",
      "---------------  --------------------------------  ----------------------\n",
      "AgH6_CN2_3       ['H', 'Ag', 'C', 'N']                        1.91687e+11\n",
      "Cd2H26C17_NO2_6  ['H', 'O', 'Cd', 'C', 'N']                   2.07235e+11\n",
      "Cd2HC9NO8        ['H', 'O', 'Cd', 'C', 'N']                   2.07235e+11\n",
      "Co3H16_C9O7_2    ['H', 'O', 'Co', 'C']                        1.91687e+11\n",
      "CuNiH8C12_N2O_4  ['H', 'O', 'Cu', 'Ni', 'C', 'N']             1.85553e+11\n",
      "MgH2_CO2_2       ['Mg', 'H', 'O', 'C']                        1.91687e+11\n",
      "MOF5             ['Zn', 'H', 'O', 'C']                        1.91687e+11\n",
      "NiH6_C7O3_2      ['H', 'O', 'Ni', 'C']                        1.91687e+11\n",
      "YbH17C30_NO3_2   ['Yb', 'H', 'O', 'C', 'N']                   2.07235e+11\n",
      "Zn2H22C27_NO_8   ['Zn', 'H', 'O', 'C', 'N']                   2.07235e+11\n",
      "Zn4H12C24O13     ['Zn', 'H', 'O', 'C']                        1.91687e+11\n",
      "Zn7_PO4_6        ['Zn', 'O', 'P']                             2.28584e+11\n",
      "AgH6_CN2_3.js is exported\n",
      "AgH6_CN2_3+AgH6_CN2_3_eMap.js is exported\n",
      "Cd2H26C17_NO2_6.js is exported\n",
      "AgH6_CN2_3+Cd2H26C17_NO2_6_eMap.js is exported\n",
      "Cd2HC9NO8.js is exported\n",
      "AgH6_CN2_3+Cd2HC9NO8_eMap.js is exported\n",
      "Co3H16_C9O7_2.js is exported\n",
      "AgH6_CN2_3+Co3H16_C9O7_2_eMap.js is exported\n",
      "CuNiH8C12_N2O_4.js is exported\n",
      "AgH6_CN2_3+CuNiH8C12_N2O_4_eMap.js is exported\n",
      "MgH2_CO2_2.js is exported\n",
      "AgH6_CN2_3+MgH2_CO2_2_eMap.js is exported\n",
      "MOF5.js is exported\n",
      "AgH6_CN2_3+MOF5_eMap.js is exported\n",
      "NiH6_C7O3_2.js is exported\n",
      "AgH6_CN2_3+NiH6_C7O3_2_eMap.js is exported\n",
      "YbH17C30_NO3_2.js is exported\n",
      "AgH6_CN2_3+YbH17C30_NO3_2_eMap.js is exported\n",
      "Zn2H22C27_NO_8.js is exported\n",
      "AgH6_CN2_3+Zn2H22C27_NO_8_eMap.js is exported\n",
      "Zn4H12C24O13.js is exported\n",
      "AgH6_CN2_3+Zn4H12C24O13_eMap.js is exported\n",
      "Zn7_PO4_6.js is exported\n",
      "AgH6_CN2_3+Zn7_PO4_6_eMap.js is exported\n"
     ]
    }
   ],
   "source": [
    "# Creates atom list for non-repeating atoms from a list of MOF classes\n",
    "atomList = getUniqueAtomList(MOFs)\n",
    "\n",
    "# Creates atom list required in the energy map of a combination of MOFs\n",
    "eMapAtomList = getEnergyMapAtomList(MOFs, atomList)\n",
    "\n",
    "# Directory and format to export energy map and MOF structure files\n",
    "exportFolder = \"C:\\\\Users\\\\kutay\\\\iPython\\\\IPMOF\\\\initializeIPMOF\"\n",
    "exportFormat = \".js\"\n",
    "\n",
    "for MOFindex in range(len(MOFs)-11):  \n",
    "        \n",
    "    # Get MOF name for base MOF from the .mol2 file list\n",
    "    MOFname = MOFlist[MOFindex].split('.')[0]\n",
    "    \n",
    "    # Create export directory for the base MOF and create folder\n",
    "    exportMOFfolder = os.path.join(exportFolder, MOFname)\n",
    "    os.mkdir(exportMOFfolder)\n",
    "    \n",
    "    # --------------------- Calculate Energy Map -------------------\n",
    "    # For each MOF energy map is calculated with an atom list that consists of all the unique atoms \n",
    "    # for a given list of MOFs\n",
    "    eMap = energyMap(MOFs[MOFindex], atomList, cutOff, 1)\n",
    "    \n",
    "    avgEnergyLimits = calculateEnergyLimits(MOFindex, MOFs, MOFlist, eMapAtomList, eMap)\n",
    "    \n",
    "    for MOFindex2 in range(len(MOFs)):\n",
    "        \n",
    "        # Get MOF name for mobile MOF from the .mol2 file list\n",
    "        MOFname2 = MOFlist[MOFindex2].split('.')[0]\n",
    "        \n",
    "        # Create export directory for the mobile MOF and create folder\n",
    "        exportMOFfolder2 = os.path.join(exportMOFfolder, MOFname2)\n",
    "        os.mkdir(exportMOFfolder2)\n",
    "        \n",
    "        # Create export directory for mobile MOF\n",
    "        exportDir_MOF = os.path.join(exportMOFfolder2, MOFname2 + exportFormat)\n",
    "        exportMOFjs(MOFs[MOFindex2], exportDir_MOF)\n",
    "        print(exportDir_MOF.split(\"\\\\\")[-1] + ' is exported')\n",
    "             \n",
    "        # Create export directory for energy map\n",
    "        exportDir_eMap = os.path.join(exportMOFfolder2, MOFname + '+' + MOFname2 + '_eMap' + exportFormat)\n",
    "        exportUniqueEnergyMapjs(eMap, avgEnergyLimits[MOFindex2], eMapAtomList, MOFindex2, exportDir_eMap)\n",
    "        print(exportDir_eMap.split(\"\\\\\")[-1] + ' is exported')\n",
    "        \n",
    "        # Export base MOF structure\n",
    "        exportDir_baseMOF = os.path.join(exportMOFfolder2, MOFname + exportFormat)\n",
    "        exportBaseMOFjs(MOFs[MOFindex], exportDir_baseMOF)"
   ]
  },
  {
   "cell_type": "code",
   "execution_count": 7,
   "metadata": {
    "collapsed": false
   },
   "outputs": [
    {
     "data": {
      "text/plain": [
       "424"
      ]
     },
     "execution_count": 7,
     "metadata": {},
     "output_type": "execute_result"
    }
   ],
   "source": [
    "# Calculate Energy Map\n",
    "# eMap = energyMap(MOF2, atomList, cutOff, 1)\n",
    "\n",
    "#plotEnergyMap(eMap, 90, 0)\n",
    "#plotPackedCell(MOF2.packedCoor, 90, 0)\n",
    "\n",
    "# Create export directory for the energy map\n",
    "#MOFname = MOFlist[MOFselection].split('.')[0]\n",
    "#MOFname = 'MOFX'\n",
    "#exportFolder = \"C:\\\\Users\\\\kutay\\\\iPython\\\\IPMOF\\\\multipleMOF\"\n",
    "#exportFormat = \".js\"\n",
    "#exportDir_eMap = os.path.join(exportFolder, MOFname + '_eMap' + exportFormat)\n",
    "#exportDir_MOF = os.path.join(exportFolder, MOFname + exportFormat)\n",
    "#print(exportDir_eMap)\n",
    "#print(exportDir_MOF)\n",
    "\n",
    "#eMapDir = \"C:\\\\Users\\\\kutay\\\\iPython\\\\IPMOF\\\\eMap.js\"\n",
    "#exportEnergyMapjs(eMap, atomList, exportDir_eMap)\n",
    "\n",
    "#MOFexportDir = \"C:\\\\Users\\\\kutay\\\\iPython\\\\IPMOF\\\\MOF.js\"\n",
    "#exportMOFjs(MOF2, exportDir_MOF)\n",
    "\n",
    "len(MOFs[6].atomCoor)"
   ]
  },
  {
   "cell_type": "code",
   "execution_count": 9,
   "metadata": {
    "collapsed": false
   },
   "outputs": [
    {
     "data": {
      "text/plain": [
       "2877223.795038206"
      ]
     },
     "execution_count": 9,
     "metadata": {},
     "output_type": "execute_result"
    }
   ],
   "source": [
    "eMap[0][9+3]"
   ]
  },
  {
   "cell_type": "code",
   "execution_count": 6,
   "metadata": {
    "collapsed": false
   },
   "outputs": [
    {
     "data": {
      "text/plain": [
       "['C', 'Mg', 'Ni', 'Zn', 'Cd', 'Cu', 'Ag', 'N', 'Yb', 'H', 'O', 'Co', 'P']"
      ]
     },
     "execution_count": 6,
     "metadata": {},
     "output_type": "execute_result"
    }
   ],
   "source": [
    "atomList['name']"
   ]
  },
  {
   "cell_type": "code",
   "execution_count": null,
   "metadata": {
    "collapsed": true
   },
   "outputs": [],
   "source": []
  }
 ],
 "metadata": {
  "kernelspec": {
   "display_name": "Python 3",
   "language": "python",
   "name": "python3"
  },
  "language_info": {
   "codemirror_mode": {
    "name": "ipython",
    "version": 3
   },
   "file_extension": ".py",
   "mimetype": "text/x-python",
   "name": "python",
   "nbconvert_exporter": "python",
   "pygments_lexer": "ipython3",
   "version": "3.5.1"
  }
 },
 "nbformat": 4,
 "nbformat_minor": 0
}
