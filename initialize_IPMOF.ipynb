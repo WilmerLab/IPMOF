{
 "cells": [
  {
   "cell_type": "markdown",
   "metadata": {
    "collapsed": true
   },
   "source": [
    "## Initialize Input Files for IPMOF (initialize_IPMOF.py)\n",
    "\n",
    "### Initialize necessary information\n",
    "\n",
    "1. Read FF_Parameters excel file to get force field parameters for atoms\n",
    "2. Initialize force field selection, cutOff radius and grid size for energy map\n",
    "\n",
    "### Create input files for MOF files in a given directory\n",
    "1. Reaf MOF files in \".mol2\" format from given directory and create a list\n",
    "2. Choose the first MOF1 as the stationary (map) MOF, initialize its variables, and calculate packed coordinates\n",
    "3. For all the MOFs in the list:\n",
    "4. Initialize MOF2 variables for the mobile MOF\n",
    "5. Calculate energy map\n",
    "6. Export energy map -> .json\n",
    "7. Export MOF2 structure information -> .json"
   ]
  },
  {
   "cell_type": "code",
   "execution_count": 1,
   "metadata": {
    "collapsed": false
   },
   "outputs": [
    {
     "name": "stdout",
     "output_type": "stream",
     "text": [
      "['AgH6_CN2_3.mol2', 'Cd2H26C17_NO2_6.mol2', 'Cd2HC9NO8.mol2', 'Co3H16_C9O7_2.mol2', 'CuNiH8C12_N2O_4.mol2', 'MgH2_CO2_2.mol2', 'MOF5.mol2', 'NiH6_C7O3_2.mol2', 'YbH17C30_NO3_2.mol2', 'Zn2H22C27_NO_8.mol2', 'Zn4H12C24O13.mol2', 'Zn7_PO4_6.mol2']\n"
     ]
    }
   ],
   "source": [
    "import math\n",
    "import os\n",
    "#os.chdir('C:\\Kutay\\IPMOF')\n",
    "from energyMapFunctions import *\n",
    "\n",
    "# Initialize force field parameters\n",
    "excelFileDir = 'C:\\\\Users\\\\kutay\\\\iPython\\\\IPMOF\\\\FF_Parameters.xlsx'\n",
    "UFF = readFFparameters(excelFileDir, 'UFF')\n",
    "cutOff = 13\n",
    "\n",
    "# Generate MOF list\n",
    "fileDir = 'C:\\\\Kutay\\\\MOFs'\n",
    "fileFormat = \".mol2\"\n",
    "MOFlist = generateMOFlist(fileDir, fileFormat)\n",
    "print(MOFlist)\n",
    "\n",
    "MOFs = []\n",
    "i = 0\n",
    "for mof in MOFlist:\n",
    "    MOFs.append(MOF())\n",
    "    MOFs[i].dir = fileDir + '\\\\' + mof\n",
    "    MOFs[i].file = open(MOFs[i].dir, 'r')\n",
    "    MOFs[i].initialize()\n",
    "    MOFs[i].initializeFF(UFF)\n",
    "    i += 1"
   ]
  },
  {
   "cell_type": "code",
   "execution_count": 2,
   "metadata": {
    "collapsed": false
   },
   "outputs": [
    {
     "name": "stdout",
     "output_type": "stream",
     "text": [
      "Packing factor for AgH6_CN2_3 calculated as: [5, 5, 5]\n",
      "Packing factor for Cd2H26C17_NO2_6 calculated as: [5, 5, 3]\n",
      "Packing factor for Cd2HC9NO8 calculated as: [5, 5, 5]\n",
      "Packing factor for Co3H16_C9O7_2 calculated as: [5, 5, 5]\n",
      "Packing factor for CuNiH8C12_N2O_4 calculated as: [5, 5, 5]\n",
      "Packing factor for MgH2_CO2_2 calculated as: [5, 3, 3]\n",
      "Packing factor for MOF5 calculated as: [3, 3, 3]\n",
      "Packing factor for NiH6_C7O3_2 calculated as: [5, 3, 3]\n",
      "Packing factor for YbH17C30_NO3_2 calculated as: [5, 5, 5]\n",
      "Packing factor for Zn2H22C27_NO_8 calculated as: [5, 3, 3]\n",
      "Packing factor for Zn4H12C24O13 calculated as: [3, 3, 3]\n",
      "Packing factor for Zn7_PO4_6 calculated as: [5, 5, 5]\n"
     ]
    }
   ],
   "source": [
    "for MOFindex in range(len(MOFs)):   \n",
    "    # Calculate packing for stationary MOF\n",
    "    packingFactor = Packing.factor(MOFs[MOFindex].UCsize, cutOff)\n",
    "    print('Packing factor for ' + MOFlist[MOFindex].split('.')[0] + ' calculated as: ' + str(packingFactor))\n",
    "    translationVectors, UCvectors = Packing.vectors(packingFactor, MOFs[MOFindex].UCsize, MOFs[MOFindex].UCangle)\n",
    "    MOFs[MOFindex].packedCoor = Packing.UC(translationVectors, packingFactor, UCvectors, MOFs[MOFindex].atomCoor)"
   ]
  },
  {
   "cell_type": "code",
   "execution_count": 3,
   "metadata": {
    "collapsed": false
   },
   "outputs": [
    {
     "name": "stdout",
     "output_type": "stream",
     "text": [
      "C:\\Users\\kutay\\iPython\\IPMOF\\initializeIPMOF\\AgH6_CN2_3_eMap.js\n",
      "C:\\Users\\kutay\\iPython\\IPMOF\\initializeIPMOF\\AgH6_CN2_3.js\n",
      "C:\\Users\\kutay\\iPython\\IPMOF\\initializeIPMOF\\Cd2H26C17_NO2_6_eMap.js\n",
      "C:\\Users\\kutay\\iPython\\IPMOF\\initializeIPMOF\\Cd2H26C17_NO2_6.js\n",
      "C:\\Users\\kutay\\iPython\\IPMOF\\initializeIPMOF\\Cd2HC9NO8_eMap.js\n",
      "C:\\Users\\kutay\\iPython\\IPMOF\\initializeIPMOF\\Cd2HC9NO8.js\n",
      "C:\\Users\\kutay\\iPython\\IPMOF\\initializeIPMOF\\Co3H16_C9O7_2_eMap.js\n",
      "C:\\Users\\kutay\\iPython\\IPMOF\\initializeIPMOF\\Co3H16_C9O7_2.js\n",
      "C:\\Users\\kutay\\iPython\\IPMOF\\initializeIPMOF\\CuNiH8C12_N2O_4_eMap.js\n",
      "C:\\Users\\kutay\\iPython\\IPMOF\\initializeIPMOF\\CuNiH8C12_N2O_4.js\n",
      "C:\\Users\\kutay\\iPython\\IPMOF\\initializeIPMOF\\MgH2_CO2_2_eMap.js\n",
      "C:\\Users\\kutay\\iPython\\IPMOF\\initializeIPMOF\\MgH2_CO2_2.js\n",
      "C:\\Users\\kutay\\iPython\\IPMOF\\initializeIPMOF\\MOF5_eMap.js\n",
      "C:\\Users\\kutay\\iPython\\IPMOF\\initializeIPMOF\\MOF5.js\n",
      "C:\\Users\\kutay\\iPython\\IPMOF\\initializeIPMOF\\NiH6_C7O3_2_eMap.js\n",
      "C:\\Users\\kutay\\iPython\\IPMOF\\initializeIPMOF\\NiH6_C7O3_2.js\n",
      "C:\\Users\\kutay\\iPython\\IPMOF\\initializeIPMOF\\YbH17C30_NO3_2_eMap.js\n",
      "C:\\Users\\kutay\\iPython\\IPMOF\\initializeIPMOF\\YbH17C30_NO3_2.js\n",
      "C:\\Users\\kutay\\iPython\\IPMOF\\initializeIPMOF\\Zn2H22C27_NO_8_eMap.js\n",
      "C:\\Users\\kutay\\iPython\\IPMOF\\initializeIPMOF\\Zn2H22C27_NO_8.js\n",
      "C:\\Users\\kutay\\iPython\\IPMOF\\initializeIPMOF\\Zn4H12C24O13_eMap.js\n",
      "C:\\Users\\kutay\\iPython\\IPMOF\\initializeIPMOF\\Zn4H12C24O13.js\n",
      "C:\\Users\\kutay\\iPython\\IPMOF\\initializeIPMOF\\Zn7_PO4_6_eMap.js\n",
      "C:\\Users\\kutay\\iPython\\IPMOF\\initializeIPMOF\\Zn7_PO4_6.js\n"
     ]
    }
   ],
   "source": [
    "for MOFindex in range(len(MOFs)):  \n",
    "    atomList = setUniqueAtomList(MOFs)\n",
    "    # Calculate Energy Map\n",
    "    eMap = energyMap(MOFs[MOFindex], atomList, cutOff, 1)\n",
    "    # Create export directory for the energy map\n",
    "    MOFname = MOFlist[MOFindex].split('.')[0]\n",
    "    exportFolder = \"C:\\\\Users\\\\kutay\\\\iPython\\\\IPMOF\\\\initializeIPMOF\"\n",
    "    exportFormat = \".js\"\n",
    "    exportDir_eMap = os.path.join(exportFolder, MOFname + '_eMap' + exportFormat)\n",
    "    exportDir_MOF = os.path.join(exportFolder, MOFname + exportFormat)\n",
    "    print(exportDir_eMap)\n",
    "    print(exportDir_MOF)\n",
    "\n",
    "    exportEnergyMapjs(eMap, atomList, exportDir_eMap)\n",
    "\n",
    "    exportMOFjs(MOFs[MOFindex], exportDir_MOF)"
   ]
  },
  {
   "cell_type": "code",
   "execution_count": 2,
   "metadata": {
    "collapsed": false
   },
   "outputs": [],
   "source": [
    "atomList = setUniqueAtomList(MOFs)\n",
    "\n",
    "eMapAtomList = getEnergyMapAtomList(MOFs, atomList)\n",
    "\n",
    "#exportCombinationEnergyMapjs(eMap, eMapAtomList, MOFindex, exportDir)\n",
    "    "
   ]
  },
  {
   "cell_type": "code",
   "execution_count": 3,
   "metadata": {
    "collapsed": false
   },
   "outputs": [
    {
     "data": {
      "text/plain": [
       "[{'eMapAtomIndex': [1, 3, 9, 11],\n",
       "  'epsilon': [22.156453860650792,\n",
       "   18.12800770416883,\n",
       "   52.873355803825746,\n",
       "   34.74534809965693],\n",
       "  'name': ['H', 'Ag', 'C', 'N'],\n",
       "  'sigma': [2.5711337005530193,\n",
       "   2.8045491647057883,\n",
       "   3.4308509635584463,\n",
       "   3.260689308393642]},\n",
       " {'eMapAtomIndex': [0, 1, 2, 9, 11],\n",
       "  'epsilon': [30.213346173614717,\n",
       "   22.156453860650792,\n",
       "   114.81071545973595,\n",
       "   52.873355803825746,\n",
       "   34.74534809965693],\n",
       "  'name': ['O', 'H', 'Cd', 'C', 'N'],\n",
       "  'sigma': [3.1181455134911875,\n",
       "   2.5711337005530193,\n",
       "   2.537279549263686,\n",
       "   3.4308509635584463,\n",
       "   3.260689308393642]},\n",
       " {'eMapAtomIndex': [0, 1, 2, 9, 11],\n",
       "  'epsilon': [30.213346173614717,\n",
       "   22.156453860650792,\n",
       "   114.81071545973595,\n",
       "   52.873355803825746,\n",
       "   34.74534809965693],\n",
       "  'name': ['O', 'H', 'Cd', 'C', 'N'],\n",
       "  'sigma': [3.1181455134911875,\n",
       "   2.5711337005530193,\n",
       "   2.537279549263686,\n",
       "   3.4308509635584463,\n",
       "   3.260689308393642]},\n",
       " {'eMapAtomIndex': [0, 1, 9, 10],\n",
       "  'epsilon': [30.213346173614717,\n",
       "   22.156453860650792,\n",
       "   52.873355803825746,\n",
       "   7.049780773843435],\n",
       "  'name': ['O', 'H', 'C', 'Co'],\n",
       "  'sigma': [3.1181455134911875,\n",
       "   2.5711337005530193,\n",
       "   3.4308509635584463,\n",
       "   2.5586611184990544]},\n",
       " {'eMapAtomIndex': [0, 1, 5, 7, 9, 11],\n",
       "  'epsilon': [30.213346173614717,\n",
       "   22.156453860650792,\n",
       "   2.5177788478012264,\n",
       "   7.553336543403679,\n",
       "   52.873355803825746,\n",
       "   34.74534809965693],\n",
       "  'name': ['O', 'H', 'Cu', 'Ni', 'C', 'N'],\n",
       "  'sigma': [3.1181455134911875,\n",
       "   2.5711337005530193,\n",
       "   3.113691019900486,\n",
       "   2.5248069672097215,\n",
       "   3.4308509635584463,\n",
       "   3.260689308393642]},\n",
       " {'eMapAtomIndex': [0, 1, 4, 9],\n",
       "  'epsilon': [30.213346173614717,\n",
       "   22.156453860650792,\n",
       "   55.89469042118723,\n",
       "   52.873355803825746],\n",
       "  'name': ['O', 'H', 'Mg', 'C'],\n",
       "  'sigma': [3.1181455134911875,\n",
       "   2.5711337005530193,\n",
       "   2.6914050275019648,\n",
       "   3.4308509635584463]},\n",
       " {'eMapAtomIndex': [0, 1, 8, 9],\n",
       "  'epsilon': [30.213346173614717,\n",
       "   22.156453860650792,\n",
       "   62.44091542547041,\n",
       "   52.873355803825746],\n",
       "  'name': ['O', 'H', 'Zn', 'C'],\n",
       "  'sigma': [3.1181455134911875,\n",
       "   2.5711337005530193,\n",
       "   2.4615531582217574,\n",
       "   3.4308509635584463]},\n",
       " {'eMapAtomIndex': [0, 1, 7, 9],\n",
       "  'epsilon': [30.213346173614717,\n",
       "   22.156453860650792,\n",
       "   7.553336543403679,\n",
       "   52.873355803825746],\n",
       "  'name': ['O', 'H', 'Ni', 'C'],\n",
       "  'sigma': [3.1181455134911875,\n",
       "   2.5711337005530193,\n",
       "   2.5248069672097215,\n",
       "   3.4308509635584463]},\n",
       " {'eMapAtomIndex': [0, 1, 9, 11, 12],\n",
       "  'epsilon': [30.213346173614717,\n",
       "   22.156453860650792,\n",
       "   52.873355803825746,\n",
       "   34.74534809965693,\n",
       "   114.81071545973595],\n",
       "  'name': ['O', 'H', 'C', 'N', 'Yb'],\n",
       "  'sigma': [3.1181455134911875,\n",
       "   2.5711337005530193,\n",
       "   3.4308509635584463,\n",
       "   3.260689308393642,\n",
       "   2.9889651993608384]},\n",
       " {'eMapAtomIndex': [0, 1, 8, 9, 11],\n",
       "  'epsilon': [30.213346173614717,\n",
       "   22.156453860650792,\n",
       "   62.44091542547041,\n",
       "   52.873355803825746,\n",
       "   34.74534809965693],\n",
       "  'name': ['O', 'H', 'Zn', 'C', 'N'],\n",
       "  'sigma': [3.1181455134911875,\n",
       "   2.5711337005530193,\n",
       "   2.4615531582217574,\n",
       "   3.4308509635584463,\n",
       "   3.260689308393642]},\n",
       " {'eMapAtomIndex': [0, 1, 8, 9],\n",
       "  'epsilon': [30.213346173614717,\n",
       "   22.156453860650792,\n",
       "   62.44091542547041,\n",
       "   52.873355803825746],\n",
       "  'name': ['O', 'H', 'Zn', 'C'],\n",
       "  'sigma': [3.1181455134911875,\n",
       "   2.5711337005530193,\n",
       "   2.4615531582217574,\n",
       "   3.4308509635584463]},\n",
       " {'eMapAtomIndex': [0, 6, 8],\n",
       "  'epsilon': [30.213346173614717, 153.58450971587482, 62.44091542547041],\n",
       "  'name': ['O', 'P', 'Zn'],\n",
       "  'sigma': [3.1181455134911875, 3.694556984127987, 2.4615531582217574]}]"
      ]
     },
     "execution_count": 3,
     "metadata": {},
     "output_type": "execute_result"
    }
   ],
   "source": [
    "# Calculate Energy Map\n",
    "# eMap = energyMap(MOF2, atomList, cutOff, 1)\n",
    "\n",
    "#plotEnergyMap(eMap, 90, 0)\n",
    "#plotPackedCell(MOF2.packedCoor, 90, 0)\n",
    "\n",
    "# Create export directory for the energy map\n",
    "#MOFname = MOFlist[MOFselection].split('.')[0]\n",
    "#MOFname = 'MOFX'\n",
    "#exportFolder = \"C:\\\\Users\\\\kutay\\\\iPython\\\\IPMOF\\\\multipleMOF\"\n",
    "#exportFormat = \".js\"\n",
    "#exportDir_eMap = os.path.join(exportFolder, MOFname + '_eMap' + exportFormat)\n",
    "#exportDir_MOF = os.path.join(exportFolder, MOFname + exportFormat)\n",
    "#print(exportDir_eMap)\n",
    "#print(exportDir_MOF)\n",
    "\n",
    "#eMapDir = \"C:\\\\Users\\\\kutay\\\\iPython\\\\IPMOF\\\\eMap.js\"\n",
    "#exportEnergyMapjs(eMap, atomList, exportDir_eMap)\n",
    "\n",
    "#MOFexportDir = \"C:\\\\Users\\\\kutay\\\\iPython\\\\IPMOF\\\\MOF.js\"\n",
    "#exportMOFjs(MOF2, exportDir_MOF)\n",
    "\n",
    "eMapAtomList"
   ]
  },
  {
   "cell_type": "code",
   "execution_count": 41,
   "metadata": {
    "collapsed": false
   },
   "outputs": [],
   "source": [
    "# Sort energy map according to energy values\n",
    "sortedMap = sorted(eMap, key=lambda x: x[3], reverse=True)\n",
    "energyLimit = sortedMap[len(MOF2.atomCoor)][3]"
   ]
  }
 ],
 "metadata": {
  "kernelspec": {
   "display_name": "Python 3",
   "language": "python",
   "name": "python3"
  },
  "language_info": {
   "codemirror_mode": {
    "name": "ipython",
    "version": 3
   },
   "file_extension": ".py",
   "mimetype": "text/x-python",
   "name": "python",
   "nbconvert_exporter": "python",
   "pygments_lexer": "ipython3",
   "version": "3.5.1"
  }
 },
 "nbformat": 4,
 "nbformat_minor": 0
}
