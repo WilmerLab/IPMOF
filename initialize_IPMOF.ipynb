{
 "cells": [
  {
   "cell_type": "markdown",
   "metadata": {
    "collapsed": true
   },
   "source": [
    "## Initialize Input Files for IPMOF (initialize_IPMOF.py)\n",
    "\n",
    "### Initialize necessary information\n",
    "\n",
    "1. Read FF_Parameters excel file to get force field parameters for atoms\n",
    "2. Initialize force field selection, cutOff radius and grid size for energy map\n",
    "\n",
    "### Create input files for MOF files in a given directory\n",
    "1. Reaf MOF files in \".mol2\" format from given directory and create a list\n",
    "2. Choose the first MOF1 as the stationary (map) MOF, initialize its variables, and calculate packed coordinates\n",
    "3. For all the MOFs in the list:\n",
    "4. Initialize MOF2 variables for the mobile MOF\n",
    "5. Calculate energy map\n",
    "6. Export energy map -> .json\n",
    "7. Export MOF2 structure information -> .json"
   ]
  },
  {
   "cell_type": "code",
   "execution_count": 6,
   "metadata": {
    "collapsed": false
   },
   "outputs": [
    {
     "name": "stdout",
     "output_type": "stream",
     "text": [
      "MOF Name            Atoms                                   UCsize                       UCangle                          Atom Density\n",
      "------------------  --------------------------------------  ---------------------------  -----------------------------  --------------\n",
      "KOJCUI              ['O', 'H', 'C', 'Mn', 'N']              [7.524, 18.3259, 25.3]       [90.0, 90.0, 90.0]                  0.176611\n",
      "KOJYEO              ['Cu', 'H', 'C', 'O']                   [10.0433, 10.0433, 11.734]   [100.241, 100.241, 97.6824]         0.140027\n",
      "KOJZAL              ['H', 'N', 'C', 'O', 'Cu']              [10.0482, 17.0076, 17.0076]  [64.8583, 72.8183, 72.8183]         0.0693104\n",
      "KOMGUP              ['Zn', 'N', 'O', 'H', 'C']              [9.3531, 9.8055, 16.1941]    [90.0, 90.0, 90.0]                  0.205444\n",
      "KOMHAW              ['H', 'N', 'Zn', 'C', 'O']              [9.0436, 9.7308, 17.3916]    [94.4309, 105.07, 90.0]             0.179337\n",
      "KONYOB              ['Cd', 'H', 'Ni', 'C', 'N']             [7.325, 11.6185, 14.048]     [114.065, 91.5, 103.56]             0.601136\n",
      "KUDLUR              ['Cu', 'H', 'O', 'N', 'C', 'Dy']        [13.3503, 13.3503, 14.3853]  [90.0, 90.0, 120.0]                 0.422159\n",
      "KULRIT              ['Yb', 'O', 'H', 'C']                   [8.5773, 12.1397, 16.7281]   [90.0, 90.0, 93.036]                0.976943\n",
      "KUNWEW              ['C', 'O', 'Zn', 'H', 'N']              [10.929, 16.594, 18.277]     [116.9979, 107.3964, 90.0]          0.100741\n",
      "KUQXIE              ['O', 'Cd', 'H', 'C', 'N']              [8.3989, 8.535, 11.4883]     [89.325, 69.014, 67.269]            0.0852325\n",
      "KUXLUL              ['Cu', 'O', 'H', 'C', 'S']              [10.8908, 11.5537, 16.7793]  [90.0, 90.0, 90.0]                  0.115558\n",
      "LABGAY              ['Zn', 'H', 'C', 'N', 'O', 'F']         [11.021, 18.561, 20.571]     [90.0, 90.0, 105.822]               0.135848\n",
      "LABJUV              ['Cu', 'I', 'N', 'H', 'C']              [10.1652, 14.6342, 15.2829]  [117.538, 96.141, 104.338]          0.432259\n",
      "LABPOV              ['Nd', 'H', 'C', 'O', 'P', 'N']         [7.131, 20.891, 27.845]      [107.853, 90.0, 90.0]               0.189983\n",
      "LABPUB              ['Sm', 'H', 'C', 'O', 'P', 'N']         [7.09, 20.91, 27.823]        [107.611, 90.0, 90.0]               0.251396\n",
      "LACGAZ              ['Ca', 'H', 'C', 'O']                   [10.143, 12.709, 16.795]     [90.0, 107.036, 90.0]               0.508246\n",
      "LAJDUV01            ['Ti', 'C', 'O', 'H', 'N']              [8.939, 8.939, 10.893]       [90.0, 90.0, 120.0]                 0.425213\n",
      "MOF-1-Dybtsev-dmol  ['H', 'C', 'O', 'Zn', 'N']              [10.9288, 10.9288, 9.6084]   [90.0, 90.0, 90.0]                  0.0706388\n",
      "MOF-69c             ['Zn', 'O', 'H', 'C']                   [14.848, 17.664, 18.129]     [112.14, 90.0, 90.0]                0.288446\n",
      "MOF-70              ['H', 'C', 'O', 'Pb']                   [8.3639, 9.9617, 17.9914]    [90.0, 90.0, 102.687]               0.0813027\n",
      "MOGVAG              ['H', 'N', 'Zn', 'C', 'O', 'S']         [7.4267, 12.9082, 12.9082]   [87.8549, 85.4656, 85.4656]         0.110791\n",
      "MOGXUB              ['C', 'O', 'Ag', 'F']                   [10.0545, 15.2938, 20.4466]  [90.0, 90.0, 90.0]                  0.319541\n",
      "MOGYAI              ['Ag', 'O', 'F', 'C']                   [10.5569, 14.8459, 19.0663]  [90.0, 90.0, 90.0]                  0.405843\n",
      "MOJJUR              ['Nb', 'H', 'N', 'C', 'Mn']             [12.348, 14.802, 15.8779]    [90.0, 107.931, 90.0]               0.477043\n",
      "MOQSIV              ['H', 'C', 'N', 'Cd', 'O']              [10.5903, 13.362, 20.907]    [90.0, 90.0, 113.346]               0.179217\n",
      "MOSDUT              ['N', 'Co', 'H', 'C']                   [13.655, 15.189, 20.9121]    [90.0, 102.488, 90.0]               0.311316\n",
      "MOTMAK              ['Li', 'O', 'H', 'C']                   [9.6196, 9.6196, 12.817]     [90.0, 90.0, 92.047]                0.297073\n",
      "MOXDIN01            ['H', 'C', 'O', 'Co']                   [9.7187, 17.1992, 18.392]    [92.1583, 90.0, 106.411]            0.0791003\n",
      "MOXJOZ              ['Cu', 'B', 'H', 'C', 'N']              [16.0184, 16.0184, 16.0184]  [90.0, 90.0, 90.0]                  0.212972\n",
      "MOXNUJ              ['H', 'C', 'N', 'O', 'Cu']              [9.804, 16.8386, 16.8386]    [85.1384, 73.0753, 73.0752]         0.0904859\n",
      "MOYMET              ['O', 'Co', 'H', 'C']                   [8.0576, 22.1138, 22.1138]   [90.0, 90.0, 90.0]                  0.380448\n",
      "MOYNEU              ['H', 'C', 'O', 'Zn']                   [11.675, 16.429, 20.934]     [90.0, 90.0, 90.0]                  0.111122\n",
      "MOYYEF              ['O', 'Cu', 'H', 'C']                   [12.935, 14.3519, 14.3519]   [78.2832, 63.2154, 63.2154]         0.350859\n",
      "MOYYIJ              ['Cu', 'O', 'H', 'C']                   [14.297, 18.9017, 18.9017]   [113.869, 104.603, 104.6035]        0.272521\n",
      "MUCLOM              ['Li', 'B', 'H', 'C', 'N']              [16.0311, 16.0311, 16.0311]  [90.0, 90.0, 90.0]                  0.176907\n",
      "MUDLIH              ['H', 'C', 'N', 'Cd', 'Cl']             [18.2719, 18.2721, 18.2721]  [105.051, 105.0506, 118.7277]       0.150073\n",
      "MUFHUR              ['O', 'Nd', 'H', 'C', 'N']              [7.9841, 8.3577, 17.593]     [90.0, 90.0, 109.49]                0.298141\n",
      "MUFJED              ['O', 'C', 'Er', 'H', 'N']              [7.7664, 8.261, 17.3239]     [90.0, 90.0, 108.056]               0.413362\n",
      "MUJRIT              ['Cd', 'H', 'N', 'C', 'O']              [10.615, 14.5889, 29.856]    [90.0, 90.395, 90.0]                0.225368\n",
      "MUKRIU              ['H', 'Ag', 'N', 'C', 'O']              [8.2412, 10.8347, 22.8445]   [82.9156, 79.6084, 67.6469]         0.243459\n",
      "MULQOA              ['H', 'C', 'N', 'Zn', 'O']              [11.7437, 13.0101, 18.9251]  [90.0, 90.0, 112.316]               0.190462\n",
      "MULXOH              ['La', 'H', 'O', 'C']                   [10.5826, 12.0075, 18.147]   [90.0, 90.0, 110.074]               0.729525\n",
      "MUPYIG              ['Cd', 'H', 'N', 'O', 'C', 'S']         [5.5144, 8.0021, 9.2467]     [78.487, 72.869, 87.2]              0.177124\n",
      "MUPYUS              ['H', 'Br', 'Cd', 'N', 'C']             [7.8516, 10.7383, 14.1927]   [112.2281, 90.0, 90.0]              0.427372\n",
      "MURCAD              ['C', 'O', 'Cu', 'H', 'N']              [10.154, 10.154, 15.5121]    [72.0821, 72.0821, 86.5078]         0.109323\n",
      "MURCIL              ['Cu', 'Dy', 'H', 'C', 'O']             [14.6242, 14.6242, 15.187]   [90.0, 90.0, 120.0]                 1.28994\n",
      "MURCOR              ['Cu', 'Ho', 'H', 'C', 'O']             [14.3683, 14.3683, 15.393]   [90.0, 90.0, 120.0]                 0.725463\n",
      "MURNIX              ['O', 'H', 'Cu', 'Sm', 'C', 'N']        [7.8958, 9.6083, 15.514]     [101.85, 90.0, 90.0]                0.582023\n",
      "MURTUO              ['Lu', 'H', 'O', 'C']                   [5.224, 8.8, 26.055]         [90.0, 90.0, 97.38]                 0.901712\n",
      "MUTVUT              ['O', 'H', 'C', 'Cd', 'N']              [9.3345, 12.0426, 27.514]    [90.0, 90.0, 112.8024]              0.176559\n",
      "MUVGOA              ['H', 'C', 'N', 'Zn']                   [12.614, 14.604, 22.857]     [90.0, 90.0, 90.0]                  0.0685528\n",
      "MUVGUG              ['H', 'C', 'N', 'Zn']                   [11.419, 12.67, 14.752]      [90.0, 90.0, 90.0]                  0.0723435\n",
      "MUVHAN              ['H', 'C', 'N', 'Zn']                   [11.4341, 12.5791, 14.7759]  [90.0, 90.0, 90.0]                  0.0726523\n",
      "MUVHER              ['Zn', 'H', 'C', 'N']                   [11.3749, 12.7239, 14.801]   [90.0, 90.0, 90.0]                  0.182991\n",
      "MUVJIX              ['H', 'C', 'N', 'O', 'Mn', 'Cl']        [9.062, 9.618, 25.6]         [90.0, 90.0, 90.0]                  0.11788\n",
      "MUWQEB              ['Fe', 'H', 'C', 'N']                   [18.8235, 18.8235, 18.8235]  [90.0, 90.0, 90.0]                  0.243612\n",
      "MUXHIW01            ['O', 'La', 'C', 'H', 'N']              [7.7648, 9.9827, 15.1515]    [90.0, 98.591, 90.0]                0.149269\n",
      "MUXHUI01            ['O', 'Nd', 'C', 'H', 'N']              [7.7008, 9.9155, 14.9899]    [90.0, 98.466, 90.0]                0.172752\n",
      "MUZHUL              ['O', 'H', 'C', 'Zn']                   [7.3562, 7.3562, 16.3]       [90.7568, 90.7568, 95.9011]         0.0550263\n",
      "NABMUA01            ['O', 'Mg', 'H', 'C', 'N']              [11.4799, 11.4799, 14.735]   [90.0, 90.0, 120.0]                 0.0783974\n",
      "NABMUA              ['O', 'Mg', 'H', 'C', 'N']              [11.4858, 11.4858, 14.756]   [90.0, 90.0, 120.0]                 0.0782055\n",
      "NABNUA              ['H', 'C', 'N', 'O', 'Cd']              [9.8976, 14.5822, 26.5732]   [90.0, 91.93, 90.0]                 0.108643\n",
      "NACVUI              ['N', 'Cu', 'H', 'C', 'O']              [7.314, 12.758, 15.332]      [90.0, 90.0, 94.5]                  0.0683517\n",
      "NADZEZ              ['O', 'Y', 'H', 'C']                    [13.0245, 13.0245, 16.7901]  [111.502, 111.502, 93.1514]         1.21566\n",
      "NADZID              ['Y', 'C', 'O', 'H']                    [8.8326, 10.159, 13.979]     [90.0, 90.0, 90.0]                  0.429827\n",
      "NAGBUU              ['Co', 'O', 'N', 'H', 'C']              [6.9247, 20.6271, 26.0974]   [90.0, 90.0, 90.0]                  0.481007\n",
      "NAGQET              ['H', 'C', 'N', 'Co']                   [9.1985, 15.9576, 16.0966]   [73.171, 74.44, 76.392]             0.121303\n",
      "NAJGAH              ['O', 'H', 'Nd', 'C']                   [8.663, 9.069, 11.875]       [110.05, 90.0, 90.0]                1.24411\n",
      "NAKLIW              ['H', 'C', 'O', 'Zn']                   [14.5049, 17.1616, 18.1389]  [90.0, 90.0, 90.0]                  0.0827653\n",
      "NALWOO              ['O', 'Ba', 'H', 'C']                   [7.3162, 19.404, 26.155]     [90.0, 90.0, 90.0]                  1.98669\n",
      "NALYEG              ['C', 'O', 'U', 'H']                    [9.7736, 18.3539, 18.3539]   [120.0, 90.0, 90.0]                 0.171296\n",
      "NAMZIL              ['Mn', 'Re', 'Te', 'N', 'C']            [9.7882, 12.6679, 17.4524]   [90.0, 90.0, 105.57]                0.345914\n",
      "NANMEW              ['Mg', 'La', 'H', 'C', 'N', 'O']        [15.1, 15.677, 15.677]       [120.0, 90.0, 90.0]                 0.536381\n",
      "NAPZOV              ['H', 'C', 'O', 'Cd']                   [7.339, 11.247, 15.8458]     [90.0, 90.0, 90.0]                  0.105247\n",
      "NAPZUB              ['Cd', 'O', 'H', 'C']                   [7.691, 10.2147, 15.8154]    [90.0, 90.0, 90.0]                  0.53368\n",
      "NAQLAT              ['O', 'Zn', 'H', 'C', 'N']              [12.5583, 14.5949, 25.741]   [100.093, 90.0, 90.0]               0.0573863\n",
      "NARTIL              ['Co', 'H', 'C', 'N', 'O']              [11.864, 12.7537, 13.6059]   [117.9487, 107.649, 90.0]           0.131902\n",
      "NARTUX              ['H', 'C', 'N', 'O', 'Ca']              [14.9596, 16.8374, 16.8374]  [98.9184, 94.3906, 94.3906]         0.151196\n",
      "NASCIV              ['N', 'Cd', 'O', 'H', 'C']              [9.5189, 13.742, 13.742]     [83.1106, 69.7362, 69.7362]         0.43268\n",
      "NASMIF              ['Mn', 'Gd', 'H', 'C', 'N', 'O']        [10.148, 10.8845, 13.8261]   [78.76, 79.305, 86.222]             0.852423\n",
      "NATXIR              ['H', 'C', 'N', 'O', 'Er']              [6.151, 11.706, 14.063]      [92.255, 90.0, 90.0]                0.243404\n",
      "NATXOW              ['C', 'O', 'F', 'Ag', 'H', 'N']         [16.2564, 18.0258, 19.6093]  [90.0, 90.0, 90.0]                  0.14835\n",
      "NAXLEF              ['Al', 'H', 'C', 'O', 'N']              [6.5898, 7.4814, 10.5629]    [110.74, 104.688, 90.0]             0.112567\n",
      "NAXVOY01            ['Mg', 'O', 'H', 'C']                   [9.847, 11.324, 14.623]      [91.15, 90.0, 90.0]                 0.242254\n",
      "NAXVOY02            ['Mg', 'O', 'H', 'C']                   [9.885, 11.359, 14.584]      [91.37, 90.0, 90.0]                 0.239704\n",
      "NAXVOY03            ['Mg', 'O', 'H', 'C']                   [9.849, 11.341, 14.547]      [91.388, 90.0, 90.0]                0.241577\n",
      "NAYGUR              ['N', 'H', 'C', 'Cu']                   [6.9676, 17.4113, 18.6278]   [90.0, 90.0, 90.0]                  0.0619427\n",
      "NAYZUK              ['H', 'C', 'In', 'O']                   [7.1812, 21.893, 21.893]     [90.0, 90.0, 90.0]                  0.232274\n",
      "NAZBAT              ['H', 'C', 'O', 'In']                   [14.659, 14.659, 19.2795]    [112.3442, 112.3442, 90.0]          0.0656452\n",
      "NAZZEV              ['H', 'C', 'O', 'Sm', 'N']              [15.5864, 17.0301, 25.475]   [98.428, 90.0, 90.0]                0.242281\n",
      "NEDWAW              ['C', 'O', 'Mn', 'H']                   [13.4319, 16.216, 16.2911]   [108.099, 102.652, 106.188]         0.298765\n",
      "NEDWEA              ['Co', 'O', 'H', 'C', 'Mn']             [12.6594, 15.0271, 17.0317]  [108.009, 101.05, 106.05]           0.43357\n",
      "NEDWIE              ['H', 'C', 'O', 'Mn', 'Ni']             [15.6802, 16.6187, 16.8631]  [98.782, 109.215, 114.858]          0.0556613\n",
      "NEFTOJ              ['Cu', 'O', 'C', 'H', 'N']              [12.0546, 14.5444, 20.4026]  [90.0, 90.0, 90.0]                  0.119975\n",
      "NEGGOX              ['Mn', 'C', 'N']                        [8.0739, 8.0739, 10.7577]    [67.9596, 67.9596, 60.0]            0.225397\n",
      "NEHNEV01            ['Zn', 'H', 'C', 'O', 'N']              [8.981, 12.2471, 15.8888]    [76.827, 75.953, 79.384]            0.104811\n",
      "NEHNEV              ['O', 'Zn', 'H', 'C', 'N']              [10.6549, 14.5638, 16.0435]  [99.783, 102.396, 101.834]          0.0569694\n",
      "NEHZIK              ['H', 'Zn', 'O', 'N', 'C']              [17.1193, 17.1193, 17.1193]  [98.2857, 115.337, 115.337]         0.332807\n",
      "NEJRUR              ['H', 'N', 'Cu', 'C', 'O']              [10.8111, 10.8475, 14.021]   [87.531, 89.039, 85.997]            0.156443\n",
      "NEJSAY              ['O', 'Cu', 'C', 'H', 'N']              [10.8195, 14.004, 21.682]    [87.57, 86.557, 88.083]             0.0727838\n",
      "NEJSEC              ['Cu', 'C', 'O', 'H', 'N']              [10.8044, 14.053, 21.678]    [89.878, 83.363, 88.981]            0.0891311\n",
      "NEJSIG              ['H', 'C', 'N', 'Cu', 'O']              [7.922, 8.99, 10.801]        [66.89, 79.9, 78.52]                0.213682\n",
      "NEJSOM              ['C', 'O', 'Cu', 'H', 'N']              [10.806, 10.834, 16.27]      [90.492, 97.154, 90.855]            0.0665632\n",
      "NEJYUY              ['H', 'C', 'N', 'Cd', 'O']              [7.776, 16.053, 36.009]      [90.0, 90.0, 95.234]                0.107496\n",
      "NEKBEL              ['Co', 'N', 'C', 'H', 'W']              [7.179, 14.634, 22.134]      [90.0, 91.121, 90.0]                0.193397\n",
      "NELWIL              ['Cu', 'C', 'O', 'H', 'N']              [4.7094, 11.2824, 20.2467]   [90.0, 90.0, 98.827]                0.202469\n",
      "NERMON              ['Er', 'H', 'O', 'C']                   [7.0122, 11.1241, 20.0433]   [106.111, 98.2925, 90.0]            1.59238\n",
      "NERSUA              ['O', 'Cu', 'P', 'H', 'C', 'N']         [9.5384, 13.901, 26.6923]    [96.326, 90.0, 90.0]                0.139819\n",
      "NERTAH              ['P', 'H', 'C', 'N', 'O', 'Cu']         [9.57, 23.288, 24.207]       [105.705, 90.0, 90.0]               0.131962\n",
      "NERVEL              ['C', 'O', 'Co', 'H', 'N']              [10.5407, 11.8266, 14.1122]  [106.878, 102.411, 111.011]         0.129377\n",
      "NERVIP01            ['O', 'Co', 'H', 'C', 'N']              [10.743, 13.978, 19.374]     [90.0, 90.0, 104.42]                0.129657\n",
      "NERVIP              ['Co', 'C', 'O', 'H', 'N']              [10.507, 11.824, 14.0843]    [106.077, 103.221, 111.105]         0.144274\n",
      "NERVOV              ['C', 'O', 'Co', 'H', 'N']              [10.6671, 12.0063, 14.0658]  [106.718, 102.279, 111.19]          0.126262\n",
      "NESSOV              ['N', 'H', 'C', 'O', 'Co']              [14.76, 15.2653, 15.2653]    [100.999, 112.549, 112.549]         0.0774464\n",
      "NEVGIE              ['Cs', 'C', 'O', 'H']                   [7.6306, 14.8448, 18.507]    [90.0, 90.0, 90.0]                  3.22212\n",
      "NEVJEF              ['H', 'C', 'O', 'Cd', 'N']              [14.2083, 18.0861, 19.298]   [97.836, 90.0, 90.0]                0.114071\n",
      "NEVPUA              ['Cd', 'Cl', 'Cu', 'H', 'N', 'C', 'O']  [13.256, 18.193, 18.193]     [90.0, 90.0, 90.0]                  0.28293\n",
      "NEVQAH              ['Cu', 'H', 'N', 'Cl', 'C', 'O', 'Hg']  [13.2342, 18.0808, 18.0808]  [90.0, 90.0, 90.0]                  0.118887\n",
      "NEVVAM              ['H', 'Co', 'O', 'C', 'N']              [10.7738, 11.1482, 11.1482]  [80.0134, 77.5125, 77.512]          0.0822571\n",
      "NEVVEQ              ['Co', 'O', 'S', 'H', 'C', 'N']         [8.7577, 8.7577, 11.958]     [90.0, 90.0, 101.79]                0.166015\n",
      "NEYBEZ              ['H', 'C', 'O', 'Co', 'S', 'N']         [8.7692, 8.7692, 12.1518]    [90.0, 90.0, 101.283]               0.126778\n",
      "NHBZZN10            ['H', 'C', 'N', 'O', 'Zn']              [7.623, 11.189, 16.873]      [90.0, 90.0, 90.0]                  0.106329\n",
      "Ni-DOBDC            ['H', 'C', 'O', 'Ni']                   [6.7701, 15.0574, 15.0574]   [117.7948, 98.6196, 98.6196]        0.0965439\n",
      "NIBBOR              ['H', 'C', 'O', 'Cu', 'Ba']             [14.3198, 14.3198, 14.3198]  [109.421, 109.421, 109.421]         0.276583\n",
      "NIBXUT              ['C', 'O', 'Gd', 'H', 'P']              [11.0757, 13.0433, 25.7014]  [90.0, 90.0, 90.0]                  0.302002\n",
      "NICJOA              ['C', 'O', 'Cu', 'H', 'Ba']             [12.888, 15.0279, 15.028]    [112.1738, 106.611, 106.6104]       0.68602\n",
      "NICJUG              ['C', 'O', 'Ba', 'Cu', 'H']             [12.564, 16.581, 16.581]     [113.8477, 104.6301, 104.63]        0.673929\n",
      "NICZAA01            ['Cd', 'N', 'H', 'C', 'F']              [10.9262, 10.9262, 10.9262]  [66.5468, 66.5468, 66.5468]         0.0821478\n",
      "NIFTIH              ['H', 'C', 'O', 'N', 'Cd']              [14.766, 17.6409, 17.6409]   [79.9123, 65.2591, 65.259]          0.0957221\n",
      "NIGBOW              ['V', 'O', 'C']                         [6.957, 15.2588, 15.2588]    [84.7587, 76.8226, 76.8226]         0.395103\n",
      "NIGFIT              ['O', 'Er', 'H', 'C']                   [10.8894, 10.8894, 19.6803]  [75.7156, 75.7156, 64.6726]         0.875496\n",
      "NIGFUF              ['Dy', 'H', 'C', 'O']                   [10.9097, 10.9097, 19.51]    [75.4687, 75.4687, 64.1082]         0.614329\n",
      "NIGGAM              ['O', 'Ho', 'H', 'C']                   [10.9051, 10.9051, 19.698]   [75.6385, 75.6385, 64.5543]         0.412295\n",
      "NIGGEQ              ['Tm', 'H', 'C', 'O']                   [10.8662, 10.8662, 19.632]   [75.6105, 75.6105, 64.4765]         0.567246\n",
      "NIGGIU              ['O', 'Yb', 'H', 'C']                   [10.8308, 10.8308, 19.557]   [75.6925, 75.6925, 64.7067]         0.844694\n",
      "NIHBEM01            ['Fe', 'O', 'H', 'C']                   [9.9023, 11.339, 14.8766]    [90.9594, 90.0, 90.0]               0.27997\n",
      "NIHBEM02            ['Fe', 'O', 'H', 'C']                   [9.9922, 11.4136, 14.9707]   [91.1216, 90.0, 90.0]               0.273919\n",
      "NIHBEM              ['Fe', 'O', 'H', 'C']                   [9.8459, 11.2911, 14.825]    [90.8266, 90.0, 90.0]               0.283743\n",
      "NIHBIQ01            ['Fe', 'O', 'H', 'C']                   [10.0705, 11.4667, 15.2124]  [90.8908, 90.0, 90.0]               0.266214\n",
      "NIHBIQ02            ['Fe', 'O', 'H', 'C']                   [10.1568, 11.5008, 15.283]   [90.9464, 90.0, 90.0]               0.261958\n",
      "NIHBIQ              ['Fe', 'O', 'H', 'C']                   [10.0224, 11.4488, 15.1754]  [90.8601, 90.0, 90.0]               0.268561\n",
      "NIJZIP01            ['Cu', 'Nd', 'H', 'C', 'O']             [14.751, 15.0645, 15.0645]   [120.0, 90.0, 90.0]                 0.981912\n",
      "NIJZOV              ['Cu', 'Er', 'C', 'O']                  [14.516, 14.516, 15.279]     [90.0, 90.0, 120.0]                 1.26779\n",
      "NIKDAM              ['H', 'C', 'N', 'Ce', 'O']              [8.509, 17.1579, 17.1579]    [61.292, 82.5055, 82.5055]          0.245887\n",
      "NIKDEQ              ['H', 'C', 'N', 'O', 'Gd']              [10.4562, 10.4562, 14.264]   [83.3213, 83.3213, 85.3259]         0.14471\n",
      "NIKYOW01            ['Fe', 'O', 'H', 'C']                   [9.8862, 11.3577, 14.4959]   [91.2516, 90.0, 90.0]               0.287345\n",
      "NIKYOW02            ['Fe', 'O', 'H', 'C']                   [9.9627, 11.4207, 14.5907]   [91.4249, 90.0, 90.0]               0.281744\n",
      "NIKYOW              ['Fe', 'O', 'H', 'C']                   [9.8474, 11.3369, 14.4507]   [91.1417, 90.0, 90.0]               0.289899\n",
      "NIKYUC01            ['Fe', 'O', 'H', 'C']                   [9.9803, 11.4525, 14.8619]   [91.278, 90.0, 90.0]                0.275331\n",
      "NIKYUC02            ['Fe', 'O', 'H', 'C']                   [10.0853, 11.52, 14.9596]    [91.4664, 90.0, 90.0]               0.26912\n",
      "NIKYUC              ['Fe', 'O', 'H', 'C']                   [9.9146, 11.4081, 14.844]    [91.1659, 90.0, 90.0]               0.278558\n",
      "NIKZAJ01            ['Fe', 'O', 'H', 'C']                   [9.8058, 11.3416, 14.5534]   [91.1962, 90.0, 90.0]               0.28896\n",
      "NIKZAJ              ['Fe', 'O', 'H', 'C']                   [9.7577, 11.319, 14.5156]    [91.0617, 90.0, 90.0]               0.291709\n"
     ]
    }
   ],
   "source": [
    "import math\n",
    "import os\n",
    "os.chdir('C:\\\\Kutay\\\\IPMOF')\n",
    "from energyMapFunctions import *\n",
    "\n",
    "# Initialize force field parameters\n",
    "excelFileDir = 'C:\\\\Users\\\\kutay\\\\iPython\\\\IPMOF\\\\FF_Parameters.xlsx'\n",
    "UFF = readFFparameters(excelFileDir, 'UFF')\n",
    "cutOff = 13\n",
    "\n",
    "# Read radius list from the excel file\n",
    "radiusList = readAtomRadius()\n",
    "\n",
    "# Generate MOF list\n",
    "fileDir = 'C:\\\\Kutay\\\\REFMOFs'\n",
    "fileFormat = \".mol2\"\n",
    "MOFlist = generateMOFlist(fileDir, fileFormat)\n",
    "MOFnames = []\n",
    "\n",
    "MOFs = []\n",
    "for MOFindex, mof in enumerate(MOFlist):\n",
    "    MOFs.append(MOF())\n",
    "    MOFs[MOFindex].dir = fileDir + '\\\\' + mof\n",
    "    MOFs[MOFindex].file = open(MOFs[MOFindex].dir, 'r')\n",
    "    MOFs[MOFindex].initialize()\n",
    "    MOFs[MOFindex].initializeFF(UFF)\n",
    "    \n",
    "    # Calculate void fraction\n",
    "    atomVolumes = atomicVolume(MOFs[MOFindex], radiusList)\n",
    "    UnitCellVolume = ucv(MOFs[MOFindex])\n",
    "    MOFs[MOFindex].atomDensity = atomVolumes / UnitCellVolume\n",
    " \n",
    "    # Calculate packing for base MOF\n",
    "    packingFactor = Packing.factor(MOFs[MOFindex].UCsize, cutOff)\n",
    "    MOFs[MOFindex].packingFactor = packingFactor\n",
    "    translationVectors, UCvectors = Packing.vectors(packingFactor, MOFs[MOFindex].UCsize, MOFs[MOFindex].UCangle)\n",
    "    MOFs[MOFindex].packedCoor = Packing.UC(translationVectors, packingFactor, UCvectors, MOFs[MOFindex].atomCoor)\n",
    "    MOFs[MOFindex].edgePoints = Packing.edgePoints(UCvectors)\n",
    "\n",
    "from tabulate import tabulate\n",
    "\n",
    "#headers = [\"MOF Name\", \"Atoms\", \"UCsize\", \"UCangle\", \"Packing Factor\"]\n",
    "headers = [\"MOF Name\", \"Atoms\", \"UCsize\", \"UCangle\", \"Atom Density\"]\n",
    "table = [[] for mof in MOFs]\n",
    "\n",
    "for MOFindex in range(len(MOFs)):\n",
    "    MOFname = MOFlist[MOFindex].split('.')[0]\n",
    "    MOFname = MOFname.split('_')[0]\n",
    "    MOFnames.append(MOFname)\n",
    "    MOFs[MOFindex]\n",
    "    table[MOFindex].append(MOFname)\n",
    "    table[MOFindex].append(MOFs[MOFindex].uniqueAtomNames)\n",
    "    table[MOFindex].append(MOFs[MOFindex].UCsize)\n",
    "    table[MOFindex].append(MOFs[MOFindex].UCangle)\n",
    "    table[MOFindex].append(MOFs[MOFindex].atomDensity)\n",
    "\n",
    "print(tabulate(table, headers))"
   ]
  },
  {
   "cell_type": "code",
   "execution_count": 2,
   "metadata": {
    "collapsed": false
   },
   "outputs": [
    {
     "name": "stdout",
     "output_type": "stream",
     "text": [
      "MOF Name         Atoms                               Average Energy Limit\n",
      "---------------  --------------------------------  ----------------------\n",
      "AgH6_CN2_3       ['N', 'H', 'Ag', 'C']                        2.85244e+12\n",
      "Cd2H26C17_NO2_6  ['O', 'N', 'H', 'Cd', 'C']                   4.15211e+12\n",
      "Cd2HC9NO8        ['O', 'N', 'H', 'Cd', 'C']                   4.15211e+12\n",
      "Co3H16_C9O7_2    ['Co', 'O', 'H', 'C']                        2.85244e+12\n",
      "CuNiH8C12_N2O_4  ['Ni', 'O', 'N', 'H', 'Cu', 'C']             3.78561e+12\n",
      "MgH2_CO2_2       ['O', 'H', 'Mg', 'C']                        2.85244e+12\n",
      "MOF5             ['Zn', 'O', 'H', 'C']                        2.85244e+12\n",
      "NiH6_C7O3_2      ['Ni', 'O', 'H', 'C']                        2.85244e+12\n",
      "YbH17C30_NO3_2   ['O', 'N', 'H', 'C', 'Yb']                   4.15211e+12\n",
      "Zn2H22C27_NO_8   ['Zn', 'O', 'N', 'H', 'C']                   4.15211e+12\n",
      "Zn4H12C24O13     ['Zn', 'O', 'H', 'C']                        2.85244e+12\n",
      "Zn7_PO4_6        ['Zn', 'O', 'P']                             1.57378e+12\n",
      "AgH6_CN2_3.js is exported\n",
      "AgH6_CN2_3+AgH6_CN2_3_eMap.js is exported\n",
      "Cd2H26C17_NO2_6.js is exported\n",
      "AgH6_CN2_3+Cd2H26C17_NO2_6_eMap.js is exported\n",
      "Cd2HC9NO8.js is exported\n",
      "AgH6_CN2_3+Cd2HC9NO8_eMap.js is exported\n",
      "Co3H16_C9O7_2.js is exported\n",
      "AgH6_CN2_3+Co3H16_C9O7_2_eMap.js is exported\n",
      "CuNiH8C12_N2O_4.js is exported\n",
      "AgH6_CN2_3+CuNiH8C12_N2O_4_eMap.js is exported\n",
      "MgH2_CO2_2.js is exported\n",
      "AgH6_CN2_3+MgH2_CO2_2_eMap.js is exported\n",
      "MOF5.js is exported\n",
      "AgH6_CN2_3+MOF5_eMap.js is exported\n",
      "NiH6_C7O3_2.js is exported\n",
      "AgH6_CN2_3+NiH6_C7O3_2_eMap.js is exported\n",
      "YbH17C30_NO3_2.js is exported\n",
      "AgH6_CN2_3+YbH17C30_NO3_2_eMap.js is exported\n",
      "Zn2H22C27_NO_8.js is exported\n",
      "AgH6_CN2_3+Zn2H22C27_NO_8_eMap.js is exported\n",
      "Zn4H12C24O13.js is exported\n",
      "AgH6_CN2_3+Zn4H12C24O13_eMap.js is exported\n",
      "Zn7_PO4_6.js is exported\n",
      "AgH6_CN2_3+Zn7_PO4_6_eMap.js is exported\n"
     ]
    }
   ],
   "source": [
    "# Creates atom list for non-repeating atoms from a list of MOF classes\n",
    "atomList = getUniqueAtomList(MOFs)\n",
    "\n",
    "# Creates atom list required in the energy map of a combination of MOFs\n",
    "eMapAtomList = getEnergyMapAtomList(MOFs, atomList)\n",
    "\n",
    "# Directory and format to export energy map and MOF structure files\n",
    "exportFolder = \"C:\\\\Users\\\\kutay\\\\iPython\\\\IPMOF\\\\initializeIPMOF\"\n",
    "exportFormat = \".js\"\n",
    "\n",
    "for MOFindex in range(len(MOFs)-11):  \n",
    "        \n",
    "    # Get MOF name for base MOF from the .mol2 file list\n",
    "    MOFname = MOFlist[MOFindex].split('.')[0]\n",
    "    \n",
    "    # Create export directory for the base MOF and create folder\n",
    "    exportMOFfolder = os.path.join(exportFolder, MOFname)\n",
    "    os.mkdir(exportMOFfolder)\n",
    "    \n",
    "    # --------------------- Calculate Energy Map -------------------\n",
    "    # For each MOF energy map is calculated with an atom list that consists of all the unique atoms \n",
    "    # for a given list of MOFs\n",
    "    eMap = energyMap(MOFs[MOFindex], atomList, cutOff, 1)\n",
    "    \n",
    "    avgEnergyLimits = calculateEnergyLimits(MOFindex, MOFs, MOFlist, eMapAtomList, eMap)\n",
    "    \n",
    "    for MOFindex2 in range(len(MOFs)):\n",
    "        \n",
    "        # Get MOF name for mobile MOF from the .mol2 file list\n",
    "        MOFname2 = MOFlist[MOFindex2].split('.')[0]\n",
    "        \n",
    "        # Create export directory for the mobile MOF and create folder\n",
    "        exportMOFfolder2 = os.path.join(exportMOFfolder, MOFname2)\n",
    "        os.mkdir(exportMOFfolder2)\n",
    "        \n",
    "        # Create export directory for mobile MOF\n",
    "        exportDir_MOF = os.path.join(exportMOFfolder2, MOFname2 + exportFormat)\n",
    "        exportMOFjs(MOFs[MOFindex2], exportDir_MOF)\n",
    "        print(exportDir_MOF.split(\"\\\\\")[-1] + ' is exported')\n",
    "             \n",
    "        # Create export directory for energy map\n",
    "        exportDir_eMap = os.path.join(exportMOFfolder2, MOFname + '+' + MOFname2 + '_eMap' + exportFormat)\n",
    "        exportUniqueEnergyMapjs(eMap, avgEnergyLimits[MOFindex2], eMapAtomList, MOFindex2, exportDir_eMap)\n",
    "        print(exportDir_eMap.split(\"\\\\\")[-1] + ' is exported')\n",
    "        \n",
    "        # Export base MOF structure\n",
    "        exportDir_baseMOF = os.path.join(exportMOFfolder2, MOFname + exportFormat)\n",
    "        exportBaseMOFjs(MOFs[MOFindex], exportDir_baseMOF)"
   ]
  },
  {
   "cell_type": "code",
   "execution_count": 7,
   "metadata": {
    "collapsed": false
   },
   "outputs": [
    {
     "data": {
      "text/plain": [
       "424"
      ]
     },
     "execution_count": 7,
     "metadata": {},
     "output_type": "execute_result"
    }
   ],
   "source": [
    "# Calculate Energy Map\n",
    "# eMap = energyMap(MOF2, atomList, cutOff, 1)\n",
    "\n",
    "#plotEnergyMap(eMap, 90, 0)\n",
    "#plotPackedCell(MOF2.packedCoor, 90, 0)\n",
    "\n",
    "# Create export directory for the energy map\n",
    "#MOFname = MOFlist[MOFselection].split('.')[0]\n",
    "#MOFname = 'MOFX'\n",
    "#exportFolder = \"C:\\\\Users\\\\kutay\\\\iPython\\\\IPMOF\\\\multipleMOF\"\n",
    "#exportFormat = \".js\"\n",
    "#exportDir_eMap = os.path.join(exportFolder, MOFname + '_eMap' + exportFormat)\n",
    "#exportDir_MOF = os.path.join(exportFolder, MOFname + exportFormat)\n",
    "#print(exportDir_eMap)\n",
    "#print(exportDir_MOF)\n",
    "\n",
    "#eMapDir = \"C:\\\\Users\\\\kutay\\\\iPython\\\\IPMOF\\\\eMap.js\"\n",
    "#exportEnergyMapjs(eMap, atomList, exportDir_eMap)\n",
    "\n",
    "#MOFexportDir = \"C:\\\\Users\\\\kutay\\\\iPython\\\\IPMOF\\\\MOF.js\"\n",
    "#exportMOFjs(MOF2, exportDir_MOF)\n",
    "\n",
    "len(MOFs[6].atomCoor)"
   ]
  },
  {
   "cell_type": "code",
   "execution_count": 65,
   "metadata": {
    "collapsed": false
   },
   "outputs": [],
   "source": [
    "def findREFcodes(MOFnames):\n",
    "    import os \n",
    "\n",
    "    cifDirectory = \"C:\\\\Users\\\\kutay\\\\Desktop\\\\final_cifs\"\n",
    "    cifList = os.listdir(cifDirectory)\n",
    "    os.chdir(cifDirectory)\n",
    "\n",
    "    MOFformula = []\n",
    "    for cifIndex, cifDir in enumerate(cifList):\n",
    "        cifFile = open(cifDir, 'r')\n",
    "        cifFile.readline()\n",
    "        formulaLine = cifFile.readline()\n",
    "        formula = formulaLine.split('_')[-1]\n",
    "        formula = formula[0:len(formula)-1]\n",
    "        MOFformula.append(formula)\n",
    "        cifFile.close()\n",
    "        cifList[cifIndex] = cifList[cifIndex].split('_')[0]\n",
    "\n",
    "    REFcodes = [[] for i in range(len(MOFnames))]\n",
    "    for cifIndex, formula in enumerate(MOFformula):\n",
    "        for MOFindex, MOFname in enumerate(MOFnames):\n",
    "            if formula in MOFname:\n",
    "                REFcodes[MOFindex].append(cifList[cifIndex])\n",
    "                \n",
    "    return REFcodes"
   ]
  },
  {
   "cell_type": "code",
   "execution_count": 66,
   "metadata": {
    "collapsed": false
   },
   "outputs": [],
   "source": [
    "REFcodes = findREFcodes(MOFnames)"
   ]
  },
  {
   "cell_type": "code",
   "execution_count": 4,
   "metadata": {
    "collapsed": false
   },
   "outputs": [
    {
     "data": {
      "text/plain": [
       "[[9.363, 0, 0],\n",
       " [-0.5266867638239668, 9.348174690965752, 0],\n",
       " [-0.5266867638239668, -0.5571961681359049, 9.331554130102193]]"
      ]
     },
     "execution_count": 4,
     "metadata": {},
     "output_type": "execute_result"
    }
   ],
   "source": [
    "UCvectors"
   ]
  },
  {
   "cell_type": "code",
   "execution_count": 15,
   "metadata": {
    "collapsed": false
   },
   "outputs": [
    {
     "data": {
      "text/plain": [
       "[[0, 0, 0],\n",
       " [6.5647, 0, 0],\n",
       " [-1.4670218892460913, 6.398682119504987, 0],\n",
       " [-1.9346261542700438, -2.428371802279931, 10.913965412860076],\n",
       " [5.097678110753909, 6.398682119504987, 0],\n",
       " [-3.4016480435161354, 3.970310317225056, 10.913965412860076],\n",
       " [4.630073845729957, -2.428371802279931, 8.979339258590032],\n",
       " [3.1630519564838657, 3.970310317225056, 10.913965412860076]]"
      ]
     },
     "execution_count": 15,
     "metadata": {},
     "output_type": "execute_result"
    }
   ],
   "source": [
    "MOFs[0].edgePoints"
   ]
  },
  {
   "cell_type": "code",
   "execution_count": 2,
   "metadata": {
    "collapsed": false
   },
   "outputs": [],
   "source": [
    "UCedges = Packing.edgePoints(UCvectors)"
   ]
  },
  {
   "cell_type": "code",
   "execution_count": 3,
   "metadata": {
    "collapsed": false
   },
   "outputs": [
    {
     "data": {
      "text/plain": [
       "[[0, 0, 0],\n",
       " [9.363, 0, 0],\n",
       " [-0.5266867638239668, 9.348174690965752, 0],\n",
       " [-0.5266867638239668, -0.5571961681359049, 9.331554130102193],\n",
       " [8.836313236176032, 9.348174690965752, 0],\n",
       " [-1.0533735276479337, 8.790978522829848, 9.331554130102193],\n",
       " [8.836313236176032, -0.5571961681359049, 8.804867366278225],\n",
       " [8.309626472352065, 8.790978522829848, 9.331554130102193]]"
      ]
     },
     "execution_count": 3,
     "metadata": {},
     "output_type": "execute_result"
    }
   ],
   "source": [
    "UCedges"
   ]
  },
  {
   "cell_type": "code",
   "execution_count": 6,
   "metadata": {
    "collapsed": false
   },
   "outputs": [
    {
     "name": "stdout",
     "output_type": "stream",
     "text": [
      "Populating the interactive namespace from numpy and matplotlib\n"
     ]
    },
    {
     "data": {
      "image/png": "[encoded data removed]",
      "text/plain": [
       "<matplotlib.figure.Figure at 0x8c13570>"
      ]
     },
     "metadata": {},
     "output_type": "display_data"
    }
   ],
   "source": [
    "%pylab inline\n",
    "plotXYZ(UCedges,0,0)"
   ]
  },
  {
   "cell_type": "code",
   "execution_count": 3,
   "metadata": {
    "collapsed": false
   },
   "outputs": [
    {
     "data": {
      "text/plain": [
       "[[0.9489, -1.7407, 9.5203],\n",
       " [2.7881, -0.7292, 5.3304],\n",
       " [0.2129, -1.9658, 9.1372],\n",
       " [2.0875, -1.04, 4.9386],\n",
       " [-0.9415, 1.7501, 4.0633],\n",
       " [-0.9964, 0.9824, 3.6802],\n",
       " [-1.4779, 4.1248, 2.6854],\n",
       " [3.3834, -1.7329, 8.1424],\n",
       " [-1.9491, 4.2543, 9.6119],\n",
       " [0.552, 5.4013, 4.0829],\n",
       " [-1.3248, 4.3508, 7.6856],\n",
       " [-0.373, 4.8038, 5.6698],\n",
       " [-2.4657, 4.0014, 7.1192],\n",
       " [-0.2169, 4.7361, 7.0122],\n",
       " [-1.4326, 4.3374, 5.0281],\n",
       " [5.5496, 0.265, 4.1549],\n",
       " [5.5041, 0.8952, 2.2286],\n",
       " [5.733, 1.9241, 0.2128],\n",
       " [5.4185, -0.295, 1.6622],\n",
       " [5.6321, 2.0611, 1.5552],\n",
       " [3.5805, -1.6412, 10.485],\n",
       " [4.174, 0.5309, 9.5399],\n",
       " [2.364, 3.0992, 5.6611],\n",
       " [3.0289, 3.2646, 4.3394],\n",
       " [4.1094, 3.8793, 5.7986],\n",
       " [3.0402, 3.3513, 5.195],\n",
       " [3.4598, 4.211, 0.2041],\n",
       " [3.8302, 6.0866, 0.3416],\n",
       " [-2.3011, 1.3405, 10.7874],\n",
       " [-2.4475, 0.5881, 10.3956],\n",
       " [1.5379, 2.4677, 9.7964],\n",
       " [1.6199, 2.498, 10.652]]"
      ]
     },
     "execution_count": 3,
     "metadata": {},
     "output_type": "execute_result"
    }
   ],
   "source": [
    "MOFs[0].atomCoor"
   ]
  },
  {
   "cell_type": "code",
   "execution_count": 7,
   "metadata": {
    "collapsed": false
   },
   "outputs": [],
   "source": [
    "sortedX = sorted(MOFs[0].atomCoor, key=lambda x: x[0], reverse=True)\n",
    "sortedY = sorted(MOFs[0].atomCoor, key=lambda y: y[1], reverse=True)\n",
    "sortedZ = sorted(MOFs[0].atomCoor, key=lambda z: z[2], reverse=True)"
   ]
  },
  {
   "cell_type": "code",
   "execution_count": 10,
   "metadata": {
    "collapsed": false
   },
   "outputs": [
    {
     "data": {
      "text/plain": [
       "[6.5647, 6.5647, 11.347]"
      ]
     },
     "execution_count": 10,
     "metadata": {},
     "output_type": "execute_result"
    }
   ],
   "source": [
    "MOFs[0].UCsize"
   ]
  },
  {
   "cell_type": "code",
   "execution_count": 14,
   "metadata": {
    "collapsed": false
   },
   "outputs": [
    {
     "data": {
      "text/plain": [
       "[5.733, 6.0866, 10.7874]"
      ]
     },
     "execution_count": 14,
     "metadata": {},
     "output_type": "execute_result"
    }
   ],
   "source": [
    "[sortedX[0][0], sortedY[0][1], sortedZ[0][2]]"
   ]
  },
  {
   "cell_type": "code",
   "execution_count": 2,
   "metadata": {
    "collapsed": false
   },
   "outputs": [
    {
     "data": {
      "text/plain": [
       "[[0, 0, 0],\n",
       " [6.5647, 0, 0],\n",
       " [-1.4670218892460913, 6.398682119504987, 0],\n",
       " [-1.9346261542700438, -2.428371802279931, 10.913965412860076],\n",
       " [5.097678110753909, 6.398682119504987, 0],\n",
       " [-3.4016480435161354, 3.970310317225056, 10.913965412860076],\n",
       " [4.630073845729957, -2.428371802279931, 10.913965412860076],\n",
       " [3.1630519564838657, 3.970310317225056, 10.913965412860076]]"
      ]
     },
     "execution_count": 2,
     "metadata": {},
     "output_type": "execute_result"
    }
   ],
   "source": [
    "MOFs[0].edgePoints"
   ]
  },
  {
   "cell_type": "code",
   "execution_count": 8,
   "metadata": {
    "collapsed": false
   },
   "outputs": [
    {
     "data": {
      "text/plain": [
       "-1"
      ]
     },
     "execution_count": 8,
     "metadata": {},
     "output_type": "execute_result"
    }
   ],
   "source": [
    "import math\n",
    "\n",
    "math.ceil(-1.23)"
   ]
  },
  {
   "cell_type": "code",
   "execution_count": 6,
   "metadata": {
    "collapsed": false
   },
   "outputs": [
    {
     "name": "stdout",
     "output_type": "stream",
     "text": [
      "[6.5647, 6.398682119504987, 10.913965412860076]\n",
      "[-3.4016480435161354, -2.428371802279931, 0]\n"
     ]
    }
   ],
   "source": [
    "sortedX = sorted(MOFs[0].edgePoints, key=lambda x: x[0], reverse=True)\n",
    "sortedY = sorted(MOFs[0].edgePoints, key=lambda y: y[1], reverse=True)\n",
    "sortedZ = sorted(MOFs[0].edgePoints, key=lambda z: z[2], reverse=True)\n",
    "eMapMax = [sortedX[0][0], sortedY[0][1], sortedZ[0][2]]\n",
    "eMapMin = [sortedX[-1][0], sortedY[-1][1], sortedZ[-1][2]]\n",
    "print(eMapMax)\n",
    "print(eMapMin)"
   ]
  },
  {
   "cell_type": "code",
   "execution_count": null,
   "metadata": {
    "collapsed": false
   },
   "outputs": [],
   "source": [
    "MO"
   ]
  },
  {
   "cell_type": "code",
   "execution_count": 2,
   "metadata": {
    "collapsed": false
   },
   "outputs": [
    {
     "data": {
      "text/plain": [
       "[99.8167, 99.8167, 102.913]"
      ]
     },
     "execution_count": 2,
     "metadata": {},
     "output_type": "execute_result"
    }
   ],
   "source": [
    "MOFs[0].UCangle"
   ]
  },
  {
   "cell_type": "code",
   "execution_count": 6,
   "metadata": {
    "collapsed": false
   },
   "outputs": [
    {
     "data": {
      "text/plain": [
       "3.141592653589793"
      ]
     },
     "execution_count": 6,
     "metadata": {},
     "output_type": "execute_result"
    }
   ],
   "source": [
    "math.pi"
   ]
  },
  {
   "cell_type": "code",
   "execution_count": null,
   "metadata": {
    "collapsed": true
   },
   "outputs": [],
   "source": []
  }
 ],
 "metadata": {
  "kernelspec": {
   "display_name": "Python 3",
   "language": "python",
   "name": "python3"
  },
  "language_info": {
   "codemirror_mode": {
    "name": "ipython",
    "version": 3
   },
   "file_extension": ".py",
   "mimetype": "text/x-python",
   "name": "python",
   "nbconvert_exporter": "python",
   "pygments_lexer": "ipython3",
   "version": "3.5.1"
  }
 },
 "nbformat": 4,
 "nbformat_minor": 0
}
