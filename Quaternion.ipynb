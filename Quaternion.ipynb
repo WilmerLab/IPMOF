{
 "cells": [
  {
   "cell_type": "markdown",
   "metadata": {},
   "source": [
    "#### Quaternion class\n",
    " - Basic quaternion operations\n",
    " - Rotation of a point by an arbitrary axis in 3D space"
   ]
  },
  {
   "cell_type": "code",
   "execution_count": 1,
   "metadata": {
    "collapsed": false
   },
   "outputs": [],
   "source": [
    "import math\n",
    "import os\n",
    "# os.chdir(r'Enter Python Library Directory')\n",
    "#os.chdir(r'C:\\Kutay\\IPMOF\\IPMOF_Python')\n",
    "os.chdir(r'/home/kutay/Documents/git/IPMOF/IPMOF_Python')\n",
    "from quaternion import Quaternion"
   ]
  },
  {
   "cell_type": "code",
   "execution_count": 2,
   "metadata": {
    "collapsed": false
   },
   "outputs": [
    {
     "name": "stdout",
     "output_type": "stream",
     "text": [
      "Multiplication: -3.2 2.7 3.5\n",
      "Division: 2.533333333333333 0.03333333333333344 4.233333333333333\n",
      "Inverse: [-0.07892659826361484, -0.17758484609313338, -0.011838989739542225]\n"
     ]
    }
   ],
   "source": [
    "# Define new quaternion object Quaternion([w, x, y, z])\n",
    "q1 = Quaternion([0 , 1, 1, 1])\n",
    "q2 = Quaternion([1, 2, 4.5, 0.3])\n",
    "q3 = q1 * q2\n",
    "q4 = q3 / q1\n",
    "print('Multiplication: ' + str(q3.x) + ' ' + str(q3.y) + ' ' + str(q3.z))\n",
    "print('Division: ' + str(q4.x) + ' ' + str(q4.y) + ' ' + str(q4.z))\n",
    "print('Inverse: ' + str(q2.inv().xyz()))"
   ]
  },
  {
   "cell_type": "code",
   "execution_count": 3,
   "metadata": {
    "collapsed": false
   },
   "outputs": [
    {
     "name": "stdout",
     "output_type": "stream",
     "text": [
      "Rotation of point [1, 2, 3] around an axis defined by\n",
      "two points in space: [2, 5, 4] and [-2, 0.3, 6]\n",
      "is given by: [2.1192250600275795, 2.2773560513200133, 5.890236840657188]\n"
     ]
    }
   ],
   "source": [
    "rotation_point = [1,2,3]\n",
    "axis_point1 = [2,5,4]\n",
    "axis_point2 = [-2,0.3,6]\n",
    "rotation_angle = math.pi / 2 # Rotation angle needs to be given in radians\n",
    "\n",
    "# Result of the rotation is not effected by the initial w, x, y, z of the quaternion \n",
    "Q = Quaternion([0, 1, 1, 1])\n",
    "Q = Q.rotation(rotation_point, axis_point1, axis_point2, math.pi/2)\n",
    "print('Rotation of point ' + str(rotation_point) + ' around an axis defined by')\n",
    "print('two points in space: ' + str(axis_point1) + ' and ' + str(axis_point2))\n",
    "print('is given by: ' + str(Q.xyz()))"
   ]
  },
  {
   "cell_type": "code",
   "execution_count": null,
   "metadata": {
    "collapsed": true
   },
   "outputs": [],
   "source": []
  }
 ],
 "metadata": {
  "kernelspec": {
   "display_name": "Python 3",
   "language": "python",
   "name": "python3"
  },
  "language_info": {
   "codemirror_mode": {
    "name": "ipython",
    "version": 3
   },
   "file_extension": ".py",
   "mimetype": "text/x-python",
   "name": "python",
   "nbconvert_exporter": "python",
   "pygments_lexer": "ipython3",
   "version": "3.5.1"
  }
 },
 "nbformat": 4,
 "nbformat_minor": 0
}
